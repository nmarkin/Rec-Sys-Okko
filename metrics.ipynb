{
  "cells": [
    {
      "cell_type": "markdown",
      "metadata": {
        "id": "view-in-github",
        "colab_type": "text"
      },
      "source": [
        "<a href=\"https://colab.research.google.com/github/nmarkin/Rec-Sys-Okko/blob/main/metrics.ipynb\" target=\"_parent\"><img src=\"https://colab.research.google.com/assets/colab-badge.svg\" alt=\"Open In Colab\"/></a>"
      ]
    },
    {
      "cell_type": "markdown",
      "metadata": {
        "id": "nv1ps50TC4Dw"
      },
      "source": [
        "# 0. Configuration"
      ]
    },
    {
      "cell_type": "code",
      "execution_count": null,
      "metadata": {
        "id": "Hj4WqvPFC4Dz"
      },
      "outputs": [],
      "source": [
        "#TODO - add formulae in line with functions"
      ]
    },
    {
      "cell_type": "markdown",
      "metadata": {
        "id": "XyCdOsTAC4D0"
      },
      "source": [
        "# 1. Modules and functions"
      ]
    },
    {
      "cell_type": "code",
      "execution_count": 5,
      "metadata": {
        "id": "CDvUOgBoC4D1"
      },
      "outputs": [],
      "source": [
        "import numpy as np\n",
        "from math import log2"
      ]
    },
    {
      "cell_type": "markdown",
      "metadata": {
        "id": "Kl0PPCWBC4D1"
      },
      "source": [
        "# 2. Main"
      ]
    },
    {
      "cell_type": "markdown",
      "metadata": {
        "id": "h1FTGfAkC4D1"
      },
      "source": [
        "## 2.1. Precision@K"
      ]
    },
    {
      "cell_type": "code",
      "execution_count": null,
      "metadata": {
        "id": "ip5o766cC4D2"
      },
      "outputs": [],
      "source": [
        "def precission_at_k(y_true: np.array, y_pred: np.array, k: int) -> float:\n",
        "    \"\"\"\n",
        "    y_true: true labels\n",
        "    y_pred: predicted lables\n",
        "    k: cutoff length\n",
        "    \"\"\"\n",
        "\n",
        "    if sum(y_true) == 0:\n",
        "        return -1\n",
        "\n",
        "    argsort = np.argsort(y_pred)[::-1]\n",
        "    y_true_sorted = y_true[argsort]\n",
        "    true_positives = y_true_sorted[:k].sum()\n",
        "\n",
        "    return true_positives / k\n"
      ]
    },
    {
      "cell_type": "code",
      "execution_count": null,
      "metadata": {
        "id": "qdzMVLS9C4D2"
      },
      "outputs": [],
      "source": [
        "# example array\n",
        "y_true = np.array([1, 0, 0, 1, 0, 0])\n",
        "y_pred = np.array([6, 2, 3, 5, 4, 1])"
      ]
    },
    {
      "cell_type": "code",
      "execution_count": null,
      "metadata": {
        "id": "FhX12w6EC4D2",
        "outputId": "32989d96-6fc9-40be-8d0a-a675865b2420"
      },
      "outputs": [
        {
          "data": {
            "text/plain": [
              "array([0, 3, 4, 2, 1, 5])"
            ]
          },
          "execution_count": 5,
          "metadata": {},
          "output_type": "execute_result"
        }
      ],
      "source": [
        "argsort = np.argsort(y_pred)[::-1]\n",
        "argsort"
      ]
    },
    {
      "cell_type": "code",
      "execution_count": null,
      "metadata": {
        "id": "__RFqN34C4D3",
        "outputId": "aa5abd9c-02d7-485f-9dd8-d66c17988cfa"
      },
      "outputs": [
        {
          "data": {
            "text/plain": [
              "array([1, 1, 0, 0, 0, 0])"
            ]
          },
          "execution_count": 6,
          "metadata": {},
          "output_type": "execute_result"
        }
      ],
      "source": [
        "y_true_sorted = y_true[argsort]\n",
        "y_true_sorted"
      ]
    },
    {
      "cell_type": "code",
      "execution_count": null,
      "metadata": {
        "id": "CTUj5aoDC4D4",
        "outputId": "c66d52ae-2843-42f2-9fd7-881a72b4f30e"
      },
      "outputs": [
        {
          "data": {
            "text/plain": [
              "2"
            ]
          },
          "execution_count": 7,
          "metadata": {},
          "output_type": "execute_result"
        }
      ],
      "source": [
        "true_positives = y_true_sorted[:6].sum()\n",
        "true_positives"
      ]
    },
    {
      "cell_type": "code",
      "execution_count": null,
      "metadata": {
        "id": "gKToXYtbC4D4",
        "outputId": "dd9402e0-d6e8-4caf-e8c7-45804fa800bc"
      },
      "outputs": [
        {
          "data": {
            "text/plain": [
              "0.3333333333333333"
            ]
          },
          "execution_count": 8,
          "metadata": {},
          "output_type": "execute_result"
        }
      ],
      "source": [
        "# as expected\n",
        "precission_at_k(y_true, y_pred, k = 6)"
      ]
    },
    {
      "cell_type": "markdown",
      "metadata": {
        "id": "FtPa1VppC4D4"
      },
      "source": [
        "## 2.2. AP@K, MAP@K"
      ]
    },
    {
      "cell_type": "code",
      "execution_count": null,
      "metadata": {
        "id": "ziYv0DGWC4D4"
      },
      "outputs": [],
      "source": [
        "def average_precision(y_true: np.array, y_pred: np.array, k: int) -> float:\n",
        "\n",
        "    if sum(y_true) == 0:\n",
        "        return -1\n",
        "\n",
        "    if len(y_pred) > k:\n",
        "        y_pred = y_pred[:k]\n",
        "\n",
        "    argsort = np.argsort(y_pred)[::-1]\n",
        "    y_true_sorted = y_true[argsort]\n",
        "\n",
        "    num_hits = 0\n",
        "    score = 0\n",
        "\n",
        "    for i, p in enumerate(y_true_sorted, 1):\n",
        "        if p == 1:\n",
        "            num_hits += 1\n",
        "            score += num_hits / i\n",
        "    if num_hits == 0:\n",
        "        output = 0\n",
        "    \n",
        "    else:\n",
        "        output = score / min(len(y_true), k)\n",
        "\n",
        "    return output\n"
      ]
    },
    {
      "cell_type": "code",
      "execution_count": null,
      "metadata": {
        "id": "UKhiy-xXC4D5",
        "outputId": "fa63ee9c-594b-4714-a39b-c930f9e22a10"
      },
      "outputs": [
        {
          "data": {
            "text/plain": [
              "0.3333333333333333"
            ]
          },
          "execution_count": 10,
          "metadata": {},
          "output_type": "execute_result"
        }
      ],
      "source": [
        "average_precision(y_true, y_pred, k = 3)"
      ]
    },
    {
      "cell_type": "markdown",
      "metadata": {
        "id": "EvC0Kg79C4D5"
      },
      "source": [
        "## 2.3. MRR"
      ]
    },
    {
      "cell_type": "code",
      "execution_count": null,
      "metadata": {
        "id": "cZiigBSXC4D5"
      },
      "outputs": [],
      "source": [
        "def reciprocal_rank(y_true: np.array, y_pred: np.array) -> float:\n",
        "    \n",
        "    argsort = np.argsort(y_pred)[::-1]\n",
        "    y_true_sorted = y_true[argsort]\n",
        "    for i, val in enumerate(y_true_sorted, 1):     \n",
        "        if val == 1:\n",
        "            return 1 / i\n",
        "    return 0\n"
      ]
    },
    {
      "cell_type": "code",
      "execution_count": null,
      "metadata": {
        "id": "Ph6Al1yaC4D5"
      },
      "outputs": [],
      "source": [
        "# example array for MRR\n",
        "y_true = np.array([1, 0, 0, 1, 0, 0])\n",
        "y_pred = np.array([0, 2, 3, 3.5, 4, 1])"
      ]
    },
    {
      "cell_type": "code",
      "execution_count": null,
      "metadata": {
        "id": "yhlp8-UdC4D6",
        "outputId": "07a49af1-39d3-4b69-f07c-9c36bf810a43"
      },
      "outputs": [
        {
          "data": {
            "text/plain": [
              "0.5"
            ]
          },
          "execution_count": 13,
          "metadata": {},
          "output_type": "execute_result"
        }
      ],
      "source": [
        "reciprocal_rank(y_true, y_pred)"
      ]
    },
    {
      "cell_type": "markdown",
      "metadata": {
        "id": "r5jUKrXtC4D6"
      },
      "source": [
        "## 2.4. NDCG"
      ]
    },
    {
      "cell_type": "code",
      "execution_count": null,
      "metadata": {
        "id": "IhFT0J2MC4D6"
      },
      "outputs": [],
      "source": [
        "def compute_gain(y_value: float, gain_scheme: str) -> float:\n",
        "    \n",
        "    gain = {'exp2': 2 ** y_value - 1,\n",
        "            'const': y_value}\n",
        "\n",
        "    return float(gain[gain_scheme])"
      ]
    },
    {
      "cell_type": "code",
      "execution_count": null,
      "metadata": {
        "id": "3j0YdxTUC4D6"
      },
      "outputs": [],
      "source": [
        "def dcg(y_true: np.array, y_pred: np.array, gain_scheme: str) -> float:\n",
        "    \n",
        "    dcg = 0\n",
        "    argsort = np.argsort(y_pred)[::-1]\n",
        "    y_true_sorted = y_true[argsort]\n",
        "\n",
        "    for idx, val in enumerate(y_true_sorted, 1):\n",
        "        gain = compute_gain(val, gain_scheme)\n",
        "        dcg += gain / log2(idx + 1)\n",
        "        \n",
        "    return dcg\n"
      ]
    },
    {
      "cell_type": "code",
      "execution_count": null,
      "metadata": {
        "id": "4DIkOYKjC4D6"
      },
      "outputs": [],
      "source": [
        "def ndcg(y_true: np.array, ys_pred: np.array, gain_scheme: str = 'const') -> float:\n",
        "    \n",
        "    # pred dcg then we calc the same to find max possible\n",
        "    preds_dcg = dcg(y_true, ys_pred, gain_scheme)\n",
        "    max_possible_dcg = dcg(y_true, y_true, gain_scheme)\n",
        "\n",
        "    return preds_dcg / max_possible_dcg\n"
      ]
    },
    {
      "cell_type": "code",
      "execution_count": null,
      "metadata": {
        "id": "2KUypg1MC4D7"
      },
      "outputs": [],
      "source": [
        "y_pred = np.array([6, 5, 4, 3, 2, 1]) # some score to sort\n",
        "y_true = np.array([3, 2, 3, 0, 1, 2])"
      ]
    },
    {
      "cell_type": "code",
      "execution_count": null,
      "metadata": {
        "id": "li0tNft6C4D7",
        "outputId": "0ef6f193-27df-4e39-e9a7-28a8f766592e"
      },
      "outputs": [
        {
          "data": {
            "text/plain": [
              "0.9488107485678985"
            ]
          },
          "execution_count": 18,
          "metadata": {},
          "output_type": "execute_result"
        }
      ],
      "source": [
        "ndcg(y_true, y_pred, 'exp2')"
      ]
    },
    {
      "cell_type": "markdown",
      "metadata": {
        "id": "pxvatv0KC4D7"
      },
      "source": [
        "# TODO\n",
        "- Write MAP@K function;\n",
        "- Modify ndcg() such that it incomporates cutoff param K"
      ]
    },
    {
      "cell_type": "code",
      "source": [
        "# MAP@K\n",
        "def map(y_true: np.array, y_pred: np.array, k: int) -> float:\n",
        "    return np.mean([average_precision(a,p,k) for a,p in zip(y_true, y_pred)])"
      ],
      "metadata": {
        "id": "axJz5tf72k0M"
      },
      "execution_count": null,
      "outputs": []
    },
    {
      "cell_type": "code",
      "source": [
        "# ngcd \n",
        "\n",
        "def compute_gain(y_value: float, gain_scheme: str) -> float:\n",
        "    \n",
        "    gain = {'exp2': 2 ** y_value - 1,\n",
        "            'const': y_value}\n",
        "\n",
        "    return float(gain[gain_scheme])\n",
        "\n",
        "def dcg(y_true: np.array, y_pred: np.array, gain_scheme: str, k: int = None) -> float:\n",
        "    \n",
        "    dcg = 0\n",
        "    argsort = np.argsort(y_pred)[::-1]\n",
        "    y_true_sorted = y_true[argsort]\n",
        "\n",
        "    if k is not None:\n",
        "        argsort = argsort[:k]\n",
        "        y_true_sorted = y_true_sorted[:k]\n",
        "    for idx, val in enumerate(y_true_sorted, 1):\n",
        "        gain = compute_gain(val, gain_scheme)\n",
        "        dcg += gain / log2(idx + 1)\n",
        "        \n",
        "    return dcg\n",
        "\n",
        "def ndcg(y_true: np.array, ys_pred: np.array, gain_scheme: str = 'const', k: int = None) -> float:\n",
        "    \n",
        "    # pred dcg then we calc the same to find max possible\n",
        "    preds_dcg = dcg(y_true, ys_pred, gain_scheme, k)\n",
        "    max_possible_dcg = dcg(y_true, y_true, gain_scheme, k)\n",
        "\n",
        "    return preds_dcg / max_possible_dcg"
      ],
      "metadata": {
        "id": "xBncv4xb2-b-"
      },
      "execution_count": 8,
      "outputs": []
    },
    {
      "cell_type": "code",
      "execution_count": 11,
      "metadata": {
        "outputId": "d5bd75a5-3808-4155-f48a-9a23a7030a1f",
        "colab": {
          "base_uri": "https://localhost:8080/"
        },
        "id": "ODK1bmNu6Fic"
      },
      "outputs": [
        {
          "output_type": "execute_result",
          "data": {
            "text/plain": [
              "0.9594535145926796"
            ]
          },
          "metadata": {},
          "execution_count": 11
        }
      ],
      "source": [
        "ndcg(y_true, y_pred, 'exp2', 3)"
      ]
    }
  ],
  "metadata": {
    "kernelspec": {
      "display_name": "base",
      "language": "python",
      "name": "python3"
    },
    "language_info": {
      "codemirror_mode": {
        "name": "ipython",
        "version": 3
      },
      "file_extension": ".py",
      "mimetype": "text/x-python",
      "name": "python",
      "nbconvert_exporter": "python",
      "pygments_lexer": "ipython3",
      "version": "3.9.7"
    },
    "orig_nbformat": 4,
    "vscode": {
      "interpreter": {
        "hash": "40d3a090f54c6569ab1632332b64b2c03c39dcf918b08424e98f38b5ae0af88f"
      }
    },
    "colab": {
      "provenance": [],
      "include_colab_link": true
    }
  },
  "nbformat": 4,
  "nbformat_minor": 0
}