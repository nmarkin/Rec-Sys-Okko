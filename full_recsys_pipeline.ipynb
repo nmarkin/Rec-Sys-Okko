{
  "cells": [
    {
      "cell_type": "markdown",
      "metadata": {
        "id": "view-in-github",
        "colab_type": "text"
      },
      "source": [
        "<a href=\"https://colab.research.google.com/github/nmarkin/Rec-Sys-Okko/blob/main/full_recsys_pipeline.ipynb\" target=\"_parent\"><img src=\"https://colab.research.google.com/assets/colab-badge.svg\" alt=\"Open In Colab\"/></a>"
      ]
    },
    {
      "cell_type": "markdown",
      "metadata": {
        "id": "m0HFn7hMe9-x"
      },
      "source": [
        "# 0. Configuration"
      ]
    },
    {
      "cell_type": "code",
      "source": [
        "!pip install shap\n",
        "!pip install lightfm\n",
        "!pip install catboost"
      ],
      "metadata": {
        "colab": {
          "base_uri": "https://localhost:8080/",
          "height": 0
        },
        "id": "83kKHwDlmADC",
        "outputId": "69ba6fb7-bbb5-4442-9180-42c2be9abc3d"
      },
      "execution_count": 2,
      "outputs": [
        {
          "output_type": "stream",
          "name": "stdout",
          "text": [
            "Looking in indexes: https://pypi.org/simple, https://us-python.pkg.dev/colab-wheels/public/simple/\n",
            "Collecting shap\n",
            "  Downloading shap-0.41.0-cp39-cp39-manylinux_2_12_x86_64.manylinux2010_x86_64.whl (572 kB)\n",
            "\u001b[2K     \u001b[90m━━━━━━━━━━━━━━━━━━━━━━━━━━━━━━━━━━━━━━━\u001b[0m \u001b[32m572.4/572.4 KB\u001b[0m \u001b[31m9.3 MB/s\u001b[0m eta \u001b[36m0:00:00\u001b[0m\n",
            "\u001b[?25hRequirement already satisfied: scipy in /usr/local/lib/python3.9/dist-packages (from shap) (1.10.1)\n",
            "Requirement already satisfied: tqdm>4.25.0 in /usr/local/lib/python3.9/dist-packages (from shap) (4.65.0)\n",
            "Requirement already satisfied: cloudpickle in /usr/local/lib/python3.9/dist-packages (from shap) (2.2.1)\n",
            "Requirement already satisfied: scikit-learn in /usr/local/lib/python3.9/dist-packages (from shap) (1.2.2)\n",
            "Collecting slicer==0.0.7\n",
            "  Downloading slicer-0.0.7-py3-none-any.whl (14 kB)\n",
            "Requirement already satisfied: pandas in /usr/local/lib/python3.9/dist-packages (from shap) (1.4.4)\n",
            "Requirement already satisfied: numpy in /usr/local/lib/python3.9/dist-packages (from shap) (1.22.4)\n",
            "Requirement already satisfied: numba in /usr/local/lib/python3.9/dist-packages (from shap) (0.56.4)\n",
            "Requirement already satisfied: packaging>20.9 in /usr/local/lib/python3.9/dist-packages (from shap) (23.0)\n",
            "Requirement already satisfied: llvmlite<0.40,>=0.39.0dev0 in /usr/local/lib/python3.9/dist-packages (from numba->shap) (0.39.1)\n",
            "Requirement already satisfied: setuptools in /usr/local/lib/python3.9/dist-packages (from numba->shap) (67.6.1)\n",
            "Requirement already satisfied: python-dateutil>=2.8.1 in /usr/local/lib/python3.9/dist-packages (from pandas->shap) (2.8.2)\n",
            "Requirement already satisfied: pytz>=2020.1 in /usr/local/lib/python3.9/dist-packages (from pandas->shap) (2022.7.1)\n",
            "Requirement already satisfied: joblib>=1.1.1 in /usr/local/lib/python3.9/dist-packages (from scikit-learn->shap) (1.1.1)\n",
            "Requirement already satisfied: threadpoolctl>=2.0.0 in /usr/local/lib/python3.9/dist-packages (from scikit-learn->shap) (3.1.0)\n",
            "Requirement already satisfied: six>=1.5 in /usr/local/lib/python3.9/dist-packages (from python-dateutil>=2.8.1->pandas->shap) (1.16.0)\n",
            "Installing collected packages: slicer, shap\n",
            "Successfully installed shap-0.41.0 slicer-0.0.7\n",
            "Looking in indexes: https://pypi.org/simple, https://us-python.pkg.dev/colab-wheels/public/simple/\n",
            "Collecting lightfm\n",
            "  Downloading lightfm-1.17.tar.gz (316 kB)\n",
            "\u001b[2K     \u001b[90m━━━━━━━━━━━━━━━━━━━━━━━━━━━━━━━━━━━━━━━\u001b[0m \u001b[32m316.4/316.4 KB\u001b[0m \u001b[31m6.7 MB/s\u001b[0m eta \u001b[36m0:00:00\u001b[0m\n",
            "\u001b[?25h  Preparing metadata (setup.py) ... \u001b[?25l\u001b[?25hdone\n",
            "Requirement already satisfied: numpy in /usr/local/lib/python3.9/dist-packages (from lightfm) (1.22.4)\n",
            "Requirement already satisfied: scipy>=0.17.0 in /usr/local/lib/python3.9/dist-packages (from lightfm) (1.10.1)\n",
            "Requirement already satisfied: requests in /usr/local/lib/python3.9/dist-packages (from lightfm) (2.27.1)\n",
            "Requirement already satisfied: scikit-learn in /usr/local/lib/python3.9/dist-packages (from lightfm) (1.2.2)\n",
            "Requirement already satisfied: charset-normalizer~=2.0.0 in /usr/local/lib/python3.9/dist-packages (from requests->lightfm) (2.0.12)\n",
            "Requirement already satisfied: urllib3<1.27,>=1.21.1 in /usr/local/lib/python3.9/dist-packages (from requests->lightfm) (1.26.15)\n",
            "Requirement already satisfied: certifi>=2017.4.17 in /usr/local/lib/python3.9/dist-packages (from requests->lightfm) (2022.12.7)\n",
            "Requirement already satisfied: idna<4,>=2.5 in /usr/local/lib/python3.9/dist-packages (from requests->lightfm) (3.4)\n",
            "Requirement already satisfied: joblib>=1.1.1 in /usr/local/lib/python3.9/dist-packages (from scikit-learn->lightfm) (1.1.1)\n",
            "Requirement already satisfied: threadpoolctl>=2.0.0 in /usr/local/lib/python3.9/dist-packages (from scikit-learn->lightfm) (3.1.0)\n",
            "Building wheels for collected packages: lightfm\n",
            "  Building wheel for lightfm (setup.py) ... \u001b[?25l\u001b[?25hdone\n",
            "  Created wheel for lightfm: filename=lightfm-1.17-cp39-cp39-linux_x86_64.whl size=889514 sha256=fb17f1db472cda6e29d6e44627d2bcf9743e2a0e379058bd43d70080f66a6a09\n",
            "  Stored in directory: /root/.cache/pip/wheels/d8/65/93/6ac8180274dc2e8f86ff326be62da1dfa55dc158fd45faba7d\n",
            "Successfully built lightfm\n",
            "Installing collected packages: lightfm\n",
            "Successfully installed lightfm-1.17\n",
            "Looking in indexes: https://pypi.org/simple, https://us-python.pkg.dev/colab-wheels/public/simple/\n",
            "Collecting catboost\n",
            "  Downloading catboost-1.1.1-cp39-none-manylinux1_x86_64.whl (76.6 MB)\n",
            "\u001b[2K     \u001b[90m━━━━━━━━━━━━━━━━━━━━━━━━━━━━━━━━━━━━━━━━\u001b[0m \u001b[32m76.6/76.6 MB\u001b[0m \u001b[31m9.7 MB/s\u001b[0m eta \u001b[36m0:00:00\u001b[0m\n",
            "\u001b[?25hRequirement already satisfied: six in /usr/local/lib/python3.9/dist-packages (from catboost) (1.16.0)\n",
            "Requirement already satisfied: matplotlib in /usr/local/lib/python3.9/dist-packages (from catboost) (3.7.1)\n",
            "Requirement already satisfied: plotly in /usr/local/lib/python3.9/dist-packages (from catboost) (5.13.1)\n",
            "Requirement already satisfied: scipy in /usr/local/lib/python3.9/dist-packages (from catboost) (1.10.1)\n",
            "Requirement already satisfied: numpy>=1.16.0 in /usr/local/lib/python3.9/dist-packages (from catboost) (1.22.4)\n",
            "Requirement already satisfied: graphviz in /usr/local/lib/python3.9/dist-packages (from catboost) (0.20.1)\n",
            "Requirement already satisfied: pandas>=0.24.0 in /usr/local/lib/python3.9/dist-packages (from catboost) (1.4.4)\n",
            "Requirement already satisfied: python-dateutil>=2.8.1 in /usr/local/lib/python3.9/dist-packages (from pandas>=0.24.0->catboost) (2.8.2)\n",
            "Requirement already satisfied: pytz>=2020.1 in /usr/local/lib/python3.9/dist-packages (from pandas>=0.24.0->catboost) (2022.7.1)\n",
            "Requirement already satisfied: contourpy>=1.0.1 in /usr/local/lib/python3.9/dist-packages (from matplotlib->catboost) (1.0.7)\n",
            "Requirement already satisfied: cycler>=0.10 in /usr/local/lib/python3.9/dist-packages (from matplotlib->catboost) (0.11.0)\n",
            "Requirement already satisfied: pillow>=6.2.0 in /usr/local/lib/python3.9/dist-packages (from matplotlib->catboost) (8.4.0)\n",
            "Requirement already satisfied: pyparsing>=2.3.1 in /usr/local/lib/python3.9/dist-packages (from matplotlib->catboost) (3.0.9)\n",
            "Requirement already satisfied: importlib-resources>=3.2.0 in /usr/local/lib/python3.9/dist-packages (from matplotlib->catboost) (5.12.0)\n",
            "Requirement already satisfied: packaging>=20.0 in /usr/local/lib/python3.9/dist-packages (from matplotlib->catboost) (23.0)\n",
            "Requirement already satisfied: fonttools>=4.22.0 in /usr/local/lib/python3.9/dist-packages (from matplotlib->catboost) (4.39.3)\n",
            "Requirement already satisfied: kiwisolver>=1.0.1 in /usr/local/lib/python3.9/dist-packages (from matplotlib->catboost) (1.4.4)\n",
            "Requirement already satisfied: tenacity>=6.2.0 in /usr/local/lib/python3.9/dist-packages (from plotly->catboost) (8.2.2)\n",
            "Requirement already satisfied: zipp>=3.1.0 in /usr/local/lib/python3.9/dist-packages (from importlib-resources>=3.2.0->matplotlib->catboost) (3.15.0)\n",
            "Installing collected packages: catboost\n",
            "Successfully installed catboost-1.1.1\n"
          ]
        }
      ]
    },
    {
      "cell_type": "code",
      "execution_count": 3,
      "metadata": {
        "id": "PovCbbx-e9-z"
      },
      "outputs": [],
      "source": [
        "# links to shared data MovieLens\n",
        "# source on kaggle: https://www.kaggle.com/code/quangnhatbui/movie-recommender/data\n",
        "INTERACTIONS_PATH = '/Users/s.khalilbekov/Downloads/data_kion/interactions_df.csv'\n",
        "ITEMS_METADATA_PATH = 'https://drive.google.com/file/d/12a80lS3vXQOl6i6ENgz-WqWw3Wms0nqB/view?usp=share_link'\n",
        "USERS_DATA_PATH = 'https://drive.google.com/file/d/1MwPaye0cRi53czLqCnH0bOuvIhOeNlAx/view?usp=share_link'"
      ]
    },
    {
      "cell_type": "markdown",
      "metadata": {
        "id": "EKqNFYm7e9-1"
      },
      "source": [
        "# 1. Modules and functions"
      ]
    },
    {
      "cell_type": "code",
      "execution_count": 4,
      "metadata": {
        "id": "Veg_Sn8je9-1"
      },
      "outputs": [],
      "source": [
        "# just to make it available to download w/o SSL verification\n",
        "import ssl\n",
        "ssl._create_default_https_context = ssl._create_unverified_context\n",
        "\n",
        "import shap\n",
        "import numpy as np\n",
        "import pandas as pd\n",
        "import datetime as dt\n",
        "\n",
        "from sklearn.utils import shuffle\n",
        "from sklearn.model_selection import train_test_split\n",
        "\n",
        "from lightfm.data import Dataset\n",
        "from lightfm import LightFM\n",
        "\n",
        "from catboost import CatBoostClassifier\n",
        "\n",
        "from tqdm import tqdm_notebook\n",
        "import warnings\n",
        "warnings.filterwarnings('ignore')\n",
        "\n",
        "pd.set_option('display.float_format', lambda x: '%.3f' % x)"
      ]
    },
    {
      "cell_type": "markdown",
      "metadata": {
        "id": "lqzA2JGOe9-1"
      },
      "source": [
        "## 1. 1. Helper functions to avoid copy paste"
      ]
    },
    {
      "cell_type": "code",
      "execution_count": 5,
      "metadata": {
        "id": "bTZycEBTe9-2"
      },
      "outputs": [],
      "source": [
        "def read_csv_from_gdrive(url):\n",
        "    \"\"\"\n",
        "    gets csv data from a given url (taken from file -> share -> copy link)\n",
        "    :url: example https://drive.google.com/file/d/1BlZfCLLs5A13tbNSJZ1GPkHLWQOnPlE4/view?usp=share_link\n",
        "    \"\"\"\n",
        "    file_id = url.split('/')[-2]\n",
        "    file_path = 'https://drive.google.com/uc?export=download&id=' + file_id\n",
        "    data = pd.read_csv(file_path)\n",
        "\n",
        "    return data"
      ]
    },
    {
      "cell_type": "markdown",
      "metadata": {
        "id": "qP_tVltxe9-2"
      },
      "source": [
        "# 2. Main"
      ]
    },
    {
      "cell_type": "markdown",
      "metadata": {
        "id": "RkLgusOee9-2"
      },
      "source": [
        "## 2.1. Load Data"
      ]
    },
    {
      "cell_type": "markdown",
      "metadata": {
        "id": "40LYpP-xe9-3"
      },
      "source": [
        "`interactions` dataset shows list of movies that users watched, along with given `total_dur` in seconds and `watched_pct` proportion:"
      ]
    },
    {
      "cell_type": "code",
      "execution_count": 6,
      "metadata": {
        "colab": {
          "base_uri": "https://localhost:8080/",
          "height": 206
        },
        "id": "IJtpbtx_e9-3",
        "outputId": "48e4ceec-6115-45f6-e781-f111c50fef27"
      },
      "outputs": [
        {
          "output_type": "execute_result",
          "data": {
            "text/plain": [
              "   user_id  item_id last_watch_dt  total_dur  watched_pct\n",
              "0   176549     9506    2021-05-11       4250       72.000\n",
              "1   699317     1659    2021-05-29       8317      100.000\n",
              "2   656683     7107    2021-05-09         10        0.000\n",
              "3   864613     7638    2021-07-05      14483      100.000\n",
              "4   964868     9506    2021-04-30       6725      100.000"
            ],
            "text/html": [
              "\n",
              "  <div id=\"df-f77162b5-76d4-474e-92ee-41a5a88bd1a1\">\n",
              "    <div class=\"colab-df-container\">\n",
              "      <div>\n",
              "<style scoped>\n",
              "    .dataframe tbody tr th:only-of-type {\n",
              "        vertical-align: middle;\n",
              "    }\n",
              "\n",
              "    .dataframe tbody tr th {\n",
              "        vertical-align: top;\n",
              "    }\n",
              "\n",
              "    .dataframe thead th {\n",
              "        text-align: right;\n",
              "    }\n",
              "</style>\n",
              "<table border=\"1\" class=\"dataframe\">\n",
              "  <thead>\n",
              "    <tr style=\"text-align: right;\">\n",
              "      <th></th>\n",
              "      <th>user_id</th>\n",
              "      <th>item_id</th>\n",
              "      <th>last_watch_dt</th>\n",
              "      <th>total_dur</th>\n",
              "      <th>watched_pct</th>\n",
              "    </tr>\n",
              "  </thead>\n",
              "  <tbody>\n",
              "    <tr>\n",
              "      <th>0</th>\n",
              "      <td>176549</td>\n",
              "      <td>9506</td>\n",
              "      <td>2021-05-11</td>\n",
              "      <td>4250</td>\n",
              "      <td>72.000</td>\n",
              "    </tr>\n",
              "    <tr>\n",
              "      <th>1</th>\n",
              "      <td>699317</td>\n",
              "      <td>1659</td>\n",
              "      <td>2021-05-29</td>\n",
              "      <td>8317</td>\n",
              "      <td>100.000</td>\n",
              "    </tr>\n",
              "    <tr>\n",
              "      <th>2</th>\n",
              "      <td>656683</td>\n",
              "      <td>7107</td>\n",
              "      <td>2021-05-09</td>\n",
              "      <td>10</td>\n",
              "      <td>0.000</td>\n",
              "    </tr>\n",
              "    <tr>\n",
              "      <th>3</th>\n",
              "      <td>864613</td>\n",
              "      <td>7638</td>\n",
              "      <td>2021-07-05</td>\n",
              "      <td>14483</td>\n",
              "      <td>100.000</td>\n",
              "    </tr>\n",
              "    <tr>\n",
              "      <th>4</th>\n",
              "      <td>964868</td>\n",
              "      <td>9506</td>\n",
              "      <td>2021-04-30</td>\n",
              "      <td>6725</td>\n",
              "      <td>100.000</td>\n",
              "    </tr>\n",
              "  </tbody>\n",
              "</table>\n",
              "</div>\n",
              "      <button class=\"colab-df-convert\" onclick=\"convertToInteractive('df-f77162b5-76d4-474e-92ee-41a5a88bd1a1')\"\n",
              "              title=\"Convert this dataframe to an interactive table.\"\n",
              "              style=\"display:none;\">\n",
              "        \n",
              "  <svg xmlns=\"http://www.w3.org/2000/svg\" height=\"24px\"viewBox=\"0 0 24 24\"\n",
              "       width=\"24px\">\n",
              "    <path d=\"M0 0h24v24H0V0z\" fill=\"none\"/>\n",
              "    <path d=\"M18.56 5.44l.94 2.06.94-2.06 2.06-.94-2.06-.94-.94-2.06-.94 2.06-2.06.94zm-11 1L8.5 8.5l.94-2.06 2.06-.94-2.06-.94L8.5 2.5l-.94 2.06-2.06.94zm10 10l.94 2.06.94-2.06 2.06-.94-2.06-.94-.94-2.06-.94 2.06-2.06.94z\"/><path d=\"M17.41 7.96l-1.37-1.37c-.4-.4-.92-.59-1.43-.59-.52 0-1.04.2-1.43.59L10.3 9.45l-7.72 7.72c-.78.78-.78 2.05 0 2.83L4 21.41c.39.39.9.59 1.41.59.51 0 1.02-.2 1.41-.59l7.78-7.78 2.81-2.81c.8-.78.8-2.07 0-2.86zM5.41 20L4 18.59l7.72-7.72 1.47 1.35L5.41 20z\"/>\n",
              "  </svg>\n",
              "      </button>\n",
              "      \n",
              "  <style>\n",
              "    .colab-df-container {\n",
              "      display:flex;\n",
              "      flex-wrap:wrap;\n",
              "      gap: 12px;\n",
              "    }\n",
              "\n",
              "    .colab-df-convert {\n",
              "      background-color: #E8F0FE;\n",
              "      border: none;\n",
              "      border-radius: 50%;\n",
              "      cursor: pointer;\n",
              "      display: none;\n",
              "      fill: #1967D2;\n",
              "      height: 32px;\n",
              "      padding: 0 0 0 0;\n",
              "      width: 32px;\n",
              "    }\n",
              "\n",
              "    .colab-df-convert:hover {\n",
              "      background-color: #E2EBFA;\n",
              "      box-shadow: 0px 1px 2px rgba(60, 64, 67, 0.3), 0px 1px 3px 1px rgba(60, 64, 67, 0.15);\n",
              "      fill: #174EA6;\n",
              "    }\n",
              "\n",
              "    [theme=dark] .colab-df-convert {\n",
              "      background-color: #3B4455;\n",
              "      fill: #D2E3FC;\n",
              "    }\n",
              "\n",
              "    [theme=dark] .colab-df-convert:hover {\n",
              "      background-color: #434B5C;\n",
              "      box-shadow: 0px 1px 3px 1px rgba(0, 0, 0, 0.15);\n",
              "      filter: drop-shadow(0px 1px 2px rgba(0, 0, 0, 0.3));\n",
              "      fill: #FFFFFF;\n",
              "    }\n",
              "  </style>\n",
              "\n",
              "      <script>\n",
              "        const buttonEl =\n",
              "          document.querySelector('#df-f77162b5-76d4-474e-92ee-41a5a88bd1a1 button.colab-df-convert');\n",
              "        buttonEl.style.display =\n",
              "          google.colab.kernel.accessAllowed ? 'block' : 'none';\n",
              "\n",
              "        async function convertToInteractive(key) {\n",
              "          const element = document.querySelector('#df-f77162b5-76d4-474e-92ee-41a5a88bd1a1');\n",
              "          const dataTable =\n",
              "            await google.colab.kernel.invokeFunction('convertToInteractive',\n",
              "                                                     [key], {});\n",
              "          if (!dataTable) return;\n",
              "\n",
              "          const docLinkHtml = 'Like what you see? Visit the ' +\n",
              "            '<a target=\"_blank\" href=https://colab.research.google.com/notebooks/data_table.ipynb>data table notebook</a>'\n",
              "            + ' to learn more about interactive tables.';\n",
              "          element.innerHTML = '';\n",
              "          dataTable['output_type'] = 'display_data';\n",
              "          await google.colab.output.renderOutput(dataTable, element);\n",
              "          const docLink = document.createElement('div');\n",
              "          docLink.innerHTML = docLinkHtml;\n",
              "          element.appendChild(docLink);\n",
              "        }\n",
              "      </script>\n",
              "    </div>\n",
              "  </div>\n",
              "  "
            ]
          },
          "metadata": {},
          "execution_count": 6
        }
      ],
      "source": [
        "# interactions data\n",
        "interactions = pd.read_csv('interactions_df.csv')\n",
        "interactions.head()"
      ]
    },
    {
      "cell_type": "markdown",
      "metadata": {
        "id": "KtKPI_tQe9-4"
      },
      "source": [
        "`movies_metadata` dataset shows the list of movies existing on OKKO platform:"
      ]
    },
    {
      "cell_type": "code",
      "execution_count": 7,
      "metadata": {
        "colab": {
          "base_uri": "https://localhost:8080/",
          "height": 467
        },
        "id": "34Ow2wE2e9-4",
        "outputId": "30308a91-bd69-47c3-a03e-3cb6023bad6b"
      },
      "outputs": [
        {
          "output_type": "execute_result",
          "data": {
            "text/plain": [
              "   item_id content_type             title      title_orig  release_year  \\\n",
              "0    10711         film    Поговори с ней  Hable con ella      2002.000   \n",
              "1     2508         film       Голые перцы    Search Party      2014.000   \n",
              "2    10716         film  Тактическая сила  Tactical Force      2011.000   \n",
              "\n",
              "                                             genres countries  for_kids  \\\n",
              "0           драмы, зарубежные, детективы, мелодрамы   Испания       NaN   \n",
              "1                  зарубежные, приключения, комедии       США       NaN   \n",
              "2  криминал, зарубежные, триллеры, боевики, комедии    Канада       NaN   \n",
              "\n",
              "   age_rating studios         directors  \\\n",
              "0      16.000     NaN  Педро Альмодовар   \n",
              "1      16.000     NaN    Скот Армстронг   \n",
              "2      16.000     NaN  Адам П. Калтраро   \n",
              "\n",
              "                                              actors  \\\n",
              "0  Адольфо Фернандес, Ана Фернандес, Дарио Гранди...   \n",
              "1  Адам Палли, Брайан Хаски, Дж.Б. Смув, Джейсон ...   \n",
              "2  Адриан Холмс, Даррен Шалави, Джерри Вассерман,...   \n",
              "\n",
              "                                         description  \\\n",
              "0  Мелодрама легендарного Педро Альмодовара «Пого...   \n",
              "1  Уморительная современная комедия на популярную...   \n",
              "2  Профессиональный рестлер Стив Остин («Все или ...   \n",
              "\n",
              "                                            keywords  \n",
              "0  Поговори, ней, 2002, Испания, друзья, любовь, ...  \n",
              "1  Голые, перцы, 2014, США, друзья, свадьбы, прео...  \n",
              "2  Тактическая, сила, 2011, Канада, бандиты, ганг...  "
            ],
            "text/html": [
              "\n",
              "  <div id=\"df-a23eebe2-4010-4adf-8bfb-9abbe8bd2017\">\n",
              "    <div class=\"colab-df-container\">\n",
              "      <div>\n",
              "<style scoped>\n",
              "    .dataframe tbody tr th:only-of-type {\n",
              "        vertical-align: middle;\n",
              "    }\n",
              "\n",
              "    .dataframe tbody tr th {\n",
              "        vertical-align: top;\n",
              "    }\n",
              "\n",
              "    .dataframe thead th {\n",
              "        text-align: right;\n",
              "    }\n",
              "</style>\n",
              "<table border=\"1\" class=\"dataframe\">\n",
              "  <thead>\n",
              "    <tr style=\"text-align: right;\">\n",
              "      <th></th>\n",
              "      <th>item_id</th>\n",
              "      <th>content_type</th>\n",
              "      <th>title</th>\n",
              "      <th>title_orig</th>\n",
              "      <th>release_year</th>\n",
              "      <th>genres</th>\n",
              "      <th>countries</th>\n",
              "      <th>for_kids</th>\n",
              "      <th>age_rating</th>\n",
              "      <th>studios</th>\n",
              "      <th>directors</th>\n",
              "      <th>actors</th>\n",
              "      <th>description</th>\n",
              "      <th>keywords</th>\n",
              "    </tr>\n",
              "  </thead>\n",
              "  <tbody>\n",
              "    <tr>\n",
              "      <th>0</th>\n",
              "      <td>10711</td>\n",
              "      <td>film</td>\n",
              "      <td>Поговори с ней</td>\n",
              "      <td>Hable con ella</td>\n",
              "      <td>2002.000</td>\n",
              "      <td>драмы, зарубежные, детективы, мелодрамы</td>\n",
              "      <td>Испания</td>\n",
              "      <td>NaN</td>\n",
              "      <td>16.000</td>\n",
              "      <td>NaN</td>\n",
              "      <td>Педро Альмодовар</td>\n",
              "      <td>Адольфо Фернандес, Ана Фернандес, Дарио Гранди...</td>\n",
              "      <td>Мелодрама легендарного Педро Альмодовара «Пого...</td>\n",
              "      <td>Поговори, ней, 2002, Испания, друзья, любовь, ...</td>\n",
              "    </tr>\n",
              "    <tr>\n",
              "      <th>1</th>\n",
              "      <td>2508</td>\n",
              "      <td>film</td>\n",
              "      <td>Голые перцы</td>\n",
              "      <td>Search Party</td>\n",
              "      <td>2014.000</td>\n",
              "      <td>зарубежные, приключения, комедии</td>\n",
              "      <td>США</td>\n",
              "      <td>NaN</td>\n",
              "      <td>16.000</td>\n",
              "      <td>NaN</td>\n",
              "      <td>Скот Армстронг</td>\n",
              "      <td>Адам Палли, Брайан Хаски, Дж.Б. Смув, Джейсон ...</td>\n",
              "      <td>Уморительная современная комедия на популярную...</td>\n",
              "      <td>Голые, перцы, 2014, США, друзья, свадьбы, прео...</td>\n",
              "    </tr>\n",
              "    <tr>\n",
              "      <th>2</th>\n",
              "      <td>10716</td>\n",
              "      <td>film</td>\n",
              "      <td>Тактическая сила</td>\n",
              "      <td>Tactical Force</td>\n",
              "      <td>2011.000</td>\n",
              "      <td>криминал, зарубежные, триллеры, боевики, комедии</td>\n",
              "      <td>Канада</td>\n",
              "      <td>NaN</td>\n",
              "      <td>16.000</td>\n",
              "      <td>NaN</td>\n",
              "      <td>Адам П. Калтраро</td>\n",
              "      <td>Адриан Холмс, Даррен Шалави, Джерри Вассерман,...</td>\n",
              "      <td>Профессиональный рестлер Стив Остин («Все или ...</td>\n",
              "      <td>Тактическая, сила, 2011, Канада, бандиты, ганг...</td>\n",
              "    </tr>\n",
              "  </tbody>\n",
              "</table>\n",
              "</div>\n",
              "      <button class=\"colab-df-convert\" onclick=\"convertToInteractive('df-a23eebe2-4010-4adf-8bfb-9abbe8bd2017')\"\n",
              "              title=\"Convert this dataframe to an interactive table.\"\n",
              "              style=\"display:none;\">\n",
              "        \n",
              "  <svg xmlns=\"http://www.w3.org/2000/svg\" height=\"24px\"viewBox=\"0 0 24 24\"\n",
              "       width=\"24px\">\n",
              "    <path d=\"M0 0h24v24H0V0z\" fill=\"none\"/>\n",
              "    <path d=\"M18.56 5.44l.94 2.06.94-2.06 2.06-.94-2.06-.94-.94-2.06-.94 2.06-2.06.94zm-11 1L8.5 8.5l.94-2.06 2.06-.94-2.06-.94L8.5 2.5l-.94 2.06-2.06.94zm10 10l.94 2.06.94-2.06 2.06-.94-2.06-.94-.94-2.06-.94 2.06-2.06.94z\"/><path d=\"M17.41 7.96l-1.37-1.37c-.4-.4-.92-.59-1.43-.59-.52 0-1.04.2-1.43.59L10.3 9.45l-7.72 7.72c-.78.78-.78 2.05 0 2.83L4 21.41c.39.39.9.59 1.41.59.51 0 1.02-.2 1.41-.59l7.78-7.78 2.81-2.81c.8-.78.8-2.07 0-2.86zM5.41 20L4 18.59l7.72-7.72 1.47 1.35L5.41 20z\"/>\n",
              "  </svg>\n",
              "      </button>\n",
              "      \n",
              "  <style>\n",
              "    .colab-df-container {\n",
              "      display:flex;\n",
              "      flex-wrap:wrap;\n",
              "      gap: 12px;\n",
              "    }\n",
              "\n",
              "    .colab-df-convert {\n",
              "      background-color: #E8F0FE;\n",
              "      border: none;\n",
              "      border-radius: 50%;\n",
              "      cursor: pointer;\n",
              "      display: none;\n",
              "      fill: #1967D2;\n",
              "      height: 32px;\n",
              "      padding: 0 0 0 0;\n",
              "      width: 32px;\n",
              "    }\n",
              "\n",
              "    .colab-df-convert:hover {\n",
              "      background-color: #E2EBFA;\n",
              "      box-shadow: 0px 1px 2px rgba(60, 64, 67, 0.3), 0px 1px 3px 1px rgba(60, 64, 67, 0.15);\n",
              "      fill: #174EA6;\n",
              "    }\n",
              "\n",
              "    [theme=dark] .colab-df-convert {\n",
              "      background-color: #3B4455;\n",
              "      fill: #D2E3FC;\n",
              "    }\n",
              "\n",
              "    [theme=dark] .colab-df-convert:hover {\n",
              "      background-color: #434B5C;\n",
              "      box-shadow: 0px 1px 3px 1px rgba(0, 0, 0, 0.15);\n",
              "      filter: drop-shadow(0px 1px 2px rgba(0, 0, 0, 0.3));\n",
              "      fill: #FFFFFF;\n",
              "    }\n",
              "  </style>\n",
              "\n",
              "      <script>\n",
              "        const buttonEl =\n",
              "          document.querySelector('#df-a23eebe2-4010-4adf-8bfb-9abbe8bd2017 button.colab-df-convert');\n",
              "        buttonEl.style.display =\n",
              "          google.colab.kernel.accessAllowed ? 'block' : 'none';\n",
              "\n",
              "        async function convertToInteractive(key) {\n",
              "          const element = document.querySelector('#df-a23eebe2-4010-4adf-8bfb-9abbe8bd2017');\n",
              "          const dataTable =\n",
              "            await google.colab.kernel.invokeFunction('convertToInteractive',\n",
              "                                                     [key], {});\n",
              "          if (!dataTable) return;\n",
              "\n",
              "          const docLinkHtml = 'Like what you see? Visit the ' +\n",
              "            '<a target=\"_blank\" href=https://colab.research.google.com/notebooks/data_table.ipynb>data table notebook</a>'\n",
              "            + ' to learn more about interactive tables.';\n",
              "          element.innerHTML = '';\n",
              "          dataTable['output_type'] = 'display_data';\n",
              "          await google.colab.output.renderOutput(dataTable, element);\n",
              "          const docLink = document.createElement('div');\n",
              "          docLink.innerHTML = docLinkHtml;\n",
              "          element.appendChild(docLink);\n",
              "        }\n",
              "      </script>\n",
              "    </div>\n",
              "  </div>\n",
              "  "
            ]
          },
          "metadata": {},
          "execution_count": 7
        }
      ],
      "source": [
        "# information about films etc\n",
        "movies_metadata = read_csv_from_gdrive(ITEMS_METADATA_PATH)\n",
        "movies_metadata.head(3)"
      ]
    },
    {
      "cell_type": "code",
      "execution_count": 8,
      "metadata": {
        "colab": {
          "base_uri": "https://localhost:8080/",
          "height": 206
        },
        "id": "14x0tJNKe9-4",
        "outputId": "16127544-d912-494b-9fbd-35ee19237645"
      },
      "outputs": [
        {
          "output_type": "execute_result",
          "data": {
            "text/plain": [
              "   user_id        age        income sex  kids_flg\n",
              "0   973171  age_25_34  income_60_90   М         1\n",
              "1   962099  age_18_24  income_20_40   М         0\n",
              "2  1047345  age_45_54  income_40_60   Ж         0\n",
              "3   721985  age_45_54  income_20_40   Ж         0\n",
              "4   704055  age_35_44  income_60_90   Ж         0"
            ],
            "text/html": [
              "\n",
              "  <div id=\"df-567709a1-e874-48c4-a029-aa4e82ca47a6\">\n",
              "    <div class=\"colab-df-container\">\n",
              "      <div>\n",
              "<style scoped>\n",
              "    .dataframe tbody tr th:only-of-type {\n",
              "        vertical-align: middle;\n",
              "    }\n",
              "\n",
              "    .dataframe tbody tr th {\n",
              "        vertical-align: top;\n",
              "    }\n",
              "\n",
              "    .dataframe thead th {\n",
              "        text-align: right;\n",
              "    }\n",
              "</style>\n",
              "<table border=\"1\" class=\"dataframe\">\n",
              "  <thead>\n",
              "    <tr style=\"text-align: right;\">\n",
              "      <th></th>\n",
              "      <th>user_id</th>\n",
              "      <th>age</th>\n",
              "      <th>income</th>\n",
              "      <th>sex</th>\n",
              "      <th>kids_flg</th>\n",
              "    </tr>\n",
              "  </thead>\n",
              "  <tbody>\n",
              "    <tr>\n",
              "      <th>0</th>\n",
              "      <td>973171</td>\n",
              "      <td>age_25_34</td>\n",
              "      <td>income_60_90</td>\n",
              "      <td>М</td>\n",
              "      <td>1</td>\n",
              "    </tr>\n",
              "    <tr>\n",
              "      <th>1</th>\n",
              "      <td>962099</td>\n",
              "      <td>age_18_24</td>\n",
              "      <td>income_20_40</td>\n",
              "      <td>М</td>\n",
              "      <td>0</td>\n",
              "    </tr>\n",
              "    <tr>\n",
              "      <th>2</th>\n",
              "      <td>1047345</td>\n",
              "      <td>age_45_54</td>\n",
              "      <td>income_40_60</td>\n",
              "      <td>Ж</td>\n",
              "      <td>0</td>\n",
              "    </tr>\n",
              "    <tr>\n",
              "      <th>3</th>\n",
              "      <td>721985</td>\n",
              "      <td>age_45_54</td>\n",
              "      <td>income_20_40</td>\n",
              "      <td>Ж</td>\n",
              "      <td>0</td>\n",
              "    </tr>\n",
              "    <tr>\n",
              "      <th>4</th>\n",
              "      <td>704055</td>\n",
              "      <td>age_35_44</td>\n",
              "      <td>income_60_90</td>\n",
              "      <td>Ж</td>\n",
              "      <td>0</td>\n",
              "    </tr>\n",
              "  </tbody>\n",
              "</table>\n",
              "</div>\n",
              "      <button class=\"colab-df-convert\" onclick=\"convertToInteractive('df-567709a1-e874-48c4-a029-aa4e82ca47a6')\"\n",
              "              title=\"Convert this dataframe to an interactive table.\"\n",
              "              style=\"display:none;\">\n",
              "        \n",
              "  <svg xmlns=\"http://www.w3.org/2000/svg\" height=\"24px\"viewBox=\"0 0 24 24\"\n",
              "       width=\"24px\">\n",
              "    <path d=\"M0 0h24v24H0V0z\" fill=\"none\"/>\n",
              "    <path d=\"M18.56 5.44l.94 2.06.94-2.06 2.06-.94-2.06-.94-.94-2.06-.94 2.06-2.06.94zm-11 1L8.5 8.5l.94-2.06 2.06-.94-2.06-.94L8.5 2.5l-.94 2.06-2.06.94zm10 10l.94 2.06.94-2.06 2.06-.94-2.06-.94-.94-2.06-.94 2.06-2.06.94z\"/><path d=\"M17.41 7.96l-1.37-1.37c-.4-.4-.92-.59-1.43-.59-.52 0-1.04.2-1.43.59L10.3 9.45l-7.72 7.72c-.78.78-.78 2.05 0 2.83L4 21.41c.39.39.9.59 1.41.59.51 0 1.02-.2 1.41-.59l7.78-7.78 2.81-2.81c.8-.78.8-2.07 0-2.86zM5.41 20L4 18.59l7.72-7.72 1.47 1.35L5.41 20z\"/>\n",
              "  </svg>\n",
              "      </button>\n",
              "      \n",
              "  <style>\n",
              "    .colab-df-container {\n",
              "      display:flex;\n",
              "      flex-wrap:wrap;\n",
              "      gap: 12px;\n",
              "    }\n",
              "\n",
              "    .colab-df-convert {\n",
              "      background-color: #E8F0FE;\n",
              "      border: none;\n",
              "      border-radius: 50%;\n",
              "      cursor: pointer;\n",
              "      display: none;\n",
              "      fill: #1967D2;\n",
              "      height: 32px;\n",
              "      padding: 0 0 0 0;\n",
              "      width: 32px;\n",
              "    }\n",
              "\n",
              "    .colab-df-convert:hover {\n",
              "      background-color: #E2EBFA;\n",
              "      box-shadow: 0px 1px 2px rgba(60, 64, 67, 0.3), 0px 1px 3px 1px rgba(60, 64, 67, 0.15);\n",
              "      fill: #174EA6;\n",
              "    }\n",
              "\n",
              "    [theme=dark] .colab-df-convert {\n",
              "      background-color: #3B4455;\n",
              "      fill: #D2E3FC;\n",
              "    }\n",
              "\n",
              "    [theme=dark] .colab-df-convert:hover {\n",
              "      background-color: #434B5C;\n",
              "      box-shadow: 0px 1px 3px 1px rgba(0, 0, 0, 0.15);\n",
              "      filter: drop-shadow(0px 1px 2px rgba(0, 0, 0, 0.3));\n",
              "      fill: #FFFFFF;\n",
              "    }\n",
              "  </style>\n",
              "\n",
              "      <script>\n",
              "        const buttonEl =\n",
              "          document.querySelector('#df-567709a1-e874-48c4-a029-aa4e82ca47a6 button.colab-df-convert');\n",
              "        buttonEl.style.display =\n",
              "          google.colab.kernel.accessAllowed ? 'block' : 'none';\n",
              "\n",
              "        async function convertToInteractive(key) {\n",
              "          const element = document.querySelector('#df-567709a1-e874-48c4-a029-aa4e82ca47a6');\n",
              "          const dataTable =\n",
              "            await google.colab.kernel.invokeFunction('convertToInteractive',\n",
              "                                                     [key], {});\n",
              "          if (!dataTable) return;\n",
              "\n",
              "          const docLinkHtml = 'Like what you see? Visit the ' +\n",
              "            '<a target=\"_blank\" href=https://colab.research.google.com/notebooks/data_table.ipynb>data table notebook</a>'\n",
              "            + ' to learn more about interactive tables.';\n",
              "          element.innerHTML = '';\n",
              "          dataTable['output_type'] = 'display_data';\n",
              "          await google.colab.output.renderOutput(dataTable, element);\n",
              "          const docLink = document.createElement('div');\n",
              "          docLink.innerHTML = docLinkHtml;\n",
              "          element.appendChild(docLink);\n",
              "        }\n",
              "      </script>\n",
              "    </div>\n",
              "  </div>\n",
              "  "
            ]
          },
          "metadata": {},
          "execution_count": 8
        }
      ],
      "source": [
        "users_data = read_csv_from_gdrive(USERS_DATA_PATH)\n",
        "users_data.head()"
      ]
    },
    {
      "cell_type": "markdown",
      "metadata": {
        "id": "Pi76D8D6e9-5"
      },
      "source": [
        "## 2.2. Train/test split"
      ]
    },
    {
      "cell_type": "markdown",
      "metadata": {
        "id": "dBRKLNlYe9-5"
      },
      "source": [
        "## 2.3 Data preparation using LightFM Dataset (first-level model)"
      ]
    },
    {
      "cell_type": "markdown",
      "metadata": {
        "id": "V5UeTk1Ae9-5"
      },
      "source": [
        "To use implicit kNN method `fit` we need a sparse matrix in COOrdinate format. To achieve that we will use `scipy.sparse.coo_matrix` from scipy;\n"
      ]
    },
    {
      "cell_type": "code",
      "execution_count": 9,
      "metadata": {
        "id": "7thzmNi-e9-5"
      },
      "outputs": [],
      "source": [
        "# remove redundant data points\n",
        "interactions_filtered = interactions.loc[interactions['total_dur'] > 300].reset_index(drop = True)"
      ]
    },
    {
      "cell_type": "code",
      "execution_count": 10,
      "metadata": {
        "colab": {
          "base_uri": "https://localhost:8080/",
          "height": 0
        },
        "id": "zQ_eG4Epe9-5",
        "outputId": "13739589-8816-4f27-e5c8-82f4f757b800"
      },
      "outputs": [
        {
          "output_type": "stream",
          "name": "stdout",
          "text": [
            "(5476251, 5) (4195689, 5)\n"
          ]
        }
      ],
      "source": [
        "print(interactions.shape, interactions_filtered.shape)"
      ]
    },
    {
      "cell_type": "code",
      "execution_count": 11,
      "metadata": {
        "id": "5TR7Flpme9-6"
      },
      "outputs": [],
      "source": [
        "interactions_filtered['last_watch_dt'] = pd.to_datetime(interactions_filtered['last_watch_dt'])"
      ]
    },
    {
      "cell_type": "code",
      "execution_count": 12,
      "metadata": {
        "colab": {
          "base_uri": "https://localhost:8080/",
          "height": 0
        },
        "id": "AzN-shpGe9-6",
        "outputId": "6543a40f-be99-43b1-dab5-fa32a508eb3b"
      },
      "outputs": [
        {
          "output_type": "stream",
          "name": "stdout",
          "text": [
            "min date in filtered interactions: 2021-08-22 00:00:00\n",
            "max date in filtered interactions:: 2021-03-13 00:00:00\n"
          ]
        }
      ],
      "source": [
        "# set dates params for filter\n",
        "MAX_DATE = interactions_filtered['last_watch_dt'].max()\n",
        "MIN_DATE = interactions_filtered['last_watch_dt'].min()\n",
        "TEST_INTERVAL_DAYS = 14\n",
        "\n",
        "print(f\"min date in filtered interactions: {MAX_DATE}\")\n",
        "print(f\"max date in filtered interactions:: {MIN_DATE}\")"
      ]
    },
    {
      "cell_type": "code",
      "execution_count": 13,
      "metadata": {
        "id": "LRtChb5De9-6"
      },
      "outputs": [],
      "source": [
        "TEST_MAX_DATE = MAX_DATE - dt.timedelta(days = TEST_INTERVAL_DAYS)"
      ]
    },
    {
      "cell_type": "code",
      "execution_count": 14,
      "metadata": {
        "colab": {
          "base_uri": "https://localhost:8080/",
          "height": 0
        },
        "id": "pQYCJW5Te9-6",
        "outputId": "4e4a83d0-ec41-4c13-e476-bb6099a9b2ce"
      },
      "outputs": [
        {
          "output_type": "stream",
          "name": "stdout",
          "text": [
            "(3530674, 5) (665015, 5)\n"
          ]
        }
      ],
      "source": [
        "# define global train and test\n",
        "global_train = interactions_filtered.loc[interactions_filtered['last_watch_dt'] < TEST_MAX_DATE]\n",
        "global_test = interactions_filtered.loc[interactions_filtered['last_watch_dt'] >= TEST_MAX_DATE]\n",
        "\n",
        "print(global_train.shape, global_test.shape)"
      ]
    },
    {
      "cell_type": "code",
      "execution_count": 15,
      "metadata": {
        "colab": {
          "base_uri": "https://localhost:8080/",
          "height": 0
        },
        "id": "f7R-2jBCe9-7",
        "outputId": "e6917be5-24c3-4c87-98ce-b0695cab42f4"
      },
      "outputs": [
        {
          "output_type": "stream",
          "name": "stdout",
          "text": [
            "2021-07-11 00:00:00\n"
          ]
        }
      ],
      "source": [
        "# now, we define \"local\" train and test to use some part of the global train for ranker\n",
        "local_train_thresh = global_train['last_watch_dt'].quantile(q = .7, interpolation = 'nearest')\n",
        "print(local_train_thresh)"
      ]
    },
    {
      "cell_type": "code",
      "execution_count": 16,
      "metadata": {
        "id": "hZ8pw2KLe9-7"
      },
      "outputs": [],
      "source": [
        "global_train = global_train.dropna().reset_index(drop = True)"
      ]
    },
    {
      "cell_type": "code",
      "execution_count": 17,
      "metadata": {
        "colab": {
          "base_uri": "https://localhost:8080/",
          "height": 0
        },
        "id": "-W04HDaee9-7",
        "outputId": "52e1b0af-8036-4aba-ff01-ed7e9ffcff82"
      },
      "outputs": [
        {
          "output_type": "stream",
          "name": "stdout",
          "text": [
            "(2451040, 5) (1079183, 5)\n"
          ]
        }
      ],
      "source": [
        "local_train = global_train.loc[global_train['last_watch_dt'] < local_train_thresh]\n",
        "local_test = global_train.loc[global_train['last_watch_dt'] >= local_train_thresh]\n",
        "\n",
        "print(local_train.shape, local_test.shape)"
      ]
    },
    {
      "cell_type": "code",
      "execution_count": 18,
      "metadata": {
        "colab": {
          "base_uri": "https://localhost:8080/",
          "height": 0
        },
        "id": "OSh7NoNle9-7",
        "outputId": "0e8dd6f0-9a1d-41d6-f355-31ae6858ccaa"
      },
      "outputs": [
        {
          "output_type": "stream",
          "name": "stdout",
          "text": [
            "(579382, 5)\n"
          ]
        }
      ],
      "source": [
        "# finally, we will focus on warm start -- remove cold start users\n",
        "local_test = local_test.loc[local_test['user_id'].isin(local_train['user_id'].unique())]\n",
        "print(local_test.shape)"
      ]
    },
    {
      "cell_type": "code",
      "execution_count": 19,
      "metadata": {
        "id": "J2B_VKGce9-8"
      },
      "outputs": [],
      "source": [
        "# init class\n",
        "dataset = Dataset()\n",
        "\n",
        "# fit tuple of user and movie interactions\n",
        "dataset.fit(local_train['user_id'].unique(), local_train['item_id'].unique())"
      ]
    },
    {
      "cell_type": "code",
      "execution_count": 20,
      "metadata": {
        "id": "tvhU7kbhe9-8"
      },
      "outputs": [],
      "source": [
        "# now, we define lightfm mapper to use it later for checks\n",
        "lightfm_mapping = dataset.mapping()\n",
        "# lightfm_mapping"
      ]
    },
    {
      "cell_type": "code",
      "execution_count": 21,
      "metadata": {
        "colab": {
          "base_uri": "https://localhost:8080/",
          "height": 0
        },
        "id": "d5raHA_Ke9-8",
        "outputId": "6f31c8d2-705f-420b-ec14-b236db779312"
      },
      "outputs": [
        {
          "output_type": "stream",
          "name": "stdout",
          "text": [
            "user mapper length -  539173\n",
            "user features mapper length -  539173\n",
            "movies mapper length -  13006\n",
            "Users movie features mapper length -  13006\n"
          ]
        }
      ],
      "source": [
        "lightfm_mapping = {\n",
        "    'users_mapping': lightfm_mapping[0],\n",
        "    'user_features_mapping': lightfm_mapping[1],\n",
        "    'items_mapping': lightfm_mapping[2],\n",
        "    'item_features_mapping': lightfm_mapping[3],\n",
        "}\n",
        "print('user mapper length - ', len(lightfm_mapping['users_mapping']))\n",
        "print('user features mapper length - ', len(lightfm_mapping['user_features_mapping']))\n",
        "print('movies mapper length - ', len(lightfm_mapping['items_mapping']))\n",
        "print('Users movie features mapper length - ', len(lightfm_mapping['item_features_mapping']))"
      ]
    },
    {
      "cell_type": "code",
      "execution_count": 22,
      "metadata": {
        "id": "YU78C0Qce9-8"
      },
      "outputs": [],
      "source": [
        "# here we create inverted mappers to check recommendations later\n",
        "lightfm_mapping['users_inv_mapping'] = {v: k for k, v in lightfm_mapping['users_mapping'].items()}\n",
        "lightfm_mapping['items_inv_mapping'] = {v: k for k, v in lightfm_mapping['items_mapping'].items()}"
      ]
    },
    {
      "cell_type": "code",
      "execution_count": 23,
      "metadata": {
        "id": "Lj1jUNMxe9-9"
      },
      "outputs": [],
      "source": [
        "# special iterator to use with lightfm\n",
        "def df_to_tuple_iterator(df: pd.DataFrame):\n",
        "    '''\n",
        "    :df: pd.DataFrame, interactions dataframe\n",
        "    returs iterator\n",
        "    '''\n",
        "    return zip(*df.values.T)\n",
        "\n",
        "def concat_last_to_list(t):\n",
        "    return (t[0], list(t[1:])[0])\n",
        "\n",
        "def df_to_tuple_list_iterator(df):\n",
        "    return map(concat_last_to_list, zip(*df.values.T))"
      ]
    },
    {
      "cell_type": "code",
      "execution_count": 24,
      "metadata": {
        "id": "MfVak9yDe9-9"
      },
      "outputs": [],
      "source": [
        "# defining train set on the whole interactions dataset (as HW you will have to split into test and train for evaluation)\n",
        "train_mat, train_mat_weights = dataset.build_interactions(df_to_tuple_iterator(local_train[['user_id', 'item_id']]))"
      ]
    },
    {
      "cell_type": "code",
      "execution_count": 25,
      "metadata": {
        "colab": {
          "base_uri": "https://localhost:8080/",
          "height": 0
        },
        "id": "1To8ypPQe9-9",
        "outputId": "039ed48f-13ae-4f24-bc5b-fef304d68d3c"
      },
      "outputs": [
        {
          "output_type": "execute_result",
          "data": {
            "text/plain": [
              "<539173x13006 sparse matrix of type '<class 'numpy.int32'>'\n",
              "\twith 2451040 stored elements in COOrdinate format>"
            ]
          },
          "metadata": {},
          "execution_count": 25
        }
      ],
      "source": [
        "train_mat"
      ]
    },
    {
      "cell_type": "code",
      "execution_count": 26,
      "metadata": {
        "colab": {
          "base_uri": "https://localhost:8080/",
          "height": 0
        },
        "id": "4LIY4p0me9-9",
        "outputId": "9b740fd5-2482-4a1c-cdd6-03f8e1c910ac"
      },
      "outputs": [
        {
          "output_type": "execute_result",
          "data": {
            "text/plain": [
              "<539173x13006 sparse matrix of type '<class 'numpy.float32'>'\n",
              "\twith 2451040 stored elements in COOrdinate format>"
            ]
          },
          "metadata": {},
          "execution_count": 26
        }
      ],
      "source": [
        "train_mat_weights"
      ]
    },
    {
      "cell_type": "markdown",
      "metadata": {
        "id": "QBb48aeoe9-9"
      },
      "source": [
        "## 2.4. Train LigthFM model"
      ]
    },
    {
      "cell_type": "code",
      "execution_count": 27,
      "metadata": {
        "id": "Zna2Leo2e9--"
      },
      "outputs": [],
      "source": [
        "# set params\n",
        "NO_COMPONENTS = 64\n",
        "LEARNING_RATE = .03\n",
        "LOSS = 'warp'\n",
        "MAX_SAMPLED = 5\n",
        "RANDOM_STATE = 42\n",
        "EPOCHS = 20"
      ]
    },
    {
      "cell_type": "code",
      "execution_count": 28,
      "metadata": {
        "id": "el2pTTjZe9--"
      },
      "outputs": [],
      "source": [
        "# init model\n",
        "lfm_model = LightFM(\n",
        "    no_components = NO_COMPONENTS,\n",
        "    learning_rate = LEARNING_RATE,\n",
        "    loss = LOSS,\n",
        "    max_sampled = MAX_SAMPLED,\n",
        "    random_state = RANDOM_STATE\n",
        "    )"
      ]
    },
    {
      "cell_type": "code",
      "execution_count": 29,
      "metadata": {
        "colab": {
          "base_uri": "https://localhost:8080/",
          "height": 49,
          "referenced_widgets": [
            "1f4915851d024ecd96b56c780bdb3120",
            "49595091bf7242d78937266460c8c3ad",
            "ab13f329bd9c4b7db0827a2d9ff4a33c",
            "cb3effe29add40f1a4e452bb7eb82284",
            "398ab73fa3e64aeeb641580986ae3c6f",
            "e15c0e650d4f42cf8383b8fbcd990040",
            "100f2f6a78954de5872ed2e7cb9d66f7",
            "06872a6f58b544b2afb0a77b2717288e",
            "8cb43be79121491a8230720b23b6b091",
            "a3d2c06728874371980d6297bb8e3107",
            "1721907367bf48da880a04c7b20c064b"
          ]
        },
        "id": "Kf2q9lSAe9--",
        "outputId": "146c5fd7-a31f-40f1-fd8c-0a54c401b74b"
      },
      "outputs": [
        {
          "output_type": "display_data",
          "data": {
            "text/plain": [
              "  0%|          | 0/20 [00:00<?, ?it/s]"
            ],
            "application/vnd.jupyter.widget-view+json": {
              "version_major": 2,
              "version_minor": 0,
              "model_id": "1f4915851d024ecd96b56c780bdb3120"
            }
          },
          "metadata": {}
        }
      ],
      "source": [
        "# execute training\n",
        "for _ in tqdm_notebook(range(EPOCHS), total = EPOCHS):\n",
        "    lfm_model.fit_partial(\n",
        "        train_mat,\n",
        "        num_threads = 4\n",
        "    )"
      ]
    },
    {
      "cell_type": "code",
      "execution_count": 30,
      "metadata": {
        "colab": {
          "base_uri": "https://localhost:8080/",
          "height": 0
        },
        "id": "TrMzIiL4e9--",
        "outputId": "96e1a029-7705-4943-ba6c-b80ba10cfcb8"
      },
      "outputs": [
        {
          "output_type": "stream",
          "name": "stdout",
          "text": [
            "Rekko for user 713676, row number in matrix - 62\n"
          ]
        }
      ],
      "source": [
        "# let's make sense-check\n",
        "top_N = 10\n",
        "user_id = local_train['user_id'][100]\n",
        "row_id = lightfm_mapping['users_mapping'][user_id]\n",
        "print(f'Rekko for user {user_id}, row number in matrix - {row_id}')"
      ]
    },
    {
      "cell_type": "code",
      "execution_count": 31,
      "metadata": {
        "colab": {
          "base_uri": "https://localhost:8080/",
          "height": 0
        },
        "id": "YM9npJhMe9--",
        "outputId": "4615b1a0-b331-4626-a9d6-63ded9e07a92"
      },
      "outputs": [
        {
          "output_type": "execute_result",
          "data": {
            "text/plain": [
              "13006"
            ]
          },
          "metadata": {},
          "execution_count": 31
        }
      ],
      "source": [
        "all_cols = list(lightfm_mapping['items_mapping'].values())\n",
        "len(all_cols)"
      ]
    },
    {
      "cell_type": "code",
      "execution_count": 32,
      "metadata": {
        "colab": {
          "base_uri": "https://localhost:8080/",
          "height": 0
        },
        "id": "apQllHn-e9-_",
        "outputId": "f3bd1cd8-1fa4-4d90-d407-f5701f612ef3"
      },
      "outputs": [
        {
          "output_type": "execute_result",
          "data": {
            "text/plain": [
              "(array([ 1.2468398 ,  0.46109986, -1.4427844 , ..., -2.4233615 ,\n",
              "        -2.0391545 , -2.0528052 ], dtype=float32),\n",
              " (13006,))"
            ]
          },
          "metadata": {},
          "execution_count": 32
        }
      ],
      "source": [
        "pred = lfm_model.predict(\n",
        "    row_id,\n",
        "    all_cols,\n",
        "    num_threads = 4)\n",
        "pred, pred.shape"
      ]
    },
    {
      "cell_type": "code",
      "execution_count": 33,
      "metadata": {
        "colab": {
          "base_uri": "https://localhost:8080/",
          "height": 0
        },
        "id": "nyHyuIHDe9-_",
        "outputId": "1758171e-f066-4012-8343-87984a47c411"
      },
      "outputs": [
        {
          "output_type": "execute_result",
          "data": {
            "text/plain": [
              "array([302,  20, 435,   5, 225, 410,  61, 146, 298, 232])"
            ]
          },
          "metadata": {},
          "execution_count": 33
        }
      ],
      "source": [
        "top_cols = np.argpartition(pred, -np.arange(top_N))[-top_N:][::-1]\n",
        "top_cols"
      ]
    },
    {
      "cell_type": "code",
      "execution_count": 34,
      "metadata": {
        "id": "9kLnGl71e9-_"
      },
      "outputs": [],
      "source": [
        "# crate mapper for movieId and title names\n",
        "item_name_mapper = dict(zip(movies_metadata['item_id'], movies_metadata['title']))"
      ]
    },
    {
      "cell_type": "code",
      "execution_count": 35,
      "metadata": {
        "colab": {
          "base_uri": "https://localhost:8080/",
          "height": 363
        },
        "id": "oIRs0O0ve9-_",
        "outputId": "f547197a-8fd0-4036-c024-06350a68db10"
      },
      "outputs": [
        {
          "output_type": "execute_result",
          "data": {
            "text/plain": [
              "   col_id  item_id                          title\n",
              "0     302    12173                Мстители: Финал\n",
              "1      20     7626  Мстители: Война бесконечности\n",
              "2     435    13018              Король лев (2019)\n",
              "3       5     7571                      100% волк\n",
              "4     225    10942                       Мстители\n",
              "5     410     7210                  Тор: Рагнарёк\n",
              "6      61     4436            Ford против Ferrari\n",
              "7     146    11310                        Аладдин\n",
              "8     298    13915                         Вперёд\n",
              "9     232     1785                 Чёрная пантера"
            ],
            "text/html": [
              "\n",
              "  <div id=\"df-681e15c9-08c6-4ddb-80ad-4a3e5ca3fb52\">\n",
              "    <div class=\"colab-df-container\">\n",
              "      <div>\n",
              "<style scoped>\n",
              "    .dataframe tbody tr th:only-of-type {\n",
              "        vertical-align: middle;\n",
              "    }\n",
              "\n",
              "    .dataframe tbody tr th {\n",
              "        vertical-align: top;\n",
              "    }\n",
              "\n",
              "    .dataframe thead th {\n",
              "        text-align: right;\n",
              "    }\n",
              "</style>\n",
              "<table border=\"1\" class=\"dataframe\">\n",
              "  <thead>\n",
              "    <tr style=\"text-align: right;\">\n",
              "      <th></th>\n",
              "      <th>col_id</th>\n",
              "      <th>item_id</th>\n",
              "      <th>title</th>\n",
              "    </tr>\n",
              "  </thead>\n",
              "  <tbody>\n",
              "    <tr>\n",
              "      <th>0</th>\n",
              "      <td>302</td>\n",
              "      <td>12173</td>\n",
              "      <td>Мстители: Финал</td>\n",
              "    </tr>\n",
              "    <tr>\n",
              "      <th>1</th>\n",
              "      <td>20</td>\n",
              "      <td>7626</td>\n",
              "      <td>Мстители: Война бесконечности</td>\n",
              "    </tr>\n",
              "    <tr>\n",
              "      <th>2</th>\n",
              "      <td>435</td>\n",
              "      <td>13018</td>\n",
              "      <td>Король лев (2019)</td>\n",
              "    </tr>\n",
              "    <tr>\n",
              "      <th>3</th>\n",
              "      <td>5</td>\n",
              "      <td>7571</td>\n",
              "      <td>100% волк</td>\n",
              "    </tr>\n",
              "    <tr>\n",
              "      <th>4</th>\n",
              "      <td>225</td>\n",
              "      <td>10942</td>\n",
              "      <td>Мстители</td>\n",
              "    </tr>\n",
              "    <tr>\n",
              "      <th>5</th>\n",
              "      <td>410</td>\n",
              "      <td>7210</td>\n",
              "      <td>Тор: Рагнарёк</td>\n",
              "    </tr>\n",
              "    <tr>\n",
              "      <th>6</th>\n",
              "      <td>61</td>\n",
              "      <td>4436</td>\n",
              "      <td>Ford против Ferrari</td>\n",
              "    </tr>\n",
              "    <tr>\n",
              "      <th>7</th>\n",
              "      <td>146</td>\n",
              "      <td>11310</td>\n",
              "      <td>Аладдин</td>\n",
              "    </tr>\n",
              "    <tr>\n",
              "      <th>8</th>\n",
              "      <td>298</td>\n",
              "      <td>13915</td>\n",
              "      <td>Вперёд</td>\n",
              "    </tr>\n",
              "    <tr>\n",
              "      <th>9</th>\n",
              "      <td>232</td>\n",
              "      <td>1785</td>\n",
              "      <td>Чёрная пантера</td>\n",
              "    </tr>\n",
              "  </tbody>\n",
              "</table>\n",
              "</div>\n",
              "      <button class=\"colab-df-convert\" onclick=\"convertToInteractive('df-681e15c9-08c6-4ddb-80ad-4a3e5ca3fb52')\"\n",
              "              title=\"Convert this dataframe to an interactive table.\"\n",
              "              style=\"display:none;\">\n",
              "        \n",
              "  <svg xmlns=\"http://www.w3.org/2000/svg\" height=\"24px\"viewBox=\"0 0 24 24\"\n",
              "       width=\"24px\">\n",
              "    <path d=\"M0 0h24v24H0V0z\" fill=\"none\"/>\n",
              "    <path d=\"M18.56 5.44l.94 2.06.94-2.06 2.06-.94-2.06-.94-.94-2.06-.94 2.06-2.06.94zm-11 1L8.5 8.5l.94-2.06 2.06-.94-2.06-.94L8.5 2.5l-.94 2.06-2.06.94zm10 10l.94 2.06.94-2.06 2.06-.94-2.06-.94-.94-2.06-.94 2.06-2.06.94z\"/><path d=\"M17.41 7.96l-1.37-1.37c-.4-.4-.92-.59-1.43-.59-.52 0-1.04.2-1.43.59L10.3 9.45l-7.72 7.72c-.78.78-.78 2.05 0 2.83L4 21.41c.39.39.9.59 1.41.59.51 0 1.02-.2 1.41-.59l7.78-7.78 2.81-2.81c.8-.78.8-2.07 0-2.86zM5.41 20L4 18.59l7.72-7.72 1.47 1.35L5.41 20z\"/>\n",
              "  </svg>\n",
              "      </button>\n",
              "      \n",
              "  <style>\n",
              "    .colab-df-container {\n",
              "      display:flex;\n",
              "      flex-wrap:wrap;\n",
              "      gap: 12px;\n",
              "    }\n",
              "\n",
              "    .colab-df-convert {\n",
              "      background-color: #E8F0FE;\n",
              "      border: none;\n",
              "      border-radius: 50%;\n",
              "      cursor: pointer;\n",
              "      display: none;\n",
              "      fill: #1967D2;\n",
              "      height: 32px;\n",
              "      padding: 0 0 0 0;\n",
              "      width: 32px;\n",
              "    }\n",
              "\n",
              "    .colab-df-convert:hover {\n",
              "      background-color: #E2EBFA;\n",
              "      box-shadow: 0px 1px 2px rgba(60, 64, 67, 0.3), 0px 1px 3px 1px rgba(60, 64, 67, 0.15);\n",
              "      fill: #174EA6;\n",
              "    }\n",
              "\n",
              "    [theme=dark] .colab-df-convert {\n",
              "      background-color: #3B4455;\n",
              "      fill: #D2E3FC;\n",
              "    }\n",
              "\n",
              "    [theme=dark] .colab-df-convert:hover {\n",
              "      background-color: #434B5C;\n",
              "      box-shadow: 0px 1px 3px 1px rgba(0, 0, 0, 0.15);\n",
              "      filter: drop-shadow(0px 1px 2px rgba(0, 0, 0, 0.3));\n",
              "      fill: #FFFFFF;\n",
              "    }\n",
              "  </style>\n",
              "\n",
              "      <script>\n",
              "        const buttonEl =\n",
              "          document.querySelector('#df-681e15c9-08c6-4ddb-80ad-4a3e5ca3fb52 button.colab-df-convert');\n",
              "        buttonEl.style.display =\n",
              "          google.colab.kernel.accessAllowed ? 'block' : 'none';\n",
              "\n",
              "        async function convertToInteractive(key) {\n",
              "          const element = document.querySelector('#df-681e15c9-08c6-4ddb-80ad-4a3e5ca3fb52');\n",
              "          const dataTable =\n",
              "            await google.colab.kernel.invokeFunction('convertToInteractive',\n",
              "                                                     [key], {});\n",
              "          if (!dataTable) return;\n",
              "\n",
              "          const docLinkHtml = 'Like what you see? Visit the ' +\n",
              "            '<a target=\"_blank\" href=https://colab.research.google.com/notebooks/data_table.ipynb>data table notebook</a>'\n",
              "            + ' to learn more about interactive tables.';\n",
              "          element.innerHTML = '';\n",
              "          dataTable['output_type'] = 'display_data';\n",
              "          await google.colab.output.renderOutput(dataTable, element);\n",
              "          const docLink = document.createElement('div');\n",
              "          docLink.innerHTML = docLinkHtml;\n",
              "          element.appendChild(docLink);\n",
              "        }\n",
              "      </script>\n",
              "    </div>\n",
              "  </div>\n",
              "  "
            ]
          },
          "metadata": {},
          "execution_count": 35
        }
      ],
      "source": [
        "recs = pd.DataFrame({'col_id': top_cols})\n",
        "recs['item_id'] = recs['col_id'].map(lightfm_mapping['items_inv_mapping'].get)\n",
        "recs['title'] = recs['item_id'].map(item_name_mapper)\n",
        "recs"
      ]
    },
    {
      "cell_type": "code",
      "execution_count": 36,
      "metadata": {
        "colab": {
          "base_uri": "https://localhost:8080/",
          "height": 0
        },
        "id": "MrZciIl6e9-_",
        "outputId": "e55a117c-ca55-4204-a5cc-59f68287371a"
      },
      "outputs": [
        {
          "output_type": "stream",
          "name": "stdout",
          "text": [
            "Rekko for user 869219, row number in matrix - 675\n"
          ]
        }
      ],
      "source": [
        "# let's make sense-check\n",
        "top_N = 10\n",
        "user_id = local_train['user_id'][1000]\n",
        "row_id = lightfm_mapping['users_mapping'][user_id]\n",
        "print(f'Rekko for user {user_id}, row number in matrix - {row_id}')"
      ]
    },
    {
      "cell_type": "code",
      "execution_count": 37,
      "metadata": {
        "colab": {
          "base_uri": "https://localhost:8080/",
          "height": 0
        },
        "id": "f6NgiR51e9_A",
        "outputId": "bb2ecb95-0f7e-465c-95d3-1267d150b78c"
      },
      "outputs": [
        {
          "output_type": "execute_result",
          "data": {
            "text/plain": [
              "(array([-0.63678724, -0.9542297 , -3.0479631 , ..., -3.5099337 ,\n",
              "        -3.3164275 , -2.474372  ], dtype=float32),\n",
              " (13006,))"
            ]
          },
          "metadata": {},
          "execution_count": 37
        }
      ],
      "source": [
        "pred = lfm_model.predict(\n",
        "    row_id,\n",
        "    all_cols,\n",
        "    num_threads = 4)\n",
        "pred, pred.shape\n"
      ]
    },
    {
      "cell_type": "code",
      "execution_count": 38,
      "metadata": {
        "colab": {
          "base_uri": "https://localhost:8080/",
          "height": 0
        },
        "id": "4Gfkom0_e9_A",
        "outputId": "d71326a2-4fe6-42ce-c58a-94b71e931e17"
      },
      "outputs": [
        {
          "output_type": "execute_result",
          "data": {
            "text/plain": [
              "array([ 222,  493,  682, 2935, 1390, 1065,  401,  255, 1651,  306])"
            ]
          },
          "metadata": {},
          "execution_count": 38
        }
      ],
      "source": [
        "top_cols = np.argpartition(pred, -np.arange(top_N))[-top_N:][::-1]\n",
        "top_cols"
      ]
    },
    {
      "cell_type": "code",
      "execution_count": 39,
      "metadata": {
        "colab": {
          "base_uri": "https://localhost:8080/",
          "height": 363
        },
        "id": "lfRWi61ne9_A",
        "outputId": "b5928845-8e98-40e2-dc89-a3baec6413ec"
      },
      "outputs": [
        {
          "output_type": "execute_result",
          "data": {
            "text/plain": [
              "   col_id  item_id                                      title\n",
              "0     222      676                          Человек-невидимка\n",
              "1     493     3620                                      Прочь\n",
              "2     682    16361                          Doom: Аннигиляция\n",
              "3    2935     1090                                Нерождённый\n",
              "4    1390     2483                      Очень страшное кино 5\n",
              "5    1065     5838                 Дом, который построил Джек\n",
              "6     401     4696  Удивительное путешествие доктора Дулиттла\n",
              "7     255    14431                  Приворот. Чёрное венчание\n",
              "8    1651    11231                           Заклятье. Дом 32\n",
              "9     306     9169                                   Взаперти"
            ],
            "text/html": [
              "\n",
              "  <div id=\"df-f17db2c9-67d0-46b4-9b99-a0fc75044df5\">\n",
              "    <div class=\"colab-df-container\">\n",
              "      <div>\n",
              "<style scoped>\n",
              "    .dataframe tbody tr th:only-of-type {\n",
              "        vertical-align: middle;\n",
              "    }\n",
              "\n",
              "    .dataframe tbody tr th {\n",
              "        vertical-align: top;\n",
              "    }\n",
              "\n",
              "    .dataframe thead th {\n",
              "        text-align: right;\n",
              "    }\n",
              "</style>\n",
              "<table border=\"1\" class=\"dataframe\">\n",
              "  <thead>\n",
              "    <tr style=\"text-align: right;\">\n",
              "      <th></th>\n",
              "      <th>col_id</th>\n",
              "      <th>item_id</th>\n",
              "      <th>title</th>\n",
              "    </tr>\n",
              "  </thead>\n",
              "  <tbody>\n",
              "    <tr>\n",
              "      <th>0</th>\n",
              "      <td>222</td>\n",
              "      <td>676</td>\n",
              "      <td>Человек-невидимка</td>\n",
              "    </tr>\n",
              "    <tr>\n",
              "      <th>1</th>\n",
              "      <td>493</td>\n",
              "      <td>3620</td>\n",
              "      <td>Прочь</td>\n",
              "    </tr>\n",
              "    <tr>\n",
              "      <th>2</th>\n",
              "      <td>682</td>\n",
              "      <td>16361</td>\n",
              "      <td>Doom: Аннигиляция</td>\n",
              "    </tr>\n",
              "    <tr>\n",
              "      <th>3</th>\n",
              "      <td>2935</td>\n",
              "      <td>1090</td>\n",
              "      <td>Нерождённый</td>\n",
              "    </tr>\n",
              "    <tr>\n",
              "      <th>4</th>\n",
              "      <td>1390</td>\n",
              "      <td>2483</td>\n",
              "      <td>Очень страшное кино 5</td>\n",
              "    </tr>\n",
              "    <tr>\n",
              "      <th>5</th>\n",
              "      <td>1065</td>\n",
              "      <td>5838</td>\n",
              "      <td>Дом, который построил Джек</td>\n",
              "    </tr>\n",
              "    <tr>\n",
              "      <th>6</th>\n",
              "      <td>401</td>\n",
              "      <td>4696</td>\n",
              "      <td>Удивительное путешествие доктора Дулиттла</td>\n",
              "    </tr>\n",
              "    <tr>\n",
              "      <th>7</th>\n",
              "      <td>255</td>\n",
              "      <td>14431</td>\n",
              "      <td>Приворот. Чёрное венчание</td>\n",
              "    </tr>\n",
              "    <tr>\n",
              "      <th>8</th>\n",
              "      <td>1651</td>\n",
              "      <td>11231</td>\n",
              "      <td>Заклятье. Дом 32</td>\n",
              "    </tr>\n",
              "    <tr>\n",
              "      <th>9</th>\n",
              "      <td>306</td>\n",
              "      <td>9169</td>\n",
              "      <td>Взаперти</td>\n",
              "    </tr>\n",
              "  </tbody>\n",
              "</table>\n",
              "</div>\n",
              "      <button class=\"colab-df-convert\" onclick=\"convertToInteractive('df-f17db2c9-67d0-46b4-9b99-a0fc75044df5')\"\n",
              "              title=\"Convert this dataframe to an interactive table.\"\n",
              "              style=\"display:none;\">\n",
              "        \n",
              "  <svg xmlns=\"http://www.w3.org/2000/svg\" height=\"24px\"viewBox=\"0 0 24 24\"\n",
              "       width=\"24px\">\n",
              "    <path d=\"M0 0h24v24H0V0z\" fill=\"none\"/>\n",
              "    <path d=\"M18.56 5.44l.94 2.06.94-2.06 2.06-.94-2.06-.94-.94-2.06-.94 2.06-2.06.94zm-11 1L8.5 8.5l.94-2.06 2.06-.94-2.06-.94L8.5 2.5l-.94 2.06-2.06.94zm10 10l.94 2.06.94-2.06 2.06-.94-2.06-.94-.94-2.06-.94 2.06-2.06.94z\"/><path d=\"M17.41 7.96l-1.37-1.37c-.4-.4-.92-.59-1.43-.59-.52 0-1.04.2-1.43.59L10.3 9.45l-7.72 7.72c-.78.78-.78 2.05 0 2.83L4 21.41c.39.39.9.59 1.41.59.51 0 1.02-.2 1.41-.59l7.78-7.78 2.81-2.81c.8-.78.8-2.07 0-2.86zM5.41 20L4 18.59l7.72-7.72 1.47 1.35L5.41 20z\"/>\n",
              "  </svg>\n",
              "      </button>\n",
              "      \n",
              "  <style>\n",
              "    .colab-df-container {\n",
              "      display:flex;\n",
              "      flex-wrap:wrap;\n",
              "      gap: 12px;\n",
              "    }\n",
              "\n",
              "    .colab-df-convert {\n",
              "      background-color: #E8F0FE;\n",
              "      border: none;\n",
              "      border-radius: 50%;\n",
              "      cursor: pointer;\n",
              "      display: none;\n",
              "      fill: #1967D2;\n",
              "      height: 32px;\n",
              "      padding: 0 0 0 0;\n",
              "      width: 32px;\n",
              "    }\n",
              "\n",
              "    .colab-df-convert:hover {\n",
              "      background-color: #E2EBFA;\n",
              "      box-shadow: 0px 1px 2px rgba(60, 64, 67, 0.3), 0px 1px 3px 1px rgba(60, 64, 67, 0.15);\n",
              "      fill: #174EA6;\n",
              "    }\n",
              "\n",
              "    [theme=dark] .colab-df-convert {\n",
              "      background-color: #3B4455;\n",
              "      fill: #D2E3FC;\n",
              "    }\n",
              "\n",
              "    [theme=dark] .colab-df-convert:hover {\n",
              "      background-color: #434B5C;\n",
              "      box-shadow: 0px 1px 3px 1px rgba(0, 0, 0, 0.15);\n",
              "      filter: drop-shadow(0px 1px 2px rgba(0, 0, 0, 0.3));\n",
              "      fill: #FFFFFF;\n",
              "    }\n",
              "  </style>\n",
              "\n",
              "      <script>\n",
              "        const buttonEl =\n",
              "          document.querySelector('#df-f17db2c9-67d0-46b4-9b99-a0fc75044df5 button.colab-df-convert');\n",
              "        buttonEl.style.display =\n",
              "          google.colab.kernel.accessAllowed ? 'block' : 'none';\n",
              "\n",
              "        async function convertToInteractive(key) {\n",
              "          const element = document.querySelector('#df-f17db2c9-67d0-46b4-9b99-a0fc75044df5');\n",
              "          const dataTable =\n",
              "            await google.colab.kernel.invokeFunction('convertToInteractive',\n",
              "                                                     [key], {});\n",
              "          if (!dataTable) return;\n",
              "\n",
              "          const docLinkHtml = 'Like what you see? Visit the ' +\n",
              "            '<a target=\"_blank\" href=https://colab.research.google.com/notebooks/data_table.ipynb>data table notebook</a>'\n",
              "            + ' to learn more about interactive tables.';\n",
              "          element.innerHTML = '';\n",
              "          dataTable['output_type'] = 'display_data';\n",
              "          await google.colab.output.renderOutput(dataTable, element);\n",
              "          const docLink = document.createElement('div');\n",
              "          docLink.innerHTML = docLinkHtml;\n",
              "          element.appendChild(docLink);\n",
              "        }\n",
              "      </script>\n",
              "    </div>\n",
              "  </div>\n",
              "  "
            ]
          },
          "metadata": {},
          "execution_count": 39
        }
      ],
      "source": [
        "recs = pd.DataFrame({'col_id': top_cols})\n",
        "recs['item_id'] = recs['col_id'].map(lightfm_mapping['items_inv_mapping'].get)\n",
        "recs['title'] = recs['item_id'].map(item_name_mapper)\n",
        "recs"
      ]
    },
    {
      "cell_type": "code",
      "execution_count": 40,
      "metadata": {
        "colab": {
          "base_uri": "https://localhost:8080/",
          "height": 0
        },
        "id": "4oSFwRU-e9_A",
        "outputId": "617afa8f-652f-45ab-c58b-6e32d2ceabbf"
      },
      "outputs": [
        {
          "output_type": "execute_result",
          "data": {
            "text/plain": [
              "144739"
            ]
          },
          "metadata": {},
          "execution_count": 40
        }
      ],
      "source": [
        "# let's make predictions for all users in test\n",
        "test_preds = pd.DataFrame({\n",
        "    'user_id': local_test['user_id'].unique()\n",
        "})\n",
        "len(test_preds)"
      ]
    },
    {
      "cell_type": "code",
      "execution_count": 41,
      "metadata": {
        "id": "hYWkQPq7e9_B"
      },
      "outputs": [],
      "source": [
        "# all_recs = pd.DataFrame()\n",
        "# for user in tqdm_notebook(users_mapping.keys()):\n",
        "#     row_id = users_mapping[user]\n",
        "#     pred = lfm_model.predict(\n",
        "#         row_id,\n",
        "#         all_cols,\n",
        "#         num_threads = 4)\n",
        "#     top_cols = np.argpartition(pred, -np.arange(top_N))[-top_N:][::-1]\n",
        "#     user_recs = pd.DataFrame({'col_id': top_cols})\n",
        "#     user_recs['item_id'] = user_recs['col_id'].map(lightfm_mapping['items_inv_mapping'].get)\n",
        "#     user_recs['title'] = user_recs['item_id'].map(item_name_mapper)\n",
        "\n",
        "#     all_recs = pd.concat([all_recs, user_recs], ignore_index = True)"
      ]
    },
    {
      "cell_type": "code",
      "execution_count": 42,
      "metadata": {
        "id": "FkqbqbnSe9_B"
      },
      "outputs": [],
      "source": [
        "def generate_lightfm_recs_mapper(\n",
        "        model: object,\n",
        "        item_ids: list,\n",
        "        known_items: dict,\n",
        "        user_features: list,\n",
        "        item_features: list,\n",
        "        N: int,\n",
        "        user_mapping: dict,\n",
        "        item_inv_mapping: dict,\n",
        "        num_threads: int = 4\n",
        "        ):\n",
        "    def _recs_mapper(user):\n",
        "        user_id = user_mapping[user]\n",
        "        recs = model.predict(\n",
        "            user_id,\n",
        "            item_ids,\n",
        "            user_features = user_features,\n",
        "            item_features = item_features,\n",
        "            num_threads = num_threads)\n",
        "        \n",
        "        additional_N = len(known_items[user_id]) if user_id in known_items else 0\n",
        "        total_N = N + additional_N\n",
        "        top_cols = np.argpartition(recs, -np.arange(total_N))[-total_N:][::-1]\n",
        "        \n",
        "        final_recs = [item_inv_mapping[item] for item in top_cols]\n",
        "        if additional_N > 0:\n",
        "            filter_items = known_items[user_id]\n",
        "            final_recs = [item for item in final_recs if item not in filter_items]\n",
        "        return final_recs[:N]\n",
        "    return _recs_mapper"
      ]
    },
    {
      "cell_type": "code",
      "execution_count": 43,
      "metadata": {
        "id": "f6Bqyqw0e9_B"
      },
      "outputs": [],
      "source": [
        "mapper = generate_lightfm_recs_mapper(\n",
        "    lfm_model, \n",
        "    item_ids = all_cols, \n",
        "    known_items = dict(),\n",
        "    N = top_N,\n",
        "    user_features = None, \n",
        "    item_features = None, \n",
        "    user_mapping = lightfm_mapping['users_mapping'],\n",
        "    item_inv_mapping = lightfm_mapping['items_inv_mapping'],\n",
        "    num_threads = 20\n",
        ")"
      ]
    },
    {
      "cell_type": "code",
      "execution_count": 44,
      "metadata": {
        "id": "f4q_CK2Re9_B"
      },
      "outputs": [],
      "source": [
        "test_preds['item_id'] = test_preds['user_id'].map(mapper)"
      ]
    },
    {
      "cell_type": "code",
      "execution_count": 45,
      "metadata": {
        "colab": {
          "base_uri": "https://localhost:8080/",
          "height": 0
        },
        "id": "7PFxjmS2e9_B",
        "outputId": "186ae71d-8128-4cc2-bc4b-67c6bfc45af3"
      },
      "outputs": [
        {
          "output_type": "execute_result",
          "data": {
            "text/plain": [
              "(1447390, 2)"
            ]
          },
          "metadata": {},
          "execution_count": 45
        }
      ],
      "source": [
        "test_preds = test_preds.explode('item_id')\n",
        "test_preds.shape"
      ]
    },
    {
      "cell_type": "code",
      "execution_count": 46,
      "metadata": {
        "id": "YvSsmxkWe9_C"
      },
      "outputs": [],
      "source": [
        "test_preds['rank'] = test_preds.groupby('user_id').cumcount() + 1 "
      ]
    },
    {
      "cell_type": "code",
      "execution_count": 47,
      "metadata": {
        "colab": {
          "base_uri": "https://localhost:8080/",
          "height": 206
        },
        "id": "EzSXr63ve9_C",
        "outputId": "c7c1828b-5279-4a24-c2c1-a35d01ca470c"
      },
      "outputs": [
        {
          "output_type": "execute_result",
          "data": {
            "text/plain": [
              "   user_id item_id  rank\n",
              "0   646903   16361     1\n",
              "0   646903   10440     2\n",
              "0   646903   14359     3\n",
              "0   646903   14431     4\n",
              "0   646903    9169     5"
            ],
            "text/html": [
              "\n",
              "  <div id=\"df-bcdc0e43-f781-4b8e-93c3-4e85273cb762\">\n",
              "    <div class=\"colab-df-container\">\n",
              "      <div>\n",
              "<style scoped>\n",
              "    .dataframe tbody tr th:only-of-type {\n",
              "        vertical-align: middle;\n",
              "    }\n",
              "\n",
              "    .dataframe tbody tr th {\n",
              "        vertical-align: top;\n",
              "    }\n",
              "\n",
              "    .dataframe thead th {\n",
              "        text-align: right;\n",
              "    }\n",
              "</style>\n",
              "<table border=\"1\" class=\"dataframe\">\n",
              "  <thead>\n",
              "    <tr style=\"text-align: right;\">\n",
              "      <th></th>\n",
              "      <th>user_id</th>\n",
              "      <th>item_id</th>\n",
              "      <th>rank</th>\n",
              "    </tr>\n",
              "  </thead>\n",
              "  <tbody>\n",
              "    <tr>\n",
              "      <th>0</th>\n",
              "      <td>646903</td>\n",
              "      <td>16361</td>\n",
              "      <td>1</td>\n",
              "    </tr>\n",
              "    <tr>\n",
              "      <th>0</th>\n",
              "      <td>646903</td>\n",
              "      <td>10440</td>\n",
              "      <td>2</td>\n",
              "    </tr>\n",
              "    <tr>\n",
              "      <th>0</th>\n",
              "      <td>646903</td>\n",
              "      <td>14359</td>\n",
              "      <td>3</td>\n",
              "    </tr>\n",
              "    <tr>\n",
              "      <th>0</th>\n",
              "      <td>646903</td>\n",
              "      <td>14431</td>\n",
              "      <td>4</td>\n",
              "    </tr>\n",
              "    <tr>\n",
              "      <th>0</th>\n",
              "      <td>646903</td>\n",
              "      <td>9169</td>\n",
              "      <td>5</td>\n",
              "    </tr>\n",
              "  </tbody>\n",
              "</table>\n",
              "</div>\n",
              "      <button class=\"colab-df-convert\" onclick=\"convertToInteractive('df-bcdc0e43-f781-4b8e-93c3-4e85273cb762')\"\n",
              "              title=\"Convert this dataframe to an interactive table.\"\n",
              "              style=\"display:none;\">\n",
              "        \n",
              "  <svg xmlns=\"http://www.w3.org/2000/svg\" height=\"24px\"viewBox=\"0 0 24 24\"\n",
              "       width=\"24px\">\n",
              "    <path d=\"M0 0h24v24H0V0z\" fill=\"none\"/>\n",
              "    <path d=\"M18.56 5.44l.94 2.06.94-2.06 2.06-.94-2.06-.94-.94-2.06-.94 2.06-2.06.94zm-11 1L8.5 8.5l.94-2.06 2.06-.94-2.06-.94L8.5 2.5l-.94 2.06-2.06.94zm10 10l.94 2.06.94-2.06 2.06-.94-2.06-.94-.94-2.06-.94 2.06-2.06.94z\"/><path d=\"M17.41 7.96l-1.37-1.37c-.4-.4-.92-.59-1.43-.59-.52 0-1.04.2-1.43.59L10.3 9.45l-7.72 7.72c-.78.78-.78 2.05 0 2.83L4 21.41c.39.39.9.59 1.41.59.51 0 1.02-.2 1.41-.59l7.78-7.78 2.81-2.81c.8-.78.8-2.07 0-2.86zM5.41 20L4 18.59l7.72-7.72 1.47 1.35L5.41 20z\"/>\n",
              "  </svg>\n",
              "      </button>\n",
              "      \n",
              "  <style>\n",
              "    .colab-df-container {\n",
              "      display:flex;\n",
              "      flex-wrap:wrap;\n",
              "      gap: 12px;\n",
              "    }\n",
              "\n",
              "    .colab-df-convert {\n",
              "      background-color: #E8F0FE;\n",
              "      border: none;\n",
              "      border-radius: 50%;\n",
              "      cursor: pointer;\n",
              "      display: none;\n",
              "      fill: #1967D2;\n",
              "      height: 32px;\n",
              "      padding: 0 0 0 0;\n",
              "      width: 32px;\n",
              "    }\n",
              "\n",
              "    .colab-df-convert:hover {\n",
              "      background-color: #E2EBFA;\n",
              "      box-shadow: 0px 1px 2px rgba(60, 64, 67, 0.3), 0px 1px 3px 1px rgba(60, 64, 67, 0.15);\n",
              "      fill: #174EA6;\n",
              "    }\n",
              "\n",
              "    [theme=dark] .colab-df-convert {\n",
              "      background-color: #3B4455;\n",
              "      fill: #D2E3FC;\n",
              "    }\n",
              "\n",
              "    [theme=dark] .colab-df-convert:hover {\n",
              "      background-color: #434B5C;\n",
              "      box-shadow: 0px 1px 3px 1px rgba(0, 0, 0, 0.15);\n",
              "      filter: drop-shadow(0px 1px 2px rgba(0, 0, 0, 0.3));\n",
              "      fill: #FFFFFF;\n",
              "    }\n",
              "  </style>\n",
              "\n",
              "      <script>\n",
              "        const buttonEl =\n",
              "          document.querySelector('#df-bcdc0e43-f781-4b8e-93c3-4e85273cb762 button.colab-df-convert');\n",
              "        buttonEl.style.display =\n",
              "          google.colab.kernel.accessAllowed ? 'block' : 'none';\n",
              "\n",
              "        async function convertToInteractive(key) {\n",
              "          const element = document.querySelector('#df-bcdc0e43-f781-4b8e-93c3-4e85273cb762');\n",
              "          const dataTable =\n",
              "            await google.colab.kernel.invokeFunction('convertToInteractive',\n",
              "                                                     [key], {});\n",
              "          if (!dataTable) return;\n",
              "\n",
              "          const docLinkHtml = 'Like what you see? Visit the ' +\n",
              "            '<a target=\"_blank\" href=https://colab.research.google.com/notebooks/data_table.ipynb>data table notebook</a>'\n",
              "            + ' to learn more about interactive tables.';\n",
              "          element.innerHTML = '';\n",
              "          dataTable['output_type'] = 'display_data';\n",
              "          await google.colab.output.renderOutput(dataTable, element);\n",
              "          const docLink = document.createElement('div');\n",
              "          docLink.innerHTML = docLinkHtml;\n",
              "          element.appendChild(docLink);\n",
              "        }\n",
              "      </script>\n",
              "    </div>\n",
              "  </div>\n",
              "  "
            ]
          },
          "metadata": {},
          "execution_count": 47
        }
      ],
      "source": [
        "test_preds.head()"
      ]
    },
    {
      "cell_type": "code",
      "execution_count": 48,
      "metadata": {
        "colab": {
          "base_uri": "https://localhost:8080/",
          "height": 206
        },
        "id": "dNAGDR1re9_C",
        "outputId": "8405027a-3979-4b63-ac97-a133a46c9fb6"
      },
      "outputs": [
        {
          "output_type": "execute_result",
          "data": {
            "text/plain": [
              "   user_id item_id  rank                  item_name\n",
              "0   646903   16361     1          Doom: Аннигиляция\n",
              "0   646903   10440     2                Хрустальный\n",
              "0   646903   14359     3           Проклятие ведьмы\n",
              "0   646903   14431     4  Приворот. Чёрное венчание\n",
              "0   646903    9169     5                   Взаперти"
            ],
            "text/html": [
              "\n",
              "  <div id=\"df-f9be7461-e71c-4854-9917-7f23ddfb0240\">\n",
              "    <div class=\"colab-df-container\">\n",
              "      <div>\n",
              "<style scoped>\n",
              "    .dataframe tbody tr th:only-of-type {\n",
              "        vertical-align: middle;\n",
              "    }\n",
              "\n",
              "    .dataframe tbody tr th {\n",
              "        vertical-align: top;\n",
              "    }\n",
              "\n",
              "    .dataframe thead th {\n",
              "        text-align: right;\n",
              "    }\n",
              "</style>\n",
              "<table border=\"1\" class=\"dataframe\">\n",
              "  <thead>\n",
              "    <tr style=\"text-align: right;\">\n",
              "      <th></th>\n",
              "      <th>user_id</th>\n",
              "      <th>item_id</th>\n",
              "      <th>rank</th>\n",
              "      <th>item_name</th>\n",
              "    </tr>\n",
              "  </thead>\n",
              "  <tbody>\n",
              "    <tr>\n",
              "      <th>0</th>\n",
              "      <td>646903</td>\n",
              "      <td>16361</td>\n",
              "      <td>1</td>\n",
              "      <td>Doom: Аннигиляция</td>\n",
              "    </tr>\n",
              "    <tr>\n",
              "      <th>0</th>\n",
              "      <td>646903</td>\n",
              "      <td>10440</td>\n",
              "      <td>2</td>\n",
              "      <td>Хрустальный</td>\n",
              "    </tr>\n",
              "    <tr>\n",
              "      <th>0</th>\n",
              "      <td>646903</td>\n",
              "      <td>14359</td>\n",
              "      <td>3</td>\n",
              "      <td>Проклятие ведьмы</td>\n",
              "    </tr>\n",
              "    <tr>\n",
              "      <th>0</th>\n",
              "      <td>646903</td>\n",
              "      <td>14431</td>\n",
              "      <td>4</td>\n",
              "      <td>Приворот. Чёрное венчание</td>\n",
              "    </tr>\n",
              "    <tr>\n",
              "      <th>0</th>\n",
              "      <td>646903</td>\n",
              "      <td>9169</td>\n",
              "      <td>5</td>\n",
              "      <td>Взаперти</td>\n",
              "    </tr>\n",
              "  </tbody>\n",
              "</table>\n",
              "</div>\n",
              "      <button class=\"colab-df-convert\" onclick=\"convertToInteractive('df-f9be7461-e71c-4854-9917-7f23ddfb0240')\"\n",
              "              title=\"Convert this dataframe to an interactive table.\"\n",
              "              style=\"display:none;\">\n",
              "        \n",
              "  <svg xmlns=\"http://www.w3.org/2000/svg\" height=\"24px\"viewBox=\"0 0 24 24\"\n",
              "       width=\"24px\">\n",
              "    <path d=\"M0 0h24v24H0V0z\" fill=\"none\"/>\n",
              "    <path d=\"M18.56 5.44l.94 2.06.94-2.06 2.06-.94-2.06-.94-.94-2.06-.94 2.06-2.06.94zm-11 1L8.5 8.5l.94-2.06 2.06-.94-2.06-.94L8.5 2.5l-.94 2.06-2.06.94zm10 10l.94 2.06.94-2.06 2.06-.94-2.06-.94-.94-2.06-.94 2.06-2.06.94z\"/><path d=\"M17.41 7.96l-1.37-1.37c-.4-.4-.92-.59-1.43-.59-.52 0-1.04.2-1.43.59L10.3 9.45l-7.72 7.72c-.78.78-.78 2.05 0 2.83L4 21.41c.39.39.9.59 1.41.59.51 0 1.02-.2 1.41-.59l7.78-7.78 2.81-2.81c.8-.78.8-2.07 0-2.86zM5.41 20L4 18.59l7.72-7.72 1.47 1.35L5.41 20z\"/>\n",
              "  </svg>\n",
              "      </button>\n",
              "      \n",
              "  <style>\n",
              "    .colab-df-container {\n",
              "      display:flex;\n",
              "      flex-wrap:wrap;\n",
              "      gap: 12px;\n",
              "    }\n",
              "\n",
              "    .colab-df-convert {\n",
              "      background-color: #E8F0FE;\n",
              "      border: none;\n",
              "      border-radius: 50%;\n",
              "      cursor: pointer;\n",
              "      display: none;\n",
              "      fill: #1967D2;\n",
              "      height: 32px;\n",
              "      padding: 0 0 0 0;\n",
              "      width: 32px;\n",
              "    }\n",
              "\n",
              "    .colab-df-convert:hover {\n",
              "      background-color: #E2EBFA;\n",
              "      box-shadow: 0px 1px 2px rgba(60, 64, 67, 0.3), 0px 1px 3px 1px rgba(60, 64, 67, 0.15);\n",
              "      fill: #174EA6;\n",
              "    }\n",
              "\n",
              "    [theme=dark] .colab-df-convert {\n",
              "      background-color: #3B4455;\n",
              "      fill: #D2E3FC;\n",
              "    }\n",
              "\n",
              "    [theme=dark] .colab-df-convert:hover {\n",
              "      background-color: #434B5C;\n",
              "      box-shadow: 0px 1px 3px 1px rgba(0, 0, 0, 0.15);\n",
              "      filter: drop-shadow(0px 1px 2px rgba(0, 0, 0, 0.3));\n",
              "      fill: #FFFFFF;\n",
              "    }\n",
              "  </style>\n",
              "\n",
              "      <script>\n",
              "        const buttonEl =\n",
              "          document.querySelector('#df-f9be7461-e71c-4854-9917-7f23ddfb0240 button.colab-df-convert');\n",
              "        buttonEl.style.display =\n",
              "          google.colab.kernel.accessAllowed ? 'block' : 'none';\n",
              "\n",
              "        async function convertToInteractive(key) {\n",
              "          const element = document.querySelector('#df-f9be7461-e71c-4854-9917-7f23ddfb0240');\n",
              "          const dataTable =\n",
              "            await google.colab.kernel.invokeFunction('convertToInteractive',\n",
              "                                                     [key], {});\n",
              "          if (!dataTable) return;\n",
              "\n",
              "          const docLinkHtml = 'Like what you see? Visit the ' +\n",
              "            '<a target=\"_blank\" href=https://colab.research.google.com/notebooks/data_table.ipynb>data table notebook</a>'\n",
              "            + ' to learn more about interactive tables.';\n",
              "          element.innerHTML = '';\n",
              "          dataTable['output_type'] = 'display_data';\n",
              "          await google.colab.output.renderOutput(dataTable, element);\n",
              "          const docLink = document.createElement('div');\n",
              "          docLink.innerHTML = docLinkHtml;\n",
              "          element.appendChild(docLink);\n",
              "        }\n",
              "      </script>\n",
              "    </div>\n",
              "  </div>\n",
              "  "
            ]
          },
          "metadata": {},
          "execution_count": 48
        }
      ],
      "source": [
        "test_preds['item_name'] = test_preds['item_id'].map(item_name_mapper)\n",
        "test_preds.head()"
      ]
    },
    {
      "cell_type": "code",
      "execution_count": 49,
      "metadata": {
        "colab": {
          "base_uri": "https://localhost:8080/",
          "height": 0
        },
        "id": "DDVHzLaMe9_C",
        "outputId": "9af9c584-e0f6-4bfd-98f1-54a9d6b39d21"
      },
      "outputs": [
        {
          "output_type": "execute_result",
          "data": {
            "text/plain": [
              "1770"
            ]
          },
          "metadata": {},
          "execution_count": 49
        }
      ],
      "source": [
        "# sense check for diversity of recommendations\n",
        "test_preds.item_id.nunique()"
      ]
    },
    {
      "cell_type": "code",
      "source": [
        "test_preds"
      ],
      "metadata": {
        "colab": {
          "base_uri": "https://localhost:8080/",
          "height": 423
        },
        "id": "zmaGJNeO4LON",
        "outputId": "fd9cd45a-cca6-4e1f-a0e4-3044abd09e7b"
      },
      "execution_count": 50,
      "outputs": [
        {
          "output_type": "execute_result",
          "data": {
            "text/plain": [
              "        user_id item_id  rank                  item_name\n",
              "0        646903   16361     1          Doom: Аннигиляция\n",
              "0        646903   10440     2                Хрустальный\n",
              "0        646903   14359     3           Проклятие ведьмы\n",
              "0        646903   14431     4  Приворот. Чёрное венчание\n",
              "0        646903    9169     5                   Взаперти\n",
              "...         ...     ...   ...                        ...\n",
              "144738   119646     142     6                       Маша\n",
              "144738   119646   12995     7               Восемь сотен\n",
              "144738   119646   15297     8            Клиника счастья\n",
              "144738   119646   13723     9                   Левиафан\n",
              "144738   119646   11237    10                День города\n",
              "\n",
              "[1447390 rows x 4 columns]"
            ],
            "text/html": [
              "\n",
              "  <div id=\"df-e7661238-55dc-46a3-9fd8-b3752fa7b0ef\">\n",
              "    <div class=\"colab-df-container\">\n",
              "      <div>\n",
              "<style scoped>\n",
              "    .dataframe tbody tr th:only-of-type {\n",
              "        vertical-align: middle;\n",
              "    }\n",
              "\n",
              "    .dataframe tbody tr th {\n",
              "        vertical-align: top;\n",
              "    }\n",
              "\n",
              "    .dataframe thead th {\n",
              "        text-align: right;\n",
              "    }\n",
              "</style>\n",
              "<table border=\"1\" class=\"dataframe\">\n",
              "  <thead>\n",
              "    <tr style=\"text-align: right;\">\n",
              "      <th></th>\n",
              "      <th>user_id</th>\n",
              "      <th>item_id</th>\n",
              "      <th>rank</th>\n",
              "      <th>item_name</th>\n",
              "    </tr>\n",
              "  </thead>\n",
              "  <tbody>\n",
              "    <tr>\n",
              "      <th>0</th>\n",
              "      <td>646903</td>\n",
              "      <td>16361</td>\n",
              "      <td>1</td>\n",
              "      <td>Doom: Аннигиляция</td>\n",
              "    </tr>\n",
              "    <tr>\n",
              "      <th>0</th>\n",
              "      <td>646903</td>\n",
              "      <td>10440</td>\n",
              "      <td>2</td>\n",
              "      <td>Хрустальный</td>\n",
              "    </tr>\n",
              "    <tr>\n",
              "      <th>0</th>\n",
              "      <td>646903</td>\n",
              "      <td>14359</td>\n",
              "      <td>3</td>\n",
              "      <td>Проклятие ведьмы</td>\n",
              "    </tr>\n",
              "    <tr>\n",
              "      <th>0</th>\n",
              "      <td>646903</td>\n",
              "      <td>14431</td>\n",
              "      <td>4</td>\n",
              "      <td>Приворот. Чёрное венчание</td>\n",
              "    </tr>\n",
              "    <tr>\n",
              "      <th>0</th>\n",
              "      <td>646903</td>\n",
              "      <td>9169</td>\n",
              "      <td>5</td>\n",
              "      <td>Взаперти</td>\n",
              "    </tr>\n",
              "    <tr>\n",
              "      <th>...</th>\n",
              "      <td>...</td>\n",
              "      <td>...</td>\n",
              "      <td>...</td>\n",
              "      <td>...</td>\n",
              "    </tr>\n",
              "    <tr>\n",
              "      <th>144738</th>\n",
              "      <td>119646</td>\n",
              "      <td>142</td>\n",
              "      <td>6</td>\n",
              "      <td>Маша</td>\n",
              "    </tr>\n",
              "    <tr>\n",
              "      <th>144738</th>\n",
              "      <td>119646</td>\n",
              "      <td>12995</td>\n",
              "      <td>7</td>\n",
              "      <td>Восемь сотен</td>\n",
              "    </tr>\n",
              "    <tr>\n",
              "      <th>144738</th>\n",
              "      <td>119646</td>\n",
              "      <td>15297</td>\n",
              "      <td>8</td>\n",
              "      <td>Клиника счастья</td>\n",
              "    </tr>\n",
              "    <tr>\n",
              "      <th>144738</th>\n",
              "      <td>119646</td>\n",
              "      <td>13723</td>\n",
              "      <td>9</td>\n",
              "      <td>Левиафан</td>\n",
              "    </tr>\n",
              "    <tr>\n",
              "      <th>144738</th>\n",
              "      <td>119646</td>\n",
              "      <td>11237</td>\n",
              "      <td>10</td>\n",
              "      <td>День города</td>\n",
              "    </tr>\n",
              "  </tbody>\n",
              "</table>\n",
              "<p>1447390 rows × 4 columns</p>\n",
              "</div>\n",
              "      <button class=\"colab-df-convert\" onclick=\"convertToInteractive('df-e7661238-55dc-46a3-9fd8-b3752fa7b0ef')\"\n",
              "              title=\"Convert this dataframe to an interactive table.\"\n",
              "              style=\"display:none;\">\n",
              "        \n",
              "  <svg xmlns=\"http://www.w3.org/2000/svg\" height=\"24px\"viewBox=\"0 0 24 24\"\n",
              "       width=\"24px\">\n",
              "    <path d=\"M0 0h24v24H0V0z\" fill=\"none\"/>\n",
              "    <path d=\"M18.56 5.44l.94 2.06.94-2.06 2.06-.94-2.06-.94-.94-2.06-.94 2.06-2.06.94zm-11 1L8.5 8.5l.94-2.06 2.06-.94-2.06-.94L8.5 2.5l-.94 2.06-2.06.94zm10 10l.94 2.06.94-2.06 2.06-.94-2.06-.94-.94-2.06-.94 2.06-2.06.94z\"/><path d=\"M17.41 7.96l-1.37-1.37c-.4-.4-.92-.59-1.43-.59-.52 0-1.04.2-1.43.59L10.3 9.45l-7.72 7.72c-.78.78-.78 2.05 0 2.83L4 21.41c.39.39.9.59 1.41.59.51 0 1.02-.2 1.41-.59l7.78-7.78 2.81-2.81c.8-.78.8-2.07 0-2.86zM5.41 20L4 18.59l7.72-7.72 1.47 1.35L5.41 20z\"/>\n",
              "  </svg>\n",
              "      </button>\n",
              "      \n",
              "  <style>\n",
              "    .colab-df-container {\n",
              "      display:flex;\n",
              "      flex-wrap:wrap;\n",
              "      gap: 12px;\n",
              "    }\n",
              "\n",
              "    .colab-df-convert {\n",
              "      background-color: #E8F0FE;\n",
              "      border: none;\n",
              "      border-radius: 50%;\n",
              "      cursor: pointer;\n",
              "      display: none;\n",
              "      fill: #1967D2;\n",
              "      height: 32px;\n",
              "      padding: 0 0 0 0;\n",
              "      width: 32px;\n",
              "    }\n",
              "\n",
              "    .colab-df-convert:hover {\n",
              "      background-color: #E2EBFA;\n",
              "      box-shadow: 0px 1px 2px rgba(60, 64, 67, 0.3), 0px 1px 3px 1px rgba(60, 64, 67, 0.15);\n",
              "      fill: #174EA6;\n",
              "    }\n",
              "\n",
              "    [theme=dark] .colab-df-convert {\n",
              "      background-color: #3B4455;\n",
              "      fill: #D2E3FC;\n",
              "    }\n",
              "\n",
              "    [theme=dark] .colab-df-convert:hover {\n",
              "      background-color: #434B5C;\n",
              "      box-shadow: 0px 1px 3px 1px rgba(0, 0, 0, 0.15);\n",
              "      filter: drop-shadow(0px 1px 2px rgba(0, 0, 0, 0.3));\n",
              "      fill: #FFFFFF;\n",
              "    }\n",
              "  </style>\n",
              "\n",
              "      <script>\n",
              "        const buttonEl =\n",
              "          document.querySelector('#df-e7661238-55dc-46a3-9fd8-b3752fa7b0ef button.colab-df-convert');\n",
              "        buttonEl.style.display =\n",
              "          google.colab.kernel.accessAllowed ? 'block' : 'none';\n",
              "\n",
              "        async function convertToInteractive(key) {\n",
              "          const element = document.querySelector('#df-e7661238-55dc-46a3-9fd8-b3752fa7b0ef');\n",
              "          const dataTable =\n",
              "            await google.colab.kernel.invokeFunction('convertToInteractive',\n",
              "                                                     [key], {});\n",
              "          if (!dataTable) return;\n",
              "\n",
              "          const docLinkHtml = 'Like what you see? Visit the ' +\n",
              "            '<a target=\"_blank\" href=https://colab.research.google.com/notebooks/data_table.ipynb>data table notebook</a>'\n",
              "            + ' to learn more about interactive tables.';\n",
              "          element.innerHTML = '';\n",
              "          dataTable['output_type'] = 'display_data';\n",
              "          await google.colab.output.renderOutput(dataTable, element);\n",
              "          const docLink = document.createElement('div');\n",
              "          docLink.innerHTML = docLinkHtml;\n",
              "          element.appendChild(docLink);\n",
              "        }\n",
              "      </script>\n",
              "    </div>\n",
              "  </div>\n",
              "  "
            ]
          },
          "metadata": {},
          "execution_count": 50
        }
      ]
    },
    {
      "cell_type": "markdown",
      "metadata": {
        "id": "JoLPf5_ne9_C"
      },
      "source": [
        "## 2.5. CatBoostClassifier"
      ]
    },
    {
      "cell_type": "markdown",
      "metadata": {
        "id": "hfosWhRYe9_C"
      },
      "source": [
        "### 2.5.1. Data Preparation"
      ]
    },
    {
      "cell_type": "markdown",
      "metadata": {
        "id": "9YY1DvzXe9_D"
      },
      "source": [
        "Now, we need to creat 0/1 as indication of interaction:\n",
        "\n",
        "- positive event -- 1, if watch_pct is not null;\n",
        "- negative venet -- 0 otherwise"
      ]
    },
    {
      "cell_type": "code",
      "execution_count": 51,
      "metadata": {
        "colab": {
          "base_uri": "https://localhost:8080/",
          "height": 0
        },
        "id": "IJ8JWFT2e9_D",
        "outputId": "2c3842f3-20ca-468d-fbf7-340b2ae4bc53"
      },
      "outputs": [
        {
          "output_type": "execute_result",
          "data": {
            "text/plain": [
              "(77570, 8)"
            ]
          },
          "metadata": {},
          "execution_count": 51
        }
      ],
      "source": [
        "positive_preds = pd.merge(test_preds, local_test, how = 'inner', on = ['user_id', 'item_id'])\n",
        "positive_preds['target'] = 1\n",
        "positive_preds.shape"
      ]
    },
    {
      "cell_type": "code",
      "execution_count": 52,
      "metadata": {
        "colab": {
          "base_uri": "https://localhost:8080/",
          "height": 0
        },
        "id": "pBw7RPwme9_D",
        "outputId": "58da25ca-71c5-4b20-89b2-6c991c8528aa"
      },
      "outputs": [
        {
          "output_type": "execute_result",
          "data": {
            "text/plain": [
              "(273964, 8)"
            ]
          },
          "metadata": {},
          "execution_count": 52
        }
      ],
      "source": [
        "negative_preds = pd.merge(test_preds, local_test, how = 'left', on = ['user_id', 'item_id'])\n",
        "negative_preds = negative_preds.loc[negative_preds['watched_pct'].isnull()].sample(frac = .2)\n",
        "negative_preds['target'] = 0\n",
        "negative_preds.shape"
      ]
    },
    {
      "cell_type": "code",
      "execution_count": 53,
      "metadata": {
        "id": "J4gyZg5Me9_D"
      },
      "outputs": [],
      "source": [
        "# random split to train ranker\n",
        "train_users, test_users = train_test_split(\n",
        "    local_test['user_id'].unique(),\n",
        "    test_size = .2,\n",
        "    random_state = 13\n",
        "    )"
      ]
    },
    {
      "cell_type": "code",
      "execution_count": 54,
      "metadata": {
        "id": "iTuPrptYe9_D"
      },
      "outputs": [],
      "source": [
        "cbm_train_set = shuffle(\n",
        "    pd.concat(\n",
        "    [positive_preds.loc[positive_preds['user_id'].isin(train_users)],\n",
        "    negative_preds.loc[negative_preds['user_id'].isin(train_users)]]\n",
        "    )\n",
        ")"
      ]
    },
    {
      "cell_type": "code",
      "execution_count": 55,
      "metadata": {
        "id": "ypBkTRyke9_E"
      },
      "outputs": [],
      "source": [
        "cbm_test_set = shuffle(\n",
        "    pd.concat(\n",
        "    [positive_preds.loc[positive_preds['user_id'].isin(test_users)],\n",
        "    negative_preds.loc[negative_preds['user_id'].isin(test_users)]]\n",
        "    )\n",
        ")"
      ]
    },
    {
      "cell_type": "code",
      "execution_count": 56,
      "metadata": {
        "colab": {
          "base_uri": "https://localhost:8080/",
          "height": 0
        },
        "id": "CmBRjH4Fe9_E",
        "outputId": "c2276dfe-403d-4fd2-c16c-497948065d80"
      },
      "outputs": [
        {
          "output_type": "stream",
          "name": "stdout",
          "text": [
            "TRAIN:           user_id       rank   total_dur  watched_pct     target\n",
            "count  281064.000 281064.000   61873.000    61873.000 281064.000\n",
            "mean   549086.281      5.303   18650.260       65.436      0.220\n",
            "std    316291.294      2.884   38239.835       36.846      0.414\n",
            "min        11.000      1.000     301.000        0.000      0.000\n",
            "25%    275152.000      3.000    4003.000       25.000      0.000\n",
            "50%    549268.000      5.000    7794.000       81.000      0.000\n",
            "75%    822102.000      8.000   22556.000      100.000      0.000\n",
            "max   1097521.000     10.000 3086101.000      100.000      1.000 \n",
            ", TEST:           user_id      rank  total_dur  watched_pct    target\n",
            "count   70470.000 70470.000  15697.000    15697.000 70470.000\n",
            "mean   547030.832     5.304  18864.328       65.080     0.223\n",
            "std    317485.117     2.890  35859.215       36.961     0.416\n",
            "min       106.000     1.000    302.000        0.000     0.000\n",
            "25%    271660.000     3.000   3889.000       25.000     0.000\n",
            "50%    547130.500     5.000   7749.000       80.000     0.000\n",
            "75%    823073.000     8.000  22701.000      100.000     0.000\n",
            "max   1097486.000    10.000 906476.000      100.000     1.000\n"
          ]
        }
      ],
      "source": [
        "print(f'TRAIN: {cbm_train_set.describe()} \\n, TEST: {cbm_test_set.describe()}')"
      ]
    },
    {
      "cell_type": "code",
      "execution_count": 57,
      "metadata": {
        "id": "Hw79NXbIe9_E"
      },
      "outputs": [],
      "source": [
        "# in this tutorial, I will not do any feature aggregation - use default ones from data\n",
        "USER_FEATURES = ['age', 'income', 'sex', 'kids_flg']\n",
        "ITEM_FEATURES = ['content_type', 'release_year', 'for_kids', 'age_rating']"
      ]
    },
    {
      "cell_type": "code",
      "execution_count": 58,
      "metadata": {
        "id": "3ZLq_Eyxe9_E"
      },
      "outputs": [],
      "source": [
        "# joins user features\n",
        "cbm_train_set = pd.merge(cbm_train_set, users_data[['user_id'] + USER_FEATURES],\n",
        "                         how = 'left', on = ['user_id'])\n",
        "cbm_test_set = pd.merge(cbm_test_set, users_data[['user_id'] + USER_FEATURES],\n",
        "                        how = 'left', on = ['user_id'])\n"
      ]
    },
    {
      "cell_type": "code",
      "execution_count": 59,
      "metadata": {
        "id": "F_ZnAhVMe9_E"
      },
      "outputs": [],
      "source": [
        "# joins item features\n",
        "cbm_train_set = pd.merge(cbm_train_set, movies_metadata[['item_id'] + ITEM_FEATURES],\n",
        "                         how = 'left', on = ['item_id'])\n",
        "cbm_test_set = pd.merge(cbm_test_set, movies_metadata[['item_id'] + ITEM_FEATURES],\n",
        "                        how = 'left', on = ['item_id'])\n"
      ]
    },
    {
      "cell_type": "code",
      "execution_count": 60,
      "metadata": {
        "colab": {
          "base_uri": "https://localhost:8080/",
          "height": 0
        },
        "id": "EoKBRw76e9_E",
        "outputId": "a3ee2a88-f11d-4710-dc21-72cc8e29ecd5"
      },
      "outputs": [
        {
          "output_type": "stream",
          "name": "stdout",
          "text": [
            "(281064, 16) (70470, 16)\n"
          ]
        }
      ],
      "source": [
        "print(cbm_train_set.shape, cbm_test_set.shape)"
      ]
    },
    {
      "cell_type": "code",
      "execution_count": 61,
      "metadata": {
        "colab": {
          "base_uri": "https://localhost:8080/",
          "height": 322
        },
        "id": "RLK5Xy7te9_F",
        "outputId": "f26ce176-77af-4b4f-fe0f-e1cddbc31fdb"
      },
      "outputs": [
        {
          "output_type": "execute_result",
          "data": {
            "text/plain": [
              "   user_id item_id  rank          item_name last_watch_dt  total_dur  \\\n",
              "0   208127   10464     4       Вирус страха           NaT        NaN   \n",
              "1    10053    9728     4  Гнев человеческий    2021-07-12   3373.000   \n",
              "2  1008910   11237     9        День города           NaT        NaN   \n",
              "3    99996   15297     2    Клиника счастья           NaT        NaN   \n",
              "4   943006   15297    10    Клиника счастья    2021-07-28    742.000   \n",
              "\n",
              "   watched_pct  target         age        income  sex  kids_flg content_type  \\\n",
              "0          NaN       0   age_45_54  income_20_40    Ж     0.000         film   \n",
              "1       49.000       1         NaN           NaN  NaN       NaN         film   \n",
              "2          NaN       0   age_35_44  income_60_90    Ж     1.000         film   \n",
              "3          NaN       0  age_65_inf  income_20_40    Ж     0.000       series   \n",
              "4        0.000       1  age_65_inf  income_20_40    Ж     0.000       series   \n",
              "\n",
              "   release_year  for_kids  age_rating  \n",
              "0      2020.000       NaN      16.000  \n",
              "1      2021.000       NaN      18.000  \n",
              "2      2021.000       NaN      16.000  \n",
              "3      2021.000       NaN      18.000  \n",
              "4      2021.000       NaN      18.000  "
            ],
            "text/html": [
              "\n",
              "  <div id=\"df-1cd73b27-fe17-44a2-8b82-40c5b83c9618\">\n",
              "    <div class=\"colab-df-container\">\n",
              "      <div>\n",
              "<style scoped>\n",
              "    .dataframe tbody tr th:only-of-type {\n",
              "        vertical-align: middle;\n",
              "    }\n",
              "\n",
              "    .dataframe tbody tr th {\n",
              "        vertical-align: top;\n",
              "    }\n",
              "\n",
              "    .dataframe thead th {\n",
              "        text-align: right;\n",
              "    }\n",
              "</style>\n",
              "<table border=\"1\" class=\"dataframe\">\n",
              "  <thead>\n",
              "    <tr style=\"text-align: right;\">\n",
              "      <th></th>\n",
              "      <th>user_id</th>\n",
              "      <th>item_id</th>\n",
              "      <th>rank</th>\n",
              "      <th>item_name</th>\n",
              "      <th>last_watch_dt</th>\n",
              "      <th>total_dur</th>\n",
              "      <th>watched_pct</th>\n",
              "      <th>target</th>\n",
              "      <th>age</th>\n",
              "      <th>income</th>\n",
              "      <th>sex</th>\n",
              "      <th>kids_flg</th>\n",
              "      <th>content_type</th>\n",
              "      <th>release_year</th>\n",
              "      <th>for_kids</th>\n",
              "      <th>age_rating</th>\n",
              "    </tr>\n",
              "  </thead>\n",
              "  <tbody>\n",
              "    <tr>\n",
              "      <th>0</th>\n",
              "      <td>208127</td>\n",
              "      <td>10464</td>\n",
              "      <td>4</td>\n",
              "      <td>Вирус страха</td>\n",
              "      <td>NaT</td>\n",
              "      <td>NaN</td>\n",
              "      <td>NaN</td>\n",
              "      <td>0</td>\n",
              "      <td>age_45_54</td>\n",
              "      <td>income_20_40</td>\n",
              "      <td>Ж</td>\n",
              "      <td>0.000</td>\n",
              "      <td>film</td>\n",
              "      <td>2020.000</td>\n",
              "      <td>NaN</td>\n",
              "      <td>16.000</td>\n",
              "    </tr>\n",
              "    <tr>\n",
              "      <th>1</th>\n",
              "      <td>10053</td>\n",
              "      <td>9728</td>\n",
              "      <td>4</td>\n",
              "      <td>Гнев человеческий</td>\n",
              "      <td>2021-07-12</td>\n",
              "      <td>3373.000</td>\n",
              "      <td>49.000</td>\n",
              "      <td>1</td>\n",
              "      <td>NaN</td>\n",
              "      <td>NaN</td>\n",
              "      <td>NaN</td>\n",
              "      <td>NaN</td>\n",
              "      <td>film</td>\n",
              "      <td>2021.000</td>\n",
              "      <td>NaN</td>\n",
              "      <td>18.000</td>\n",
              "    </tr>\n",
              "    <tr>\n",
              "      <th>2</th>\n",
              "      <td>1008910</td>\n",
              "      <td>11237</td>\n",
              "      <td>9</td>\n",
              "      <td>День города</td>\n",
              "      <td>NaT</td>\n",
              "      <td>NaN</td>\n",
              "      <td>NaN</td>\n",
              "      <td>0</td>\n",
              "      <td>age_35_44</td>\n",
              "      <td>income_60_90</td>\n",
              "      <td>Ж</td>\n",
              "      <td>1.000</td>\n",
              "      <td>film</td>\n",
              "      <td>2021.000</td>\n",
              "      <td>NaN</td>\n",
              "      <td>16.000</td>\n",
              "    </tr>\n",
              "    <tr>\n",
              "      <th>3</th>\n",
              "      <td>99996</td>\n",
              "      <td>15297</td>\n",
              "      <td>2</td>\n",
              "      <td>Клиника счастья</td>\n",
              "      <td>NaT</td>\n",
              "      <td>NaN</td>\n",
              "      <td>NaN</td>\n",
              "      <td>0</td>\n",
              "      <td>age_65_inf</td>\n",
              "      <td>income_20_40</td>\n",
              "      <td>Ж</td>\n",
              "      <td>0.000</td>\n",
              "      <td>series</td>\n",
              "      <td>2021.000</td>\n",
              "      <td>NaN</td>\n",
              "      <td>18.000</td>\n",
              "    </tr>\n",
              "    <tr>\n",
              "      <th>4</th>\n",
              "      <td>943006</td>\n",
              "      <td>15297</td>\n",
              "      <td>10</td>\n",
              "      <td>Клиника счастья</td>\n",
              "      <td>2021-07-28</td>\n",
              "      <td>742.000</td>\n",
              "      <td>0.000</td>\n",
              "      <td>1</td>\n",
              "      <td>age_65_inf</td>\n",
              "      <td>income_20_40</td>\n",
              "      <td>Ж</td>\n",
              "      <td>0.000</td>\n",
              "      <td>series</td>\n",
              "      <td>2021.000</td>\n",
              "      <td>NaN</td>\n",
              "      <td>18.000</td>\n",
              "    </tr>\n",
              "  </tbody>\n",
              "</table>\n",
              "</div>\n",
              "      <button class=\"colab-df-convert\" onclick=\"convertToInteractive('df-1cd73b27-fe17-44a2-8b82-40c5b83c9618')\"\n",
              "              title=\"Convert this dataframe to an interactive table.\"\n",
              "              style=\"display:none;\">\n",
              "        \n",
              "  <svg xmlns=\"http://www.w3.org/2000/svg\" height=\"24px\"viewBox=\"0 0 24 24\"\n",
              "       width=\"24px\">\n",
              "    <path d=\"M0 0h24v24H0V0z\" fill=\"none\"/>\n",
              "    <path d=\"M18.56 5.44l.94 2.06.94-2.06 2.06-.94-2.06-.94-.94-2.06-.94 2.06-2.06.94zm-11 1L8.5 8.5l.94-2.06 2.06-.94-2.06-.94L8.5 2.5l-.94 2.06-2.06.94zm10 10l.94 2.06.94-2.06 2.06-.94-2.06-.94-.94-2.06-.94 2.06-2.06.94z\"/><path d=\"M17.41 7.96l-1.37-1.37c-.4-.4-.92-.59-1.43-.59-.52 0-1.04.2-1.43.59L10.3 9.45l-7.72 7.72c-.78.78-.78 2.05 0 2.83L4 21.41c.39.39.9.59 1.41.59.51 0 1.02-.2 1.41-.59l7.78-7.78 2.81-2.81c.8-.78.8-2.07 0-2.86zM5.41 20L4 18.59l7.72-7.72 1.47 1.35L5.41 20z\"/>\n",
              "  </svg>\n",
              "      </button>\n",
              "      \n",
              "  <style>\n",
              "    .colab-df-container {\n",
              "      display:flex;\n",
              "      flex-wrap:wrap;\n",
              "      gap: 12px;\n",
              "    }\n",
              "\n",
              "    .colab-df-convert {\n",
              "      background-color: #E8F0FE;\n",
              "      border: none;\n",
              "      border-radius: 50%;\n",
              "      cursor: pointer;\n",
              "      display: none;\n",
              "      fill: #1967D2;\n",
              "      height: 32px;\n",
              "      padding: 0 0 0 0;\n",
              "      width: 32px;\n",
              "    }\n",
              "\n",
              "    .colab-df-convert:hover {\n",
              "      background-color: #E2EBFA;\n",
              "      box-shadow: 0px 1px 2px rgba(60, 64, 67, 0.3), 0px 1px 3px 1px rgba(60, 64, 67, 0.15);\n",
              "      fill: #174EA6;\n",
              "    }\n",
              "\n",
              "    [theme=dark] .colab-df-convert {\n",
              "      background-color: #3B4455;\n",
              "      fill: #D2E3FC;\n",
              "    }\n",
              "\n",
              "    [theme=dark] .colab-df-convert:hover {\n",
              "      background-color: #434B5C;\n",
              "      box-shadow: 0px 1px 3px 1px rgba(0, 0, 0, 0.15);\n",
              "      filter: drop-shadow(0px 1px 2px rgba(0, 0, 0, 0.3));\n",
              "      fill: #FFFFFF;\n",
              "    }\n",
              "  </style>\n",
              "\n",
              "      <script>\n",
              "        const buttonEl =\n",
              "          document.querySelector('#df-1cd73b27-fe17-44a2-8b82-40c5b83c9618 button.colab-df-convert');\n",
              "        buttonEl.style.display =\n",
              "          google.colab.kernel.accessAllowed ? 'block' : 'none';\n",
              "\n",
              "        async function convertToInteractive(key) {\n",
              "          const element = document.querySelector('#df-1cd73b27-fe17-44a2-8b82-40c5b83c9618');\n",
              "          const dataTable =\n",
              "            await google.colab.kernel.invokeFunction('convertToInteractive',\n",
              "                                                     [key], {});\n",
              "          if (!dataTable) return;\n",
              "\n",
              "          const docLinkHtml = 'Like what you see? Visit the ' +\n",
              "            '<a target=\"_blank\" href=https://colab.research.google.com/notebooks/data_table.ipynb>data table notebook</a>'\n",
              "            + ' to learn more about interactive tables.';\n",
              "          element.innerHTML = '';\n",
              "          dataTable['output_type'] = 'display_data';\n",
              "          await google.colab.output.renderOutput(dataTable, element);\n",
              "          const docLink = document.createElement('div');\n",
              "          docLink.innerHTML = docLinkHtml;\n",
              "          element.appendChild(docLink);\n",
              "        }\n",
              "      </script>\n",
              "    </div>\n",
              "  </div>\n",
              "  "
            ]
          },
          "metadata": {},
          "execution_count": 61
        }
      ],
      "source": [
        "cbm_train_set.head()"
      ]
    },
    {
      "cell_type": "code",
      "execution_count": 62,
      "metadata": {
        "id": "ZjWkMhsGe9_F"
      },
      "outputs": [],
      "source": [
        "ID_COLS = ['user_id', 'item_id']\n",
        "TARGET = ['target']\n",
        "CATEGORICAL_COLS = ['age', 'income', 'sex', 'content_type']\n",
        "DROP_COLS = ['item_name', 'last_watch_dt', 'watched_pct', 'total_dur']"
      ]
    },
    {
      "cell_type": "code",
      "execution_count": 63,
      "metadata": {
        "colab": {
          "base_uri": "https://localhost:8080/",
          "height": 0
        },
        "id": "zK2s2Y9Je9_F",
        "outputId": "77d6dc23-1095-4069-8e0e-1cef22dde8a2"
      },
      "outputs": [
        {
          "output_type": "stream",
          "name": "stdout",
          "text": [
            "(281064, 9) (70470, 9)\n"
          ]
        }
      ],
      "source": [
        "X_train, y_train = cbm_train_set.drop(ID_COLS + DROP_COLS + TARGET, axis = 1), cbm_train_set[TARGET]\n",
        "X_test, y_test = cbm_test_set.drop(ID_COLS + DROP_COLS + TARGET, axis = 1), cbm_test_set[TARGET]\n",
        "print(X_train.shape, X_test.shape)"
      ]
    },
    {
      "cell_type": "code",
      "execution_count": 64,
      "metadata": {
        "colab": {
          "base_uri": "https://localhost:8080/",
          "height": 206
        },
        "id": "aRK0f3a4e9_F",
        "outputId": "0211e886-f9d6-4c7b-8c25-652ff2038c92"
      },
      "outputs": [
        {
          "output_type": "execute_result",
          "data": {
            "text/plain": [
              "   rank         age        income  sex  kids_flg content_type  release_year  \\\n",
              "0     4   age_45_54  income_20_40    Ж     0.000         film      2020.000   \n",
              "1     4         NaN           NaN  NaN       NaN         film      2021.000   \n",
              "2     9   age_35_44  income_60_90    Ж     1.000         film      2021.000   \n",
              "3     2  age_65_inf  income_20_40    Ж     0.000       series      2021.000   \n",
              "4    10  age_65_inf  income_20_40    Ж     0.000       series      2021.000   \n",
              "\n",
              "   for_kids  age_rating  \n",
              "0       NaN      16.000  \n",
              "1       NaN      18.000  \n",
              "2       NaN      16.000  \n",
              "3       NaN      18.000  \n",
              "4       NaN      18.000  "
            ],
            "text/html": [
              "\n",
              "  <div id=\"df-ed6b26ee-3e3a-47d7-be79-31851396feaa\">\n",
              "    <div class=\"colab-df-container\">\n",
              "      <div>\n",
              "<style scoped>\n",
              "    .dataframe tbody tr th:only-of-type {\n",
              "        vertical-align: middle;\n",
              "    }\n",
              "\n",
              "    .dataframe tbody tr th {\n",
              "        vertical-align: top;\n",
              "    }\n",
              "\n",
              "    .dataframe thead th {\n",
              "        text-align: right;\n",
              "    }\n",
              "</style>\n",
              "<table border=\"1\" class=\"dataframe\">\n",
              "  <thead>\n",
              "    <tr style=\"text-align: right;\">\n",
              "      <th></th>\n",
              "      <th>rank</th>\n",
              "      <th>age</th>\n",
              "      <th>income</th>\n",
              "      <th>sex</th>\n",
              "      <th>kids_flg</th>\n",
              "      <th>content_type</th>\n",
              "      <th>release_year</th>\n",
              "      <th>for_kids</th>\n",
              "      <th>age_rating</th>\n",
              "    </tr>\n",
              "  </thead>\n",
              "  <tbody>\n",
              "    <tr>\n",
              "      <th>0</th>\n",
              "      <td>4</td>\n",
              "      <td>age_45_54</td>\n",
              "      <td>income_20_40</td>\n",
              "      <td>Ж</td>\n",
              "      <td>0.000</td>\n",
              "      <td>film</td>\n",
              "      <td>2020.000</td>\n",
              "      <td>NaN</td>\n",
              "      <td>16.000</td>\n",
              "    </tr>\n",
              "    <tr>\n",
              "      <th>1</th>\n",
              "      <td>4</td>\n",
              "      <td>NaN</td>\n",
              "      <td>NaN</td>\n",
              "      <td>NaN</td>\n",
              "      <td>NaN</td>\n",
              "      <td>film</td>\n",
              "      <td>2021.000</td>\n",
              "      <td>NaN</td>\n",
              "      <td>18.000</td>\n",
              "    </tr>\n",
              "    <tr>\n",
              "      <th>2</th>\n",
              "      <td>9</td>\n",
              "      <td>age_35_44</td>\n",
              "      <td>income_60_90</td>\n",
              "      <td>Ж</td>\n",
              "      <td>1.000</td>\n",
              "      <td>film</td>\n",
              "      <td>2021.000</td>\n",
              "      <td>NaN</td>\n",
              "      <td>16.000</td>\n",
              "    </tr>\n",
              "    <tr>\n",
              "      <th>3</th>\n",
              "      <td>2</td>\n",
              "      <td>age_65_inf</td>\n",
              "      <td>income_20_40</td>\n",
              "      <td>Ж</td>\n",
              "      <td>0.000</td>\n",
              "      <td>series</td>\n",
              "      <td>2021.000</td>\n",
              "      <td>NaN</td>\n",
              "      <td>18.000</td>\n",
              "    </tr>\n",
              "    <tr>\n",
              "      <th>4</th>\n",
              "      <td>10</td>\n",
              "      <td>age_65_inf</td>\n",
              "      <td>income_20_40</td>\n",
              "      <td>Ж</td>\n",
              "      <td>0.000</td>\n",
              "      <td>series</td>\n",
              "      <td>2021.000</td>\n",
              "      <td>NaN</td>\n",
              "      <td>18.000</td>\n",
              "    </tr>\n",
              "  </tbody>\n",
              "</table>\n",
              "</div>\n",
              "      <button class=\"colab-df-convert\" onclick=\"convertToInteractive('df-ed6b26ee-3e3a-47d7-be79-31851396feaa')\"\n",
              "              title=\"Convert this dataframe to an interactive table.\"\n",
              "              style=\"display:none;\">\n",
              "        \n",
              "  <svg xmlns=\"http://www.w3.org/2000/svg\" height=\"24px\"viewBox=\"0 0 24 24\"\n",
              "       width=\"24px\">\n",
              "    <path d=\"M0 0h24v24H0V0z\" fill=\"none\"/>\n",
              "    <path d=\"M18.56 5.44l.94 2.06.94-2.06 2.06-.94-2.06-.94-.94-2.06-.94 2.06-2.06.94zm-11 1L8.5 8.5l.94-2.06 2.06-.94-2.06-.94L8.5 2.5l-.94 2.06-2.06.94zm10 10l.94 2.06.94-2.06 2.06-.94-2.06-.94-.94-2.06-.94 2.06-2.06.94z\"/><path d=\"M17.41 7.96l-1.37-1.37c-.4-.4-.92-.59-1.43-.59-.52 0-1.04.2-1.43.59L10.3 9.45l-7.72 7.72c-.78.78-.78 2.05 0 2.83L4 21.41c.39.39.9.59 1.41.59.51 0 1.02-.2 1.41-.59l7.78-7.78 2.81-2.81c.8-.78.8-2.07 0-2.86zM5.41 20L4 18.59l7.72-7.72 1.47 1.35L5.41 20z\"/>\n",
              "  </svg>\n",
              "      </button>\n",
              "      \n",
              "  <style>\n",
              "    .colab-df-container {\n",
              "      display:flex;\n",
              "      flex-wrap:wrap;\n",
              "      gap: 12px;\n",
              "    }\n",
              "\n",
              "    .colab-df-convert {\n",
              "      background-color: #E8F0FE;\n",
              "      border: none;\n",
              "      border-radius: 50%;\n",
              "      cursor: pointer;\n",
              "      display: none;\n",
              "      fill: #1967D2;\n",
              "      height: 32px;\n",
              "      padding: 0 0 0 0;\n",
              "      width: 32px;\n",
              "    }\n",
              "\n",
              "    .colab-df-convert:hover {\n",
              "      background-color: #E2EBFA;\n",
              "      box-shadow: 0px 1px 2px rgba(60, 64, 67, 0.3), 0px 1px 3px 1px rgba(60, 64, 67, 0.15);\n",
              "      fill: #174EA6;\n",
              "    }\n",
              "\n",
              "    [theme=dark] .colab-df-convert {\n",
              "      background-color: #3B4455;\n",
              "      fill: #D2E3FC;\n",
              "    }\n",
              "\n",
              "    [theme=dark] .colab-df-convert:hover {\n",
              "      background-color: #434B5C;\n",
              "      box-shadow: 0px 1px 3px 1px rgba(0, 0, 0, 0.15);\n",
              "      filter: drop-shadow(0px 1px 2px rgba(0, 0, 0, 0.3));\n",
              "      fill: #FFFFFF;\n",
              "    }\n",
              "  </style>\n",
              "\n",
              "      <script>\n",
              "        const buttonEl =\n",
              "          document.querySelector('#df-ed6b26ee-3e3a-47d7-be79-31851396feaa button.colab-df-convert');\n",
              "        buttonEl.style.display =\n",
              "          google.colab.kernel.accessAllowed ? 'block' : 'none';\n",
              "\n",
              "        async function convertToInteractive(key) {\n",
              "          const element = document.querySelector('#df-ed6b26ee-3e3a-47d7-be79-31851396feaa');\n",
              "          const dataTable =\n",
              "            await google.colab.kernel.invokeFunction('convertToInteractive',\n",
              "                                                     [key], {});\n",
              "          if (!dataTable) return;\n",
              "\n",
              "          const docLinkHtml = 'Like what you see? Visit the ' +\n",
              "            '<a target=\"_blank\" href=https://colab.research.google.com/notebooks/data_table.ipynb>data table notebook</a>'\n",
              "            + ' to learn more about interactive tables.';\n",
              "          element.innerHTML = '';\n",
              "          dataTable['output_type'] = 'display_data';\n",
              "          await google.colab.output.renderOutput(dataTable, element);\n",
              "          const docLink = document.createElement('div');\n",
              "          docLink.innerHTML = docLinkHtml;\n",
              "          element.appendChild(docLink);\n",
              "        }\n",
              "      </script>\n",
              "    </div>\n",
              "  </div>\n",
              "  "
            ]
          },
          "metadata": {},
          "execution_count": 64
        }
      ],
      "source": [
        "X_train.head()"
      ]
    },
    {
      "cell_type": "code",
      "execution_count": 65,
      "metadata": {
        "id": "q0lKq0Pce9_F"
      },
      "outputs": [],
      "source": [
        "X_train = X_train.fillna(X_train.mode().iloc[0])\n",
        "X_test = X_test.fillna(X_test.mode().iloc[0])"
      ]
    },
    {
      "cell_type": "markdown",
      "metadata": {
        "id": "IbuyR6bYe9_G"
      },
      "source": [
        "## 2.5.2. Train Model"
      ]
    },
    {
      "cell_type": "code",
      "execution_count": 66,
      "metadata": {
        "id": "42nVmnWhe9_G"
      },
      "outputs": [],
      "source": [
        "cbm_classifier = CatBoostClassifier(\n",
        "    loss_function = 'CrossEntropy',\n",
        "    iterations = 5000,\n",
        "    learning_rate = .1,\n",
        "    depth = 6,\n",
        "    random_state = 1234,\n",
        "    verbose = True\n",
        ")"
      ]
    },
    {
      "cell_type": "code",
      "execution_count": 67,
      "metadata": {
        "colab": {
          "base_uri": "https://localhost:8080/",
          "height": 0
        },
        "id": "8wnOuVhBe9_G",
        "outputId": "723dbd53-8db2-4763-b184-579bfb4c7fad"
      },
      "outputs": [
        {
          "output_type": "stream",
          "name": "stdout",
          "text": [
            "0:\tlearn: 0.6507734\ttest: 0.6513673\tbest: 0.6513673 (0)\ttotal: 376ms\tremaining: 31m 21s\n",
            "1:\tlearn: 0.6172870\ttest: 0.6183966\tbest: 0.6183966 (1)\ttotal: 644ms\tremaining: 26m 50s\n",
            "2:\tlearn: 0.5914911\ttest: 0.5930577\tbest: 0.5930577 (2)\ttotal: 886ms\tremaining: 24m 35s\n",
            "3:\tlearn: 0.5708930\ttest: 0.5728683\tbest: 0.5728683 (3)\ttotal: 1.11s\tremaining: 23m 7s\n",
            "4:\tlearn: 0.5545067\ttest: 0.5568538\tbest: 0.5568538 (4)\ttotal: 1.42s\tremaining: 23m 40s\n",
            "5:\tlearn: 0.5417674\ttest: 0.5444326\tbest: 0.5444326 (5)\ttotal: 1.67s\tremaining: 23m 11s\n",
            "6:\tlearn: 0.5317401\ttest: 0.5346595\tbest: 0.5346595 (6)\ttotal: 1.94s\tremaining: 23m 3s\n",
            "7:\tlearn: 0.5245435\ttest: 0.5276957\tbest: 0.5276957 (7)\ttotal: 2.19s\tremaining: 22m 46s\n",
            "8:\tlearn: 0.5181319\ttest: 0.5215400\tbest: 0.5215400 (8)\ttotal: 2.46s\tremaining: 22m 44s\n",
            "9:\tlearn: 0.5136291\ttest: 0.5172276\tbest: 0.5172276 (9)\ttotal: 2.69s\tremaining: 22m 22s\n",
            "10:\tlearn: 0.5099553\ttest: 0.5137618\tbest: 0.5137618 (10)\ttotal: 2.93s\tremaining: 22m 9s\n",
            "11:\tlearn: 0.5065050\ttest: 0.5104655\tbest: 0.5104655 (11)\ttotal: 3.21s\tremaining: 22m 13s\n",
            "12:\tlearn: 0.5042770\ttest: 0.5083569\tbest: 0.5083569 (12)\ttotal: 3.49s\tremaining: 22m 18s\n",
            "13:\tlearn: 0.5019817\ttest: 0.5061830\tbest: 0.5061830 (13)\ttotal: 3.72s\tremaining: 22m 4s\n",
            "14:\tlearn: 0.5002810\ttest: 0.5046138\tbest: 0.5046138 (14)\ttotal: 3.92s\tremaining: 21m 42s\n",
            "15:\tlearn: 0.4986959\ttest: 0.5031628\tbest: 0.5031628 (15)\ttotal: 4.18s\tremaining: 21m 43s\n",
            "16:\tlearn: 0.4977770\ttest: 0.5023157\tbest: 0.5023157 (16)\ttotal: 4.41s\tremaining: 21m 33s\n",
            "17:\tlearn: 0.4968340\ttest: 0.5014735\tbest: 0.5014735 (17)\ttotal: 4.71s\tremaining: 21m 43s\n",
            "18:\tlearn: 0.4959978\ttest: 0.5007331\tbest: 0.5007331 (18)\ttotal: 4.95s\tremaining: 21m 37s\n",
            "19:\tlearn: 0.4952973\ttest: 0.5001233\tbest: 0.5001233 (19)\ttotal: 5.18s\tremaining: 21m 30s\n",
            "20:\tlearn: 0.4947622\ttest: 0.4996711\tbest: 0.4996711 (20)\ttotal: 5.48s\tremaining: 21m 38s\n",
            "21:\tlearn: 0.4941956\ttest: 0.4992034\tbest: 0.4992034 (21)\ttotal: 5.75s\tremaining: 21m 40s\n",
            "22:\tlearn: 0.4938958\ttest: 0.4989997\tbest: 0.4989997 (22)\ttotal: 6.03s\tremaining: 21m 45s\n",
            "23:\tlearn: 0.4936226\ttest: 0.4987985\tbest: 0.4987985 (23)\ttotal: 6.29s\tremaining: 21m 44s\n",
            "24:\tlearn: 0.4932912\ttest: 0.4985229\tbest: 0.4985229 (24)\ttotal: 6.57s\tremaining: 21m 46s\n",
            "25:\tlearn: 0.4930941\ttest: 0.4984049\tbest: 0.4984049 (25)\ttotal: 6.78s\tremaining: 21m 36s\n",
            "26:\tlearn: 0.4928181\ttest: 0.4982019\tbest: 0.4982019 (26)\ttotal: 7.03s\tremaining: 21m 35s\n",
            "27:\tlearn: 0.4926511\ttest: 0.4980967\tbest: 0.4980967 (27)\ttotal: 7.27s\tremaining: 21m 30s\n",
            "28:\tlearn: 0.4924405\ttest: 0.4979255\tbest: 0.4979255 (28)\ttotal: 7.51s\tremaining: 21m 27s\n",
            "29:\tlearn: 0.4922437\ttest: 0.4977944\tbest: 0.4977944 (29)\ttotal: 7.78s\tremaining: 21m 28s\n",
            "30:\tlearn: 0.4921792\ttest: 0.4977547\tbest: 0.4977547 (30)\ttotal: 8.15s\tremaining: 21m 47s\n",
            "31:\tlearn: 0.4920307\ttest: 0.4976700\tbest: 0.4976700 (31)\ttotal: 8.58s\tremaining: 22m 12s\n",
            "32:\tlearn: 0.4919975\ttest: 0.4976495\tbest: 0.4976495 (32)\ttotal: 8.82s\tremaining: 22m 7s\n",
            "33:\tlearn: 0.4918586\ttest: 0.4975600\tbest: 0.4975600 (33)\ttotal: 9.25s\tremaining: 22m 30s\n",
            "34:\tlearn: 0.4918186\ttest: 0.4975459\tbest: 0.4975459 (34)\ttotal: 9.7s\tremaining: 22m 55s\n",
            "35:\tlearn: 0.4918060\ttest: 0.4975442\tbest: 0.4975442 (35)\ttotal: 10s\tremaining: 23m 1s\n",
            "36:\tlearn: 0.4917249\ttest: 0.4974911\tbest: 0.4974911 (36)\ttotal: 10.5s\tremaining: 23m 30s\n",
            "37:\tlearn: 0.4916616\ttest: 0.4974896\tbest: 0.4974896 (37)\ttotal: 10.8s\tremaining: 23m 34s\n",
            "38:\tlearn: 0.4915097\ttest: 0.4973657\tbest: 0.4973657 (38)\ttotal: 11.1s\tremaining: 23m 28s\n",
            "39:\tlearn: 0.4914467\ttest: 0.4973172\tbest: 0.4973172 (39)\ttotal: 11.3s\tremaining: 23m 17s\n",
            "40:\tlearn: 0.4913621\ttest: 0.4972584\tbest: 0.4972584 (40)\ttotal: 11.5s\tremaining: 23m 12s\n",
            "41:\tlearn: 0.4913469\ttest: 0.4972558\tbest: 0.4972558 (41)\ttotal: 11.7s\tremaining: 23m 3s\n",
            "42:\tlearn: 0.4913287\ttest: 0.4972596\tbest: 0.4972558 (41)\ttotal: 11.9s\tremaining: 22m 52s\n",
            "43:\tlearn: 0.4912882\ttest: 0.4972658\tbest: 0.4972558 (41)\ttotal: 12.1s\tremaining: 22m 47s\n",
            "44:\tlearn: 0.4912845\ttest: 0.4972680\tbest: 0.4972558 (41)\ttotal: 12.3s\tremaining: 22m 30s\n",
            "45:\tlearn: 0.4912833\ttest: 0.4972703\tbest: 0.4972558 (41)\ttotal: 12.4s\tremaining: 22m 16s\n",
            "46:\tlearn: 0.4911792\ttest: 0.4971965\tbest: 0.4971965 (46)\ttotal: 12.6s\tremaining: 22m 9s\n",
            "47:\tlearn: 0.4911635\ttest: 0.4972028\tbest: 0.4971965 (46)\ttotal: 12.8s\tremaining: 22m 5s\n",
            "48:\tlearn: 0.4911444\ttest: 0.4971978\tbest: 0.4971965 (46)\ttotal: 13s\tremaining: 21m 55s\n",
            "49:\tlearn: 0.4911209\ttest: 0.4971847\tbest: 0.4971847 (49)\ttotal: 13.2s\tremaining: 21m 43s\n",
            "50:\tlearn: 0.4910940\ttest: 0.4972020\tbest: 0.4971847 (49)\ttotal: 13.4s\tremaining: 21m 38s\n",
            "51:\tlearn: 0.4910893\ttest: 0.4972040\tbest: 0.4971847 (49)\ttotal: 13.5s\tremaining: 21m 25s\n",
            "52:\tlearn: 0.4910835\ttest: 0.4972052\tbest: 0.4971847 (49)\ttotal: 13.7s\tremaining: 21m 20s\n",
            "53:\tlearn: 0.4909826\ttest: 0.4971096\tbest: 0.4971096 (53)\ttotal: 13.9s\tremaining: 21m 16s\n",
            "54:\tlearn: 0.4909224\ttest: 0.4970627\tbest: 0.4970627 (54)\ttotal: 14.2s\tremaining: 21m 13s\n",
            "55:\tlearn: 0.4908735\ttest: 0.4970351\tbest: 0.4970351 (55)\ttotal: 14.4s\tremaining: 21m 12s\n",
            "56:\tlearn: 0.4908660\ttest: 0.4970383\tbest: 0.4970351 (55)\ttotal: 14.6s\tremaining: 21m 8s\n",
            "57:\tlearn: 0.4908503\ttest: 0.4970259\tbest: 0.4970259 (57)\ttotal: 14.8s\tremaining: 21m 4s\n",
            "58:\tlearn: 0.4908193\ttest: 0.4970130\tbest: 0.4970130 (58)\ttotal: 15.1s\tremaining: 21m\n",
            "59:\tlearn: 0.4907799\ttest: 0.4970005\tbest: 0.4970005 (59)\ttotal: 15.3s\tremaining: 20m 57s\n",
            "60:\tlearn: 0.4907781\ttest: 0.4970016\tbest: 0.4970005 (59)\ttotal: 15.4s\tremaining: 20m 49s\n",
            "61:\tlearn: 0.4907641\ttest: 0.4970037\tbest: 0.4970005 (59)\ttotal: 15.7s\tremaining: 20m 48s\n",
            "62:\tlearn: 0.4907083\ttest: 0.4969744\tbest: 0.4969744 (62)\ttotal: 15.9s\tremaining: 20m 45s\n",
            "63:\tlearn: 0.4907073\ttest: 0.4969769\tbest: 0.4969744 (62)\ttotal: 16.1s\tremaining: 20m 42s\n",
            "64:\tlearn: 0.4906686\ttest: 0.4969518\tbest: 0.4969518 (64)\ttotal: 16.3s\tremaining: 20m 39s\n",
            "65:\tlearn: 0.4906622\ttest: 0.4969494\tbest: 0.4969494 (65)\ttotal: 16.6s\tremaining: 20m 38s\n",
            "66:\tlearn: 0.4906394\ttest: 0.4969212\tbest: 0.4969212 (66)\ttotal: 16.8s\tremaining: 20m 38s\n",
            "67:\tlearn: 0.4906347\ttest: 0.4969220\tbest: 0.4969212 (66)\ttotal: 17s\tremaining: 20m 30s\n",
            "68:\tlearn: 0.4905912\ttest: 0.4968804\tbest: 0.4968804 (68)\ttotal: 17.2s\tremaining: 20m 28s\n",
            "69:\tlearn: 0.4905737\ttest: 0.4968886\tbest: 0.4968804 (68)\ttotal: 17.5s\tremaining: 20m 30s\n",
            "70:\tlearn: 0.4905171\ttest: 0.4968284\tbest: 0.4968284 (70)\ttotal: 17.7s\tremaining: 20m 30s\n",
            "71:\tlearn: 0.4905114\ttest: 0.4968307\tbest: 0.4968284 (70)\ttotal: 17.9s\tremaining: 20m 27s\n",
            "72:\tlearn: 0.4905056\ttest: 0.4968317\tbest: 0.4968284 (70)\ttotal: 18.1s\tremaining: 20m 23s\n",
            "73:\tlearn: 0.4905004\ttest: 0.4968298\tbest: 0.4968284 (70)\ttotal: 18.3s\tremaining: 20m 18s\n",
            "74:\tlearn: 0.4904783\ttest: 0.4968151\tbest: 0.4968151 (74)\ttotal: 18.6s\tremaining: 20m 18s\n",
            "75:\tlearn: 0.4904680\ttest: 0.4968126\tbest: 0.4968126 (75)\ttotal: 18.8s\tremaining: 20m 16s\n",
            "76:\tlearn: 0.4904676\ttest: 0.4968119\tbest: 0.4968119 (76)\ttotal: 19s\tremaining: 20m 12s\n",
            "77:\tlearn: 0.4904463\ttest: 0.4968047\tbest: 0.4968047 (77)\ttotal: 19.2s\tremaining: 20m 10s\n",
            "78:\tlearn: 0.4904159\ttest: 0.4967821\tbest: 0.4967821 (78)\ttotal: 19.4s\tremaining: 20m 9s\n",
            "79:\tlearn: 0.4904070\ttest: 0.4967906\tbest: 0.4967821 (78)\ttotal: 19.6s\tremaining: 20m 8s\n",
            "80:\tlearn: 0.4904052\ttest: 0.4967906\tbest: 0.4967821 (78)\ttotal: 19.8s\tremaining: 20m 1s\n",
            "81:\tlearn: 0.4903675\ttest: 0.4967613\tbest: 0.4967613 (81)\ttotal: 20s\tremaining: 20m\n",
            "82:\tlearn: 0.4903504\ttest: 0.4967427\tbest: 0.4967427 (82)\ttotal: 20.2s\tremaining: 19m 58s\n",
            "83:\tlearn: 0.4903238\ttest: 0.4967433\tbest: 0.4967427 (82)\ttotal: 20.5s\tremaining: 19m 59s\n",
            "84:\tlearn: 0.4903184\ttest: 0.4967448\tbest: 0.4967427 (82)\ttotal: 20.7s\tremaining: 19m 58s\n",
            "85:\tlearn: 0.4903143\ttest: 0.4967419\tbest: 0.4967419 (85)\ttotal: 21s\tremaining: 20m 1s\n",
            "86:\tlearn: 0.4902895\ttest: 0.4967329\tbest: 0.4967329 (86)\ttotal: 21.5s\tremaining: 20m 13s\n",
            "87:\tlearn: 0.4902791\ttest: 0.4967264\tbest: 0.4967264 (87)\ttotal: 21.8s\tremaining: 20m 18s\n",
            "88:\tlearn: 0.4902695\ttest: 0.4967257\tbest: 0.4967257 (88)\ttotal: 22.3s\tremaining: 20m 30s\n",
            "89:\tlearn: 0.4902631\ttest: 0.4967257\tbest: 0.4967257 (88)\ttotal: 22.7s\tremaining: 20m 38s\n",
            "90:\tlearn: 0.4902389\ttest: 0.4967199\tbest: 0.4967199 (90)\ttotal: 23.1s\tremaining: 20m 46s\n",
            "91:\tlearn: 0.4902206\ttest: 0.4967183\tbest: 0.4967183 (91)\ttotal: 23.5s\tremaining: 20m 55s\n",
            "92:\tlearn: 0.4901987\ttest: 0.4967190\tbest: 0.4967183 (91)\ttotal: 23.9s\tremaining: 20m 58s\n",
            "93:\tlearn: 0.4901877\ttest: 0.4967171\tbest: 0.4967171 (93)\ttotal: 24s\tremaining: 20m 54s\n",
            "94:\tlearn: 0.4901865\ttest: 0.4967173\tbest: 0.4967171 (93)\ttotal: 24.2s\tremaining: 20m 47s\n",
            "95:\tlearn: 0.4901797\ttest: 0.4967179\tbest: 0.4967171 (93)\ttotal: 24.4s\tremaining: 20m 44s\n",
            "96:\tlearn: 0.4901746\ttest: 0.4967179\tbest: 0.4967171 (93)\ttotal: 24.6s\tremaining: 20m 41s\n",
            "97:\tlearn: 0.4901693\ttest: 0.4967111\tbest: 0.4967111 (97)\ttotal: 24.7s\tremaining: 20m 37s\n",
            "98:\tlearn: 0.4901504\ttest: 0.4967106\tbest: 0.4967106 (98)\ttotal: 24.9s\tremaining: 20m 34s\n",
            "99:\tlearn: 0.4901227\ttest: 0.4967030\tbest: 0.4967030 (99)\ttotal: 25.2s\tremaining: 20m 35s\n",
            "100:\tlearn: 0.4901226\ttest: 0.4967027\tbest: 0.4967027 (100)\ttotal: 25.3s\tremaining: 20m 28s\n",
            "101:\tlearn: 0.4900965\ttest: 0.4967057\tbest: 0.4967027 (100)\ttotal: 25.6s\tremaining: 20m 27s\n",
            "102:\tlearn: 0.4900845\ttest: 0.4967026\tbest: 0.4967026 (102)\ttotal: 25.8s\tremaining: 20m 26s\n",
            "103:\tlearn: 0.4900692\ttest: 0.4967036\tbest: 0.4967026 (102)\ttotal: 26s\tremaining: 20m 25s\n",
            "104:\tlearn: 0.4900072\ttest: 0.4966461\tbest: 0.4966461 (104)\ttotal: 26.3s\tremaining: 20m 24s\n",
            "105:\tlearn: 0.4899865\ttest: 0.4966455\tbest: 0.4966455 (105)\ttotal: 26.5s\tremaining: 20m 22s\n",
            "106:\tlearn: 0.4899865\ttest: 0.4966454\tbest: 0.4966454 (106)\ttotal: 26.6s\tremaining: 20m 16s\n",
            "107:\tlearn: 0.4899828\ttest: 0.4966453\tbest: 0.4966453 (107)\ttotal: 26.8s\tremaining: 20m 13s\n",
            "108:\tlearn: 0.4899306\ttest: 0.4965956\tbest: 0.4965956 (108)\ttotal: 27s\tremaining: 20m 13s\n",
            "109:\tlearn: 0.4899279\ttest: 0.4965921\tbest: 0.4965921 (109)\ttotal: 27.2s\tremaining: 20m 9s\n",
            "110:\tlearn: 0.4899225\ttest: 0.4965938\tbest: 0.4965921 (109)\ttotal: 27.4s\tremaining: 20m 6s\n",
            "111:\tlearn: 0.4898999\ttest: 0.4965834\tbest: 0.4965834 (111)\ttotal: 27.6s\tremaining: 20m 6s\n",
            "112:\tlearn: 0.4898931\ttest: 0.4965832\tbest: 0.4965832 (112)\ttotal: 27.8s\tremaining: 20m 3s\n",
            "113:\tlearn: 0.4898828\ttest: 0.4965795\tbest: 0.4965795 (113)\ttotal: 28.1s\tremaining: 20m 2s\n",
            "114:\tlearn: 0.4898809\ttest: 0.4965796\tbest: 0.4965795 (113)\ttotal: 28.2s\tremaining: 19m 58s\n",
            "115:\tlearn: 0.4898693\ttest: 0.4965794\tbest: 0.4965794 (115)\ttotal: 28.5s\tremaining: 19m 57s\n",
            "116:\tlearn: 0.4898693\ttest: 0.4965793\tbest: 0.4965793 (116)\ttotal: 28.6s\tremaining: 19m 52s\n",
            "117:\tlearn: 0.4898506\ttest: 0.4965725\tbest: 0.4965725 (117)\ttotal: 28.8s\tremaining: 19m 51s\n",
            "118:\tlearn: 0.4898499\ttest: 0.4965729\tbest: 0.4965725 (117)\ttotal: 28.9s\tremaining: 19m 45s\n",
            "119:\tlearn: 0.4898401\ttest: 0.4965701\tbest: 0.4965701 (119)\ttotal: 29.1s\tremaining: 19m 44s\n",
            "120:\tlearn: 0.4898218\ttest: 0.4965654\tbest: 0.4965654 (120)\ttotal: 29.4s\tremaining: 19m 43s\n",
            "121:\tlearn: 0.4898108\ttest: 0.4965640\tbest: 0.4965640 (121)\ttotal: 29.6s\tremaining: 19m 42s\n",
            "122:\tlearn: 0.4897966\ttest: 0.4965678\tbest: 0.4965640 (121)\ttotal: 29.8s\tremaining: 19m 40s\n",
            "123:\tlearn: 0.4897946\ttest: 0.4965684\tbest: 0.4965640 (121)\ttotal: 30s\tremaining: 19m 38s\n",
            "124:\tlearn: 0.4897882\ttest: 0.4965698\tbest: 0.4965640 (121)\ttotal: 30.2s\tremaining: 19m 37s\n",
            "125:\tlearn: 0.4897808\ttest: 0.4965668\tbest: 0.4965640 (121)\ttotal: 30.5s\tremaining: 19m 38s\n",
            "126:\tlearn: 0.4897649\ttest: 0.4965622\tbest: 0.4965622 (126)\ttotal: 30.7s\tremaining: 19m 37s\n",
            "127:\tlearn: 0.4897584\ttest: 0.4965625\tbest: 0.4965622 (126)\ttotal: 30.9s\tremaining: 19m 35s\n",
            "128:\tlearn: 0.4897234\ttest: 0.4965423\tbest: 0.4965423 (128)\ttotal: 31.1s\tremaining: 19m 35s\n",
            "129:\tlearn: 0.4897145\ttest: 0.4965410\tbest: 0.4965410 (129)\ttotal: 31.3s\tremaining: 19m 33s\n",
            "130:\tlearn: 0.4896818\ttest: 0.4965354\tbest: 0.4965354 (130)\ttotal: 31.5s\tremaining: 19m 32s\n",
            "131:\tlearn: 0.4896788\ttest: 0.4965371\tbest: 0.4965354 (130)\ttotal: 31.8s\tremaining: 19m 31s\n",
            "132:\tlearn: 0.4896323\ttest: 0.4965092\tbest: 0.4965092 (132)\ttotal: 32s\tremaining: 19m 31s\n",
            "133:\tlearn: 0.4896119\ttest: 0.4965027\tbest: 0.4965027 (133)\ttotal: 32.2s\tremaining: 19m 31s\n",
            "134:\tlearn: 0.4896062\ttest: 0.4965026\tbest: 0.4965026 (134)\ttotal: 32.4s\tremaining: 19m 29s\n",
            "135:\tlearn: 0.4895919\ttest: 0.4965052\tbest: 0.4965026 (134)\ttotal: 32.7s\tremaining: 19m 28s\n",
            "136:\tlearn: 0.4895845\ttest: 0.4965013\tbest: 0.4965013 (136)\ttotal: 32.9s\tremaining: 19m 26s\n",
            "137:\tlearn: 0.4895612\ttest: 0.4964883\tbest: 0.4964883 (137)\ttotal: 33.1s\tremaining: 19m 25s\n",
            "138:\tlearn: 0.4895396\ttest: 0.4964759\tbest: 0.4964759 (138)\ttotal: 33.3s\tremaining: 19m 25s\n",
            "139:\tlearn: 0.4895350\ttest: 0.4964732\tbest: 0.4964732 (139)\ttotal: 33.5s\tremaining: 19m 23s\n",
            "140:\tlearn: 0.4895214\ttest: 0.4964713\tbest: 0.4964713 (140)\ttotal: 33.8s\tremaining: 19m 25s\n",
            "141:\tlearn: 0.4894963\ttest: 0.4964687\tbest: 0.4964687 (141)\ttotal: 34.2s\tremaining: 19m 31s\n",
            "142:\tlearn: 0.4894671\ttest: 0.4964514\tbest: 0.4964514 (142)\ttotal: 34.7s\tremaining: 19m 38s\n",
            "143:\tlearn: 0.4894533\ttest: 0.4964537\tbest: 0.4964514 (142)\ttotal: 35.1s\tremaining: 19m 45s\n",
            "144:\tlearn: 0.4894341\ttest: 0.4964496\tbest: 0.4964496 (144)\ttotal: 35.6s\tremaining: 19m 50s\n",
            "145:\tlearn: 0.4894274\ttest: 0.4964509\tbest: 0.4964496 (144)\ttotal: 36s\tremaining: 19m 55s\n",
            "146:\tlearn: 0.4894228\ttest: 0.4964497\tbest: 0.4964496 (144)\ttotal: 36.4s\tremaining: 20m\n",
            "147:\tlearn: 0.4894063\ttest: 0.4964463\tbest: 0.4964463 (147)\ttotal: 36.8s\tremaining: 20m 6s\n",
            "148:\tlearn: 0.4893981\ttest: 0.4964537\tbest: 0.4964463 (147)\ttotal: 37s\tremaining: 20m 5s\n",
            "149:\tlearn: 0.4893767\ttest: 0.4964537\tbest: 0.4964463 (147)\ttotal: 37.2s\tremaining: 20m 3s\n",
            "150:\tlearn: 0.4893531\ttest: 0.4964410\tbest: 0.4964410 (150)\ttotal: 37.5s\tremaining: 20m 3s\n",
            "151:\tlearn: 0.4893123\ttest: 0.4964032\tbest: 0.4964032 (151)\ttotal: 37.7s\tremaining: 20m 3s\n",
            "152:\tlearn: 0.4893046\ttest: 0.4963992\tbest: 0.4963992 (152)\ttotal: 38s\tremaining: 20m 2s\n",
            "153:\tlearn: 0.4892990\ttest: 0.4963978\tbest: 0.4963978 (153)\ttotal: 38.2s\tremaining: 20m 2s\n",
            "154:\tlearn: 0.4892899\ttest: 0.4963946\tbest: 0.4963946 (154)\ttotal: 38.4s\tremaining: 20m 1s\n",
            "155:\tlearn: 0.4892561\ttest: 0.4963849\tbest: 0.4963849 (155)\ttotal: 38.7s\tremaining: 20m\n",
            "156:\tlearn: 0.4892395\ttest: 0.4963882\tbest: 0.4963849 (155)\ttotal: 38.9s\tremaining: 20m\n",
            "157:\tlearn: 0.4892297\ttest: 0.4963893\tbest: 0.4963849 (155)\ttotal: 39.1s\tremaining: 19m 58s\n",
            "158:\tlearn: 0.4892141\ttest: 0.4963921\tbest: 0.4963849 (155)\ttotal: 39.3s\tremaining: 19m 57s\n",
            "159:\tlearn: 0.4891737\ttest: 0.4963590\tbest: 0.4963590 (159)\ttotal: 39.6s\tremaining: 19m 57s\n",
            "160:\tlearn: 0.4891699\ttest: 0.4963585\tbest: 0.4963585 (160)\ttotal: 39.8s\tremaining: 19m 55s\n",
            "161:\tlearn: 0.4891655\ttest: 0.4963564\tbest: 0.4963564 (161)\ttotal: 40s\tremaining: 19m 54s\n",
            "162:\tlearn: 0.4891511\ttest: 0.4963550\tbest: 0.4963550 (162)\ttotal: 40.3s\tremaining: 19m 54s\n",
            "163:\tlearn: 0.4891242\ttest: 0.4963329\tbest: 0.4963329 (163)\ttotal: 40.5s\tremaining: 19m 54s\n",
            "164:\tlearn: 0.4891166\ttest: 0.4963263\tbest: 0.4963263 (164)\ttotal: 40.7s\tremaining: 19m 53s\n",
            "165:\tlearn: 0.4891124\ttest: 0.4963273\tbest: 0.4963263 (164)\ttotal: 40.9s\tremaining: 19m 52s\n",
            "166:\tlearn: 0.4891065\ttest: 0.4963281\tbest: 0.4963263 (164)\ttotal: 41.2s\tremaining: 19m 51s\n",
            "167:\tlearn: 0.4890760\ttest: 0.4963090\tbest: 0.4963090 (167)\ttotal: 41.4s\tremaining: 19m 51s\n",
            "168:\tlearn: 0.4890734\ttest: 0.4963080\tbest: 0.4963080 (168)\ttotal: 41.6s\tremaining: 19m 49s\n",
            "169:\tlearn: 0.4890651\ttest: 0.4963056\tbest: 0.4963056 (169)\ttotal: 41.8s\tremaining: 19m 48s\n",
            "170:\tlearn: 0.4890413\ttest: 0.4962931\tbest: 0.4962931 (170)\ttotal: 42.1s\tremaining: 19m 47s\n",
            "171:\tlearn: 0.4890224\ttest: 0.4962831\tbest: 0.4962831 (171)\ttotal: 42.3s\tremaining: 19m 47s\n",
            "172:\tlearn: 0.4890078\ttest: 0.4962781\tbest: 0.4962781 (172)\ttotal: 42.5s\tremaining: 19m 46s\n",
            "173:\tlearn: 0.4890000\ttest: 0.4962780\tbest: 0.4962780 (173)\ttotal: 42.7s\tremaining: 19m 45s\n",
            "174:\tlearn: 0.4889823\ttest: 0.4962874\tbest: 0.4962780 (173)\ttotal: 43s\tremaining: 19m 45s\n",
            "175:\tlearn: 0.4889768\ttest: 0.4962875\tbest: 0.4962780 (173)\ttotal: 43.2s\tremaining: 19m 43s\n",
            "176:\tlearn: 0.4889718\ttest: 0.4962880\tbest: 0.4962780 (173)\ttotal: 43.4s\tremaining: 19m 41s\n",
            "177:\tlearn: 0.4889589\ttest: 0.4962833\tbest: 0.4962780 (173)\ttotal: 43.6s\tremaining: 19m 41s\n",
            "178:\tlearn: 0.4889268\ttest: 0.4962465\tbest: 0.4962465 (178)\ttotal: 43.9s\tremaining: 19m 41s\n",
            "179:\tlearn: 0.4889158\ttest: 0.4962412\tbest: 0.4962412 (179)\ttotal: 44.1s\tremaining: 19m 41s\n",
            "180:\tlearn: 0.4889085\ttest: 0.4962390\tbest: 0.4962390 (180)\ttotal: 44.4s\tremaining: 19m 41s\n",
            "181:\tlearn: 0.4889047\ttest: 0.4962359\tbest: 0.4962359 (181)\ttotal: 44.6s\tremaining: 19m 40s\n",
            "182:\tlearn: 0.4888792\ttest: 0.4962214\tbest: 0.4962214 (182)\ttotal: 44.9s\tremaining: 19m 40s\n",
            "183:\tlearn: 0.4888516\ttest: 0.4962161\tbest: 0.4962161 (183)\ttotal: 45.1s\tremaining: 19m 40s\n",
            "184:\tlearn: 0.4888386\ttest: 0.4962202\tbest: 0.4962161 (183)\ttotal: 45.3s\tremaining: 19m 39s\n",
            "185:\tlearn: 0.4888287\ttest: 0.4962225\tbest: 0.4962161 (183)\ttotal: 45.6s\tremaining: 19m 38s\n",
            "186:\tlearn: 0.4888085\ttest: 0.4962138\tbest: 0.4962138 (186)\ttotal: 45.8s\tremaining: 19m 38s\n",
            "187:\tlearn: 0.4887938\ttest: 0.4962127\tbest: 0.4962127 (187)\ttotal: 46s\tremaining: 19m 38s\n",
            "188:\tlearn: 0.4887927\ttest: 0.4962131\tbest: 0.4962127 (187)\ttotal: 46.2s\tremaining: 19m 36s\n",
            "189:\tlearn: 0.4887845\ttest: 0.4962131\tbest: 0.4962127 (187)\ttotal: 46.5s\tremaining: 19m 37s\n",
            "190:\tlearn: 0.4887597\ttest: 0.4962068\tbest: 0.4962068 (190)\ttotal: 46.7s\tremaining: 19m 36s\n",
            "191:\tlearn: 0.4887463\ttest: 0.4962019\tbest: 0.4962019 (191)\ttotal: 47.2s\tremaining: 19m 42s\n",
            "192:\tlearn: 0.4887400\ttest: 0.4962036\tbest: 0.4962019 (191)\ttotal: 47.7s\tremaining: 19m 47s\n",
            "193:\tlearn: 0.4887383\ttest: 0.4962024\tbest: 0.4962019 (191)\ttotal: 48.1s\tremaining: 19m 51s\n",
            "194:\tlearn: 0.4886986\ttest: 0.4961901\tbest: 0.4961901 (194)\ttotal: 48.5s\tremaining: 19m 55s\n",
            "195:\tlearn: 0.4886927\ttest: 0.4961880\tbest: 0.4961880 (195)\ttotal: 48.9s\tremaining: 19m 58s\n",
            "196:\tlearn: 0.4886891\ttest: 0.4961894\tbest: 0.4961880 (195)\ttotal: 49.4s\tremaining: 20m 3s\n",
            "197:\tlearn: 0.4886845\ttest: 0.4961911\tbest: 0.4961880 (195)\ttotal: 49.8s\tremaining: 20m 7s\n",
            "198:\tlearn: 0.4886816\ttest: 0.4961911\tbest: 0.4961880 (195)\ttotal: 50s\tremaining: 20m 6s\n",
            "199:\tlearn: 0.4886565\ttest: 0.4961912\tbest: 0.4961880 (195)\ttotal: 50.2s\tremaining: 20m 5s\n",
            "200:\tlearn: 0.4886562\ttest: 0.4961910\tbest: 0.4961880 (195)\ttotal: 50.4s\tremaining: 20m 3s\n",
            "201:\tlearn: 0.4886271\ttest: 0.4961788\tbest: 0.4961788 (201)\ttotal: 50.7s\tremaining: 20m 4s\n",
            "202:\tlearn: 0.4886203\ttest: 0.4961789\tbest: 0.4961788 (201)\ttotal: 50.9s\tremaining: 20m 3s\n",
            "203:\tlearn: 0.4886117\ttest: 0.4961779\tbest: 0.4961779 (203)\ttotal: 51.2s\tremaining: 20m 3s\n",
            "204:\tlearn: 0.4885987\ttest: 0.4961762\tbest: 0.4961762 (204)\ttotal: 51.4s\tremaining: 20m 2s\n",
            "205:\tlearn: 0.4885878\ttest: 0.4961775\tbest: 0.4961762 (204)\ttotal: 51.6s\tremaining: 20m 2s\n",
            "206:\tlearn: 0.4885845\ttest: 0.4961768\tbest: 0.4961762 (204)\ttotal: 51.9s\tremaining: 20m 1s\n",
            "207:\tlearn: 0.4885789\ttest: 0.4961770\tbest: 0.4961762 (204)\ttotal: 52.1s\tremaining: 20m\n",
            "208:\tlearn: 0.4885750\ttest: 0.4961770\tbest: 0.4961762 (204)\ttotal: 52.3s\tremaining: 19m 58s\n",
            "209:\tlearn: 0.4885629\ttest: 0.4961792\tbest: 0.4961762 (204)\ttotal: 52.6s\tremaining: 19m 59s\n",
            "210:\tlearn: 0.4885593\ttest: 0.4961783\tbest: 0.4961762 (204)\ttotal: 52.9s\tremaining: 19m 59s\n",
            "211:\tlearn: 0.4885562\ttest: 0.4961753\tbest: 0.4961753 (211)\ttotal: 53.1s\tremaining: 19m 58s\n",
            "212:\tlearn: 0.4885531\ttest: 0.4961765\tbest: 0.4961753 (211)\ttotal: 53.3s\tremaining: 19m 57s\n",
            "213:\tlearn: 0.4885428\ttest: 0.4961765\tbest: 0.4961753 (211)\ttotal: 53.5s\tremaining: 19m 55s\n",
            "214:\tlearn: 0.4885366\ttest: 0.4961805\tbest: 0.4961753 (211)\ttotal: 53.7s\tremaining: 19m 54s\n",
            "215:\tlearn: 0.4885047\ttest: 0.4961547\tbest: 0.4961547 (215)\ttotal: 54s\tremaining: 19m 55s\n",
            "216:\tlearn: 0.4885011\ttest: 0.4961554\tbest: 0.4961547 (215)\ttotal: 54.2s\tremaining: 19m 54s\n",
            "217:\tlearn: 0.4884987\ttest: 0.4961545\tbest: 0.4961545 (217)\ttotal: 54.4s\tremaining: 19m 52s\n",
            "218:\tlearn: 0.4884758\ttest: 0.4961388\tbest: 0.4961388 (218)\ttotal: 54.6s\tremaining: 19m 51s\n",
            "219:\tlearn: 0.4884688\ttest: 0.4961381\tbest: 0.4961381 (219)\ttotal: 54.8s\tremaining: 19m 50s\n",
            "220:\tlearn: 0.4884527\ttest: 0.4961332\tbest: 0.4961332 (220)\ttotal: 55s\tremaining: 19m 49s\n",
            "221:\tlearn: 0.4884501\ttest: 0.4961331\tbest: 0.4961331 (221)\ttotal: 55.2s\tremaining: 19m 47s\n",
            "222:\tlearn: 0.4884309\ttest: 0.4961350\tbest: 0.4961331 (221)\ttotal: 55.4s\tremaining: 19m 47s\n",
            "223:\tlearn: 0.4884247\ttest: 0.4961347\tbest: 0.4961331 (221)\ttotal: 55.6s\tremaining: 19m 45s\n",
            "224:\tlearn: 0.4884098\ttest: 0.4961339\tbest: 0.4961331 (221)\ttotal: 55.9s\tremaining: 19m 45s\n",
            "225:\tlearn: 0.4884039\ttest: 0.4961355\tbest: 0.4961331 (221)\ttotal: 56.1s\tremaining: 19m 45s\n",
            "226:\tlearn: 0.4884032\ttest: 0.4961353\tbest: 0.4961331 (221)\ttotal: 56.3s\tremaining: 19m 43s\n",
            "227:\tlearn: 0.4883901\ttest: 0.4961426\tbest: 0.4961331 (221)\ttotal: 56.5s\tremaining: 19m 42s\n",
            "228:\tlearn: 0.4883855\ttest: 0.4961488\tbest: 0.4961331 (221)\ttotal: 56.7s\tremaining: 19m 41s\n",
            "229:\tlearn: 0.4883792\ttest: 0.4961496\tbest: 0.4961331 (221)\ttotal: 56.9s\tremaining: 19m 40s\n",
            "230:\tlearn: 0.4883569\ttest: 0.4961545\tbest: 0.4961331 (221)\ttotal: 57.1s\tremaining: 19m 39s\n",
            "231:\tlearn: 0.4883504\ttest: 0.4961585\tbest: 0.4961331 (221)\ttotal: 57.4s\tremaining: 19m 38s\n",
            "232:\tlearn: 0.4883465\ttest: 0.4961560\tbest: 0.4961331 (221)\ttotal: 57.5s\tremaining: 19m 37s\n",
            "233:\tlearn: 0.4883435\ttest: 0.4961548\tbest: 0.4961331 (221)\ttotal: 57.7s\tremaining: 19m 36s\n",
            "234:\tlearn: 0.4883357\ttest: 0.4961541\tbest: 0.4961331 (221)\ttotal: 58s\tremaining: 19m 36s\n",
            "235:\tlearn: 0.4883280\ttest: 0.4961514\tbest: 0.4961331 (221)\ttotal: 58.2s\tremaining: 19m 35s\n",
            "236:\tlearn: 0.4883219\ttest: 0.4961488\tbest: 0.4961331 (221)\ttotal: 58.4s\tremaining: 19m 33s\n",
            "237:\tlearn: 0.4883084\ttest: 0.4961430\tbest: 0.4961331 (221)\ttotal: 58.6s\tremaining: 19m 33s\n",
            "238:\tlearn: 0.4883014\ttest: 0.4961469\tbest: 0.4961331 (221)\ttotal: 58.9s\tremaining: 19m 33s\n",
            "239:\tlearn: 0.4882939\ttest: 0.4961465\tbest: 0.4961331 (221)\ttotal: 59.1s\tremaining: 19m 32s\n",
            "240:\tlearn: 0.4882933\ttest: 0.4961471\tbest: 0.4961331 (221)\ttotal: 59.3s\tremaining: 19m 31s\n",
            "241:\tlearn: 0.4882820\ttest: 0.4961479\tbest: 0.4961331 (221)\ttotal: 59.5s\tremaining: 19m 30s\n",
            "242:\tlearn: 0.4882724\ttest: 0.4961518\tbest: 0.4961331 (221)\ttotal: 59.8s\tremaining: 19m 30s\n",
            "243:\tlearn: 0.4882687\ttest: 0.4961533\tbest: 0.4961331 (221)\ttotal: 1m\tremaining: 19m 34s\n",
            "244:\tlearn: 0.4882546\ttest: 0.4961581\tbest: 0.4961331 (221)\ttotal: 1m\tremaining: 19m 38s\n",
            "245:\tlearn: 0.4882538\ttest: 0.4961580\tbest: 0.4961331 (221)\ttotal: 1m 1s\tremaining: 19m 40s\n",
            "246:\tlearn: 0.4882516\ttest: 0.4961575\tbest: 0.4961331 (221)\ttotal: 1m 1s\tremaining: 19m 43s\n",
            "247:\tlearn: 0.4882483\ttest: 0.4961569\tbest: 0.4961331 (221)\ttotal: 1m 1s\tremaining: 19m 45s\n",
            "248:\tlearn: 0.4882452\ttest: 0.4961567\tbest: 0.4961331 (221)\ttotal: 1m 2s\tremaining: 19m 47s\n",
            "249:\tlearn: 0.4882368\ttest: 0.4961579\tbest: 0.4961331 (221)\ttotal: 1m 2s\tremaining: 19m 50s\n",
            "250:\tlearn: 0.4882324\ttest: 0.4961592\tbest: 0.4961331 (221)\ttotal: 1m 2s\tremaining: 19m 50s\n",
            "251:\tlearn: 0.4882299\ttest: 0.4961600\tbest: 0.4961331 (221)\ttotal: 1m 3s\tremaining: 19m 49s\n",
            "252:\tlearn: 0.4882164\ttest: 0.4961591\tbest: 0.4961331 (221)\ttotal: 1m 3s\tremaining: 19m 49s\n",
            "253:\tlearn: 0.4882119\ttest: 0.4961586\tbest: 0.4961331 (221)\ttotal: 1m 3s\tremaining: 19m 48s\n",
            "254:\tlearn: 0.4882057\ttest: 0.4961598\tbest: 0.4961331 (221)\ttotal: 1m 3s\tremaining: 19m 47s\n",
            "255:\tlearn: 0.4881846\ttest: 0.4961617\tbest: 0.4961331 (221)\ttotal: 1m 4s\tremaining: 19m 47s\n",
            "256:\tlearn: 0.4881796\ttest: 0.4961620\tbest: 0.4961331 (221)\ttotal: 1m 4s\tremaining: 19m 46s\n",
            "257:\tlearn: 0.4881590\ttest: 0.4961505\tbest: 0.4961331 (221)\ttotal: 1m 4s\tremaining: 19m 46s\n",
            "258:\tlearn: 0.4881507\ttest: 0.4961450\tbest: 0.4961331 (221)\ttotal: 1m 4s\tremaining: 19m 46s\n",
            "259:\tlearn: 0.4881445\ttest: 0.4961394\tbest: 0.4961331 (221)\ttotal: 1m 5s\tremaining: 19m 45s\n",
            "260:\tlearn: 0.4881132\ttest: 0.4961266\tbest: 0.4961266 (260)\ttotal: 1m 5s\tremaining: 19m 44s\n",
            "261:\tlearn: 0.4881049\ttest: 0.4961268\tbest: 0.4961266 (260)\ttotal: 1m 5s\tremaining: 19m 43s\n",
            "262:\tlearn: 0.4881028\ttest: 0.4961252\tbest: 0.4961252 (262)\ttotal: 1m 5s\tremaining: 19m 42s\n",
            "263:\tlearn: 0.4880842\ttest: 0.4961018\tbest: 0.4961018 (263)\ttotal: 1m 5s\tremaining: 19m 42s\n",
            "264:\tlearn: 0.4880588\ttest: 0.4960853\tbest: 0.4960853 (264)\ttotal: 1m 6s\tremaining: 19m 41s\n",
            "265:\tlearn: 0.4880549\ttest: 0.4960853\tbest: 0.4960853 (264)\ttotal: 1m 6s\tremaining: 19m 40s\n",
            "266:\tlearn: 0.4880525\ttest: 0.4960870\tbest: 0.4960853 (264)\ttotal: 1m 6s\tremaining: 19m 39s\n",
            "267:\tlearn: 0.4880444\ttest: 0.4960855\tbest: 0.4960853 (264)\ttotal: 1m 6s\tremaining: 19m 38s\n",
            "268:\tlearn: 0.4880330\ttest: 0.4960937\tbest: 0.4960853 (264)\ttotal: 1m 7s\tremaining: 19m 38s\n",
            "269:\tlearn: 0.4880269\ttest: 0.4960927\tbest: 0.4960853 (264)\ttotal: 1m 7s\tremaining: 19m 37s\n",
            "270:\tlearn: 0.4880166\ttest: 0.4960923\tbest: 0.4960853 (264)\ttotal: 1m 7s\tremaining: 19m 36s\n",
            "271:\tlearn: 0.4880016\ttest: 0.4960881\tbest: 0.4960853 (264)\ttotal: 1m 7s\tremaining: 19m 36s\n",
            "272:\tlearn: 0.4879815\ttest: 0.4960666\tbest: 0.4960666 (272)\ttotal: 1m 7s\tremaining: 19m 35s\n",
            "273:\tlearn: 0.4879748\ttest: 0.4960680\tbest: 0.4960666 (272)\ttotal: 1m 8s\tremaining: 19m 34s\n",
            "274:\tlearn: 0.4879551\ttest: 0.4960700\tbest: 0.4960666 (272)\ttotal: 1m 8s\tremaining: 19m 34s\n",
            "275:\tlearn: 0.4879534\ttest: 0.4960690\tbest: 0.4960666 (272)\ttotal: 1m 8s\tremaining: 19m 33s\n",
            "276:\tlearn: 0.4879365\ttest: 0.4960598\tbest: 0.4960598 (276)\ttotal: 1m 8s\tremaining: 19m 32s\n",
            "277:\tlearn: 0.4879308\ttest: 0.4960595\tbest: 0.4960595 (277)\ttotal: 1m 8s\tremaining: 19m 31s\n",
            "278:\tlearn: 0.4879281\ttest: 0.4960606\tbest: 0.4960595 (277)\ttotal: 1m 9s\tremaining: 19m 30s\n",
            "279:\tlearn: 0.4879056\ttest: 0.4960835\tbest: 0.4960595 (277)\ttotal: 1m 9s\tremaining: 19m 30s\n",
            "280:\tlearn: 0.4879038\ttest: 0.4960831\tbest: 0.4960595 (277)\ttotal: 1m 9s\tremaining: 19m 30s\n",
            "281:\tlearn: 0.4878968\ttest: 0.4960818\tbest: 0.4960595 (277)\ttotal: 1m 9s\tremaining: 19m 29s\n",
            "282:\tlearn: 0.4878916\ttest: 0.4960820\tbest: 0.4960595 (277)\ttotal: 1m 10s\tremaining: 19m 29s\n",
            "283:\tlearn: 0.4878863\ttest: 0.4960826\tbest: 0.4960595 (277)\ttotal: 1m 10s\tremaining: 19m 28s\n",
            "284:\tlearn: 0.4878821\ttest: 0.4960825\tbest: 0.4960595 (277)\ttotal: 1m 10s\tremaining: 19m 27s\n",
            "285:\tlearn: 0.4878790\ttest: 0.4960810\tbest: 0.4960595 (277)\ttotal: 1m 10s\tremaining: 19m 27s\n",
            "286:\tlearn: 0.4878666\ttest: 0.4960827\tbest: 0.4960595 (277)\ttotal: 1m 11s\tremaining: 19m 27s\n",
            "287:\tlearn: 0.4878607\ttest: 0.4960841\tbest: 0.4960595 (277)\ttotal: 1m 11s\tremaining: 19m 27s\n",
            "288:\tlearn: 0.4878594\ttest: 0.4960860\tbest: 0.4960595 (277)\ttotal: 1m 11s\tremaining: 19m 26s\n",
            "289:\tlearn: 0.4878556\ttest: 0.4960861\tbest: 0.4960595 (277)\ttotal: 1m 11s\tremaining: 19m 25s\n",
            "290:\tlearn: 0.4878531\ttest: 0.4960874\tbest: 0.4960595 (277)\ttotal: 1m 11s\tremaining: 19m 24s\n",
            "291:\tlearn: 0.4878299\ttest: 0.4960807\tbest: 0.4960595 (277)\ttotal: 1m 12s\tremaining: 19m 24s\n",
            "292:\tlearn: 0.4878255\ttest: 0.4960806\tbest: 0.4960595 (277)\ttotal: 1m 12s\tremaining: 19m 23s\n",
            "293:\tlearn: 0.4878235\ttest: 0.4960795\tbest: 0.4960595 (277)\ttotal: 1m 12s\tremaining: 19m 22s\n",
            "294:\tlearn: 0.4878214\ttest: 0.4960799\tbest: 0.4960595 (277)\ttotal: 1m 12s\tremaining: 19m 22s\n",
            "295:\tlearn: 0.4878194\ttest: 0.4960798\tbest: 0.4960595 (277)\ttotal: 1m 13s\tremaining: 19m 24s\n",
            "296:\tlearn: 0.4878007\ttest: 0.4960796\tbest: 0.4960595 (277)\ttotal: 1m 13s\tremaining: 19m 28s\n",
            "297:\tlearn: 0.4877922\ttest: 0.4960819\tbest: 0.4960595 (277)\ttotal: 1m 14s\tremaining: 19m 31s\n",
            "298:\tlearn: 0.4877883\ttest: 0.4960841\tbest: 0.4960595 (277)\ttotal: 1m 14s\tremaining: 19m 33s\n",
            "299:\tlearn: 0.4877732\ttest: 0.4960800\tbest: 0.4960595 (277)\ttotal: 1m 15s\tremaining: 19m 37s\n",
            "300:\tlearn: 0.4877530\ttest: 0.4960830\tbest: 0.4960595 (277)\ttotal: 1m 15s\tremaining: 19m 40s\n",
            "301:\tlearn: 0.4877271\ttest: 0.4960617\tbest: 0.4960595 (277)\ttotal: 1m 15s\tremaining: 19m 41s\n",
            "302:\tlearn: 0.4877111\ttest: 0.4960611\tbest: 0.4960595 (277)\ttotal: 1m 16s\tremaining: 19m 41s\n",
            "303:\tlearn: 0.4877099\ttest: 0.4960613\tbest: 0.4960595 (277)\ttotal: 1m 16s\tremaining: 19m 40s\n",
            "304:\tlearn: 0.4877038\ttest: 0.4960643\tbest: 0.4960595 (277)\ttotal: 1m 16s\tremaining: 19m 39s\n",
            "305:\tlearn: 0.4877006\ttest: 0.4960622\tbest: 0.4960595 (277)\ttotal: 1m 16s\tremaining: 19m 38s\n",
            "306:\tlearn: 0.4876995\ttest: 0.4960616\tbest: 0.4960595 (277)\ttotal: 1m 17s\tremaining: 19m 37s\n",
            "307:\tlearn: 0.4876887\ttest: 0.4960634\tbest: 0.4960595 (277)\ttotal: 1m 17s\tremaining: 19m 36s\n",
            "308:\tlearn: 0.4876873\ttest: 0.4960636\tbest: 0.4960595 (277)\ttotal: 1m 17s\tremaining: 19m 36s\n",
            "309:\tlearn: 0.4876804\ttest: 0.4960620\tbest: 0.4960595 (277)\ttotal: 1m 17s\tremaining: 19m 35s\n",
            "310:\tlearn: 0.4876780\ttest: 0.4960622\tbest: 0.4960595 (277)\ttotal: 1m 17s\tremaining: 19m 33s\n",
            "311:\tlearn: 0.4876769\ttest: 0.4960621\tbest: 0.4960595 (277)\ttotal: 1m 18s\tremaining: 19m 32s\n",
            "312:\tlearn: 0.4876652\ttest: 0.4960647\tbest: 0.4960595 (277)\ttotal: 1m 18s\tremaining: 19m 31s\n",
            "313:\tlearn: 0.4876556\ttest: 0.4960558\tbest: 0.4960558 (313)\ttotal: 1m 18s\tremaining: 19m 30s\n",
            "314:\tlearn: 0.4876514\ttest: 0.4960577\tbest: 0.4960558 (313)\ttotal: 1m 18s\tremaining: 19m 29s\n",
            "315:\tlearn: 0.4876487\ttest: 0.4960581\tbest: 0.4960558 (313)\ttotal: 1m 18s\tremaining: 19m 29s\n",
            "316:\tlearn: 0.4876443\ttest: 0.4960594\tbest: 0.4960558 (313)\ttotal: 1m 19s\tremaining: 19m 29s\n",
            "317:\tlearn: 0.4876289\ttest: 0.4960604\tbest: 0.4960558 (313)\ttotal: 1m 19s\tremaining: 19m 28s\n",
            "318:\tlearn: 0.4876200\ttest: 0.4960639\tbest: 0.4960558 (313)\ttotal: 1m 19s\tremaining: 19m 28s\n",
            "319:\tlearn: 0.4876138\ttest: 0.4960680\tbest: 0.4960558 (313)\ttotal: 1m 19s\tremaining: 19m 27s\n",
            "320:\tlearn: 0.4876093\ttest: 0.4960687\tbest: 0.4960558 (313)\ttotal: 1m 20s\tremaining: 19m 27s\n",
            "321:\tlearn: 0.4876033\ttest: 0.4960658\tbest: 0.4960558 (313)\ttotal: 1m 20s\tremaining: 19m 26s\n",
            "322:\tlearn: 0.4876026\ttest: 0.4960652\tbest: 0.4960558 (313)\ttotal: 1m 20s\tremaining: 19m 25s\n",
            "323:\tlearn: 0.4875879\ttest: 0.4960634\tbest: 0.4960558 (313)\ttotal: 1m 20s\tremaining: 19m 24s\n",
            "324:\tlearn: 0.4875800\ttest: 0.4960636\tbest: 0.4960558 (313)\ttotal: 1m 20s\tremaining: 19m 24s\n",
            "325:\tlearn: 0.4875766\ttest: 0.4960601\tbest: 0.4960558 (313)\ttotal: 1m 21s\tremaining: 19m 24s\n",
            "326:\tlearn: 0.4875730\ttest: 0.4960648\tbest: 0.4960558 (313)\ttotal: 1m 21s\tremaining: 19m 22s\n",
            "327:\tlearn: 0.4875674\ttest: 0.4960696\tbest: 0.4960558 (313)\ttotal: 1m 21s\tremaining: 19m 23s\n",
            "328:\tlearn: 0.4875614\ttest: 0.4960731\tbest: 0.4960558 (313)\ttotal: 1m 21s\tremaining: 19m 22s\n",
            "329:\tlearn: 0.4875612\ttest: 0.4960735\tbest: 0.4960558 (313)\ttotal: 1m 22s\tremaining: 19m 21s\n",
            "330:\tlearn: 0.4875551\ttest: 0.4960735\tbest: 0.4960558 (313)\ttotal: 1m 22s\tremaining: 19m 21s\n",
            "331:\tlearn: 0.4875508\ttest: 0.4960749\tbest: 0.4960558 (313)\ttotal: 1m 22s\tremaining: 19m 20s\n",
            "332:\tlearn: 0.4875455\ttest: 0.4960756\tbest: 0.4960558 (313)\ttotal: 1m 22s\tremaining: 19m 20s\n",
            "333:\tlearn: 0.4875405\ttest: 0.4960759\tbest: 0.4960558 (313)\ttotal: 1m 23s\tremaining: 19m 19s\n",
            "334:\tlearn: 0.4875225\ttest: 0.4960829\tbest: 0.4960558 (313)\ttotal: 1m 23s\tremaining: 19m 19s\n",
            "335:\tlearn: 0.4875122\ttest: 0.4960810\tbest: 0.4960558 (313)\ttotal: 1m 23s\tremaining: 19m 18s\n",
            "336:\tlearn: 0.4875092\ttest: 0.4960788\tbest: 0.4960558 (313)\ttotal: 1m 23s\tremaining: 19m 17s\n",
            "337:\tlearn: 0.4875002\ttest: 0.4960768\tbest: 0.4960558 (313)\ttotal: 1m 23s\tremaining: 19m 17s\n",
            "338:\tlearn: 0.4874875\ttest: 0.4960757\tbest: 0.4960558 (313)\ttotal: 1m 24s\tremaining: 19m 17s\n",
            "339:\tlearn: 0.4874788\ttest: 0.4960734\tbest: 0.4960558 (313)\ttotal: 1m 24s\tremaining: 19m 17s\n",
            "340:\tlearn: 0.4874616\ttest: 0.4960752\tbest: 0.4960558 (313)\ttotal: 1m 24s\tremaining: 19m 17s\n",
            "341:\tlearn: 0.4874558\ttest: 0.4960744\tbest: 0.4960558 (313)\ttotal: 1m 24s\tremaining: 19m 16s\n",
            "342:\tlearn: 0.4874473\ttest: 0.4960743\tbest: 0.4960558 (313)\ttotal: 1m 25s\tremaining: 19m 16s\n",
            "343:\tlearn: 0.4874445\ttest: 0.4960742\tbest: 0.4960558 (313)\ttotal: 1m 25s\tremaining: 19m 15s\n",
            "344:\tlearn: 0.4874297\ttest: 0.4960716\tbest: 0.4960558 (313)\ttotal: 1m 25s\tremaining: 19m 14s\n",
            "345:\tlearn: 0.4874196\ttest: 0.4960727\tbest: 0.4960558 (313)\ttotal: 1m 25s\tremaining: 19m 14s\n",
            "346:\tlearn: 0.4874066\ttest: 0.4960749\tbest: 0.4960558 (313)\ttotal: 1m 26s\tremaining: 19m 16s\n",
            "347:\tlearn: 0.4874033\ttest: 0.4960771\tbest: 0.4960558 (313)\ttotal: 1m 26s\tremaining: 19m 18s\n",
            "348:\tlearn: 0.4873909\ttest: 0.4960795\tbest: 0.4960558 (313)\ttotal: 1m 27s\tremaining: 19m 20s\n",
            "349:\tlearn: 0.4873855\ttest: 0.4960833\tbest: 0.4960558 (313)\ttotal: 1m 27s\tremaining: 19m 21s\n",
            "350:\tlearn: 0.4873799\ttest: 0.4960813\tbest: 0.4960558 (313)\ttotal: 1m 27s\tremaining: 19m 23s\n",
            "351:\tlearn: 0.4873681\ttest: 0.4960879\tbest: 0.4960558 (313)\ttotal: 1m 28s\tremaining: 19m 24s\n",
            "352:\tlearn: 0.4873644\ttest: 0.4960845\tbest: 0.4960558 (313)\ttotal: 1m 28s\tremaining: 19m 26s\n",
            "353:\tlearn: 0.4873557\ttest: 0.4960843\tbest: 0.4960558 (313)\ttotal: 1m 28s\tremaining: 19m 27s\n",
            "354:\tlearn: 0.4873516\ttest: 0.4960853\tbest: 0.4960558 (313)\ttotal: 1m 29s\tremaining: 19m 27s\n",
            "355:\tlearn: 0.4873483\ttest: 0.4960864\tbest: 0.4960558 (313)\ttotal: 1m 29s\tremaining: 19m 26s\n",
            "356:\tlearn: 0.4873445\ttest: 0.4960862\tbest: 0.4960558 (313)\ttotal: 1m 29s\tremaining: 19m 25s\n",
            "357:\tlearn: 0.4873381\ttest: 0.4960895\tbest: 0.4960558 (313)\ttotal: 1m 29s\tremaining: 19m 24s\n",
            "358:\tlearn: 0.4873319\ttest: 0.4960885\tbest: 0.4960558 (313)\ttotal: 1m 30s\tremaining: 19m 24s\n",
            "359:\tlearn: 0.4873139\ttest: 0.4960887\tbest: 0.4960558 (313)\ttotal: 1m 30s\tremaining: 19m 23s\n",
            "360:\tlearn: 0.4873072\ttest: 0.4960916\tbest: 0.4960558 (313)\ttotal: 1m 30s\tremaining: 19m 22s\n",
            "361:\tlearn: 0.4873035\ttest: 0.4960954\tbest: 0.4960558 (313)\ttotal: 1m 30s\tremaining: 19m 21s\n",
            "362:\tlearn: 0.4872877\ttest: 0.4960922\tbest: 0.4960558 (313)\ttotal: 1m 30s\tremaining: 19m 20s\n",
            "363:\tlearn: 0.4872838\ttest: 0.4960899\tbest: 0.4960558 (313)\ttotal: 1m 31s\tremaining: 19m 19s\n",
            "364:\tlearn: 0.4872787\ttest: 0.4960915\tbest: 0.4960558 (313)\ttotal: 1m 31s\tremaining: 19m 18s\n",
            "365:\tlearn: 0.4872706\ttest: 0.4960957\tbest: 0.4960558 (313)\ttotal: 1m 31s\tremaining: 19m 17s\n",
            "366:\tlearn: 0.4872625\ttest: 0.4960978\tbest: 0.4960558 (313)\ttotal: 1m 31s\tremaining: 19m 17s\n",
            "367:\tlearn: 0.4872595\ttest: 0.4960986\tbest: 0.4960558 (313)\ttotal: 1m 31s\tremaining: 19m 16s\n",
            "368:\tlearn: 0.4872543\ttest: 0.4960982\tbest: 0.4960558 (313)\ttotal: 1m 32s\tremaining: 19m 16s\n",
            "369:\tlearn: 0.4872483\ttest: 0.4960977\tbest: 0.4960558 (313)\ttotal: 1m 32s\tremaining: 19m 15s\n",
            "370:\tlearn: 0.4872446\ttest: 0.4961021\tbest: 0.4960558 (313)\ttotal: 1m 32s\tremaining: 19m 14s\n",
            "371:\tlearn: 0.4872412\ttest: 0.4961007\tbest: 0.4960558 (313)\ttotal: 1m 32s\tremaining: 19m 14s\n",
            "372:\tlearn: 0.4872337\ttest: 0.4961010\tbest: 0.4960558 (313)\ttotal: 1m 32s\tremaining: 19m 13s\n",
            "373:\tlearn: 0.4872301\ttest: 0.4961017\tbest: 0.4960558 (313)\ttotal: 1m 33s\tremaining: 19m 13s\n",
            "374:\tlearn: 0.4872213\ttest: 0.4961024\tbest: 0.4960558 (313)\ttotal: 1m 33s\tremaining: 19m 12s\n",
            "375:\tlearn: 0.4872174\ttest: 0.4961022\tbest: 0.4960558 (313)\ttotal: 1m 33s\tremaining: 19m 11s\n",
            "376:\tlearn: 0.4872173\ttest: 0.4961023\tbest: 0.4960558 (313)\ttotal: 1m 33s\tremaining: 19m 10s\n",
            "377:\tlearn: 0.4871963\ttest: 0.4960925\tbest: 0.4960558 (313)\ttotal: 1m 34s\tremaining: 19m 10s\n",
            "378:\tlearn: 0.4871899\ttest: 0.4960894\tbest: 0.4960558 (313)\ttotal: 1m 34s\tremaining: 19m 10s\n",
            "379:\tlearn: 0.4871885\ttest: 0.4960891\tbest: 0.4960558 (313)\ttotal: 1m 34s\tremaining: 19m 9s\n",
            "380:\tlearn: 0.4871830\ttest: 0.4960951\tbest: 0.4960558 (313)\ttotal: 1m 34s\tremaining: 19m 8s\n",
            "381:\tlearn: 0.4871772\ttest: 0.4960966\tbest: 0.4960558 (313)\ttotal: 1m 34s\tremaining: 19m 8s\n",
            "382:\tlearn: 0.4871737\ttest: 0.4960985\tbest: 0.4960558 (313)\ttotal: 1m 35s\tremaining: 19m 7s\n",
            "383:\tlearn: 0.4871602\ttest: 0.4961076\tbest: 0.4960558 (313)\ttotal: 1m 35s\tremaining: 19m 6s\n",
            "384:\tlearn: 0.4871508\ttest: 0.4961091\tbest: 0.4960558 (313)\ttotal: 1m 35s\tremaining: 19m 6s\n",
            "385:\tlearn: 0.4871489\ttest: 0.4961106\tbest: 0.4960558 (313)\ttotal: 1m 35s\tremaining: 19m 5s\n",
            "386:\tlearn: 0.4871315\ttest: 0.4961138\tbest: 0.4960558 (313)\ttotal: 1m 36s\tremaining: 19m 4s\n",
            "387:\tlearn: 0.4871287\ttest: 0.4961132\tbest: 0.4960558 (313)\ttotal: 1m 36s\tremaining: 19m 4s\n",
            "388:\tlearn: 0.4871187\ttest: 0.4961179\tbest: 0.4960558 (313)\ttotal: 1m 36s\tremaining: 19m 3s\n",
            "389:\tlearn: 0.4871131\ttest: 0.4961225\tbest: 0.4960558 (313)\ttotal: 1m 36s\tremaining: 19m 2s\n",
            "390:\tlearn: 0.4871097\ttest: 0.4961239\tbest: 0.4960558 (313)\ttotal: 1m 36s\tremaining: 19m 2s\n",
            "391:\tlearn: 0.4871037\ttest: 0.4961213\tbest: 0.4960558 (313)\ttotal: 1m 37s\tremaining: 19m 2s\n",
            "392:\tlearn: 0.4871014\ttest: 0.4961207\tbest: 0.4960558 (313)\ttotal: 1m 37s\tremaining: 19m 1s\n",
            "393:\tlearn: 0.4870999\ttest: 0.4961204\tbest: 0.4960558 (313)\ttotal: 1m 37s\tremaining: 19m\n",
            "394:\tlearn: 0.4870942\ttest: 0.4961216\tbest: 0.4960558 (313)\ttotal: 1m 37s\tremaining: 18m 59s\n",
            "395:\tlearn: 0.4870935\ttest: 0.4961220\tbest: 0.4960558 (313)\ttotal: 1m 37s\tremaining: 18m 58s\n",
            "396:\tlearn: 0.4870897\ttest: 0.4961207\tbest: 0.4960558 (313)\ttotal: 1m 38s\tremaining: 18m 57s\n",
            "397:\tlearn: 0.4870834\ttest: 0.4961198\tbest: 0.4960558 (313)\ttotal: 1m 38s\tremaining: 18m 56s\n",
            "398:\tlearn: 0.4870762\ttest: 0.4961198\tbest: 0.4960558 (313)\ttotal: 1m 38s\tremaining: 18m 55s\n",
            "399:\tlearn: 0.4870664\ttest: 0.4961224\tbest: 0.4960558 (313)\ttotal: 1m 38s\tremaining: 18m 55s\n",
            "400:\tlearn: 0.4870518\ttest: 0.4961199\tbest: 0.4960558 (313)\ttotal: 1m 39s\tremaining: 18m 57s\n",
            "401:\tlearn: 0.4870471\ttest: 0.4961183\tbest: 0.4960558 (313)\ttotal: 1m 39s\tremaining: 18m 58s\n",
            "402:\tlearn: 0.4870421\ttest: 0.4961184\tbest: 0.4960558 (313)\ttotal: 1m 39s\tremaining: 19m\n",
            "403:\tlearn: 0.4870367\ttest: 0.4961175\tbest: 0.4960558 (313)\ttotal: 1m 40s\tremaining: 19m 2s\n",
            "404:\tlearn: 0.4870306\ttest: 0.4961175\tbest: 0.4960558 (313)\ttotal: 1m 40s\tremaining: 19m 3s\n",
            "405:\tlearn: 0.4870219\ttest: 0.4961167\tbest: 0.4960558 (313)\ttotal: 1m 41s\tremaining: 19m 6s\n",
            "406:\tlearn: 0.4870097\ttest: 0.4961255\tbest: 0.4960558 (313)\ttotal: 1m 41s\tremaining: 19m 8s\n",
            "407:\tlearn: 0.4869955\ttest: 0.4961250\tbest: 0.4960558 (313)\ttotal: 1m 42s\tremaining: 19m 8s\n",
            "408:\tlearn: 0.4869862\ttest: 0.4961213\tbest: 0.4960558 (313)\ttotal: 1m 42s\tremaining: 19m 7s\n",
            "409:\tlearn: 0.4869798\ttest: 0.4961256\tbest: 0.4960558 (313)\ttotal: 1m 42s\tremaining: 19m 7s\n",
            "410:\tlearn: 0.4869736\ttest: 0.4961237\tbest: 0.4960558 (313)\ttotal: 1m 42s\tremaining: 19m 6s\n",
            "411:\tlearn: 0.4869655\ttest: 0.4961225\tbest: 0.4960558 (313)\ttotal: 1m 42s\tremaining: 19m 6s\n",
            "412:\tlearn: 0.4869585\ttest: 0.4961216\tbest: 0.4960558 (313)\ttotal: 1m 43s\tremaining: 19m 5s\n",
            "413:\tlearn: 0.4869472\ttest: 0.4961341\tbest: 0.4960558 (313)\ttotal: 1m 43s\tremaining: 19m 4s\n",
            "Stopped by overfitting detector  (100 iterations wait)\n",
            "\n",
            "bestTest = 0.4960557817\n",
            "bestIteration = 313\n",
            "\n",
            "Shrink model to first 314 iterations.\n"
          ]
        },
        {
          "output_type": "execute_result",
          "data": {
            "text/plain": [
              "<catboost.core.CatBoostClassifier at 0x7fa1e3ba6cd0>"
            ]
          },
          "metadata": {},
          "execution_count": 67
        }
      ],
      "source": [
        "cbm_classifier.fit(\n",
        "    X_train, y_train,\n",
        "    eval_set=(X_test, y_test),\n",
        "    early_stopping_rounds = 100, # to avoid overfitting,\n",
        "    cat_features = CATEGORICAL_COLS \n",
        ")"
      ]
    },
    {
      "cell_type": "markdown",
      "metadata": {
        "id": "iVSQAswDe9_G"
      },
      "source": [
        "## 2.5.3. Model Evaluation"
      ]
    },
    {
      "cell_type": "markdown",
      "metadata": {
        "id": "QzIBSLuMe9_G"
      },
      "source": [
        "Let's make basic shapley plot to investigate feature importance"
      ]
    },
    {
      "cell_type": "code",
      "execution_count": 68,
      "metadata": {
        "id": "YrZ4DN11e9_G"
      },
      "outputs": [],
      "source": [
        "explainer = shap.TreeExplainer(cbm_classifier)\n",
        "shap_values = explainer.shap_values(X_train)"
      ]
    },
    {
      "cell_type": "code",
      "execution_count": 69,
      "metadata": {
        "id": "2CL-iKbZe9_G",
        "colab": {
          "base_uri": "https://localhost:8080/",
          "height": 516
        },
        "outputId": "38c9c98a-6cca-4ec0-f374-f33518b5f3ad"
      },
      "outputs": [
        {
          "output_type": "display_data",
          "data": {
            "text/plain": [
              "<Figure size 800x510 with 1 Axes>"
            ],
            "image/png": "[encoded data removed]"
          },
          "metadata": {}
        }
      ],
      "source": [
        "shap.summary_plot(shap_values, X_train, show = False, color_bar = False)"
      ]
    },
    {
      "cell_type": "code",
      "execution_count": 70,
      "metadata": {
        "id": "DrMAhnkXe9_H"
      },
      "outputs": [],
      "source": [
        "# predictions on test\n",
        "y_test_pred = cbm_classifier.predict_proba(X_test)"
      ]
    },
    {
      "cell_type": "code",
      "execution_count": 71,
      "metadata": {
        "id": "vwM8pT29e9_H",
        "colab": {
          "base_uri": "https://localhost:8080/",
          "height": 0
        },
        "outputId": "89485f41-4ae0-4578-c93d-105a48e1c2dd"
      },
      "outputs": [
        {
          "output_type": "stream",
          "name": "stdout",
          "text": [
            "ROC AUC score = 0.68\n"
          ]
        }
      ],
      "source": [
        "from sklearn.metrics import roc_auc_score\n",
        "\n",
        "print(f\"ROC AUC score = {roc_auc_score(y_test, y_test_pred[:, 1]):.2f}\")"
      ]
    },
    {
      "cell_type": "markdown",
      "metadata": {
        "id": "9jU-FvCge9_H"
      },
      "source": [
        "# TODO\n",
        "- Estimate the performance of the model on the test set using Precision@K, MRR, MAP@K: LightFM seperately, LightFM + Ranker"
      ]
    },
    {
      "cell_type": "markdown",
      "source": [
        "###LightFM + Ranker"
      ],
      "metadata": {
        "id": "03trfKUAwAhQ"
      }
    },
    {
      "cell_type": "code",
      "execution_count": 128,
      "metadata": {
        "id": "_y6zlGT-e9_H"
      },
      "outputs": [],
      "source": [
        "def precission_at_k(y_true: np.array, y_pred: np.array, k: int) -> float:\n",
        "\n",
        "    argsort = np.argsort(y_pred)[::-1]\n",
        "    y_true_sorted = y_true[argsort]\n",
        "    true_positives = y_true_sorted[:k].sum()\n",
        "\n",
        "    return true_positives / k\n",
        "\n",
        "def mean_p_k(y_true: np.array, y_pred: np.array, k: int):\n",
        "    return np.mean([precission_at_k(a,p,k) for a,p in zip(y_true, y_pred)])"
      ]
    },
    {
      "cell_type": "code",
      "source": [
        "def average_precision(y_true: np.array, y_pred: np.array, k: int) -> float:\n",
        "\n",
        "    if len(y_pred) > k:\n",
        "        y_pred = y_pred[:k]\n",
        "\n",
        "    argsort = np.argsort(y_pred)[::-1]\n",
        "    y_true_sorted = y_true[argsort]\n",
        "\n",
        "    num_hits = 0\n",
        "    score = 0\n",
        "\n",
        "    for i, p in enumerate(y_true_sorted, 1):\n",
        "        if p == 1:\n",
        "            num_hits += 1\n",
        "            score += num_hits / i\n",
        "    if num_hits == 0:\n",
        "        output = 0\n",
        "    \n",
        "    else:\n",
        "        output = score / min(len(y_true), k)\n",
        "\n",
        "    return output\n",
        "\n",
        "def map_k(y_true: np.array, y_pred: np.array, k: int) -> float:\n",
        "    return np.mean([average_precision(a,p,k) for a,p in zip(y_true, y_pred)])"
      ],
      "metadata": {
        "id": "eDrphmrFzzp6"
      },
      "execution_count": 118,
      "outputs": []
    },
    {
      "cell_type": "code",
      "source": [
        "def rr(y_true: np.array, y_pred: np.array) -> float:\n",
        "    \n",
        "    argsort = np.argsort(y_pred)[::-1]\n",
        "    y_true_sorted = y_true[argsort]\n",
        "    for i, val in enumerate(y_true_sorted, 1):     \n",
        "        if val == 1:\n",
        "            return 1 / i\n",
        "    return 0\n",
        "\n",
        "def mrr(y_true: np.array, y_pred: np.array):\n",
        "    return np.mean([rr(a,p) for a,p in zip(y_true, y_pred)])"
      ],
      "metadata": {
        "id": "V0GqEcLDz601"
      },
      "execution_count": 122,
      "outputs": []
    },
    {
      "cell_type": "code",
      "source": [
        "cbm_test_set['preds'] = y_test_pred[:, 1]\n",
        "cbm_test_set['preds'] = cbm_test_set['preds'].apply(lambda x: int(x))"
      ],
      "metadata": {
        "id": "50blQ00c1saj"
      },
      "execution_count": 98,
      "outputs": []
    },
    {
      "cell_type": "code",
      "source": [
        "y_pred_new = cbm_test_set.groupby('user_id')['preds'].apply(lambda x: np.array(x))\n",
        "y_pred_new.values"
      ],
      "metadata": {
        "colab": {
          "base_uri": "https://localhost:8080/"
        },
        "id": "w8UaoXFs6eRs",
        "outputId": "ec28b501-064c-407f-b078-436f0438d274"
      },
      "execution_count": 104,
      "outputs": [
        {
          "output_type": "execute_result",
          "data": {
            "text/plain": [
              "array([array([0, 0]), array([0, 0, 0, 0, 0, 0]), array([0, 0]), ...,\n",
              "       array([0, 0, 0]), array([0, 0]), array([0])], dtype=object)"
            ]
          },
          "metadata": {},
          "execution_count": 104
        }
      ]
    },
    {
      "cell_type": "code",
      "source": [
        "y_test_new = cbm_test_set.groupby('user_id')['target'].apply(lambda x: np.array(x))\n",
        "y_test_new.values"
      ],
      "metadata": {
        "colab": {
          "base_uri": "https://localhost:8080/"
        },
        "id": "PaHsx6hL7qMU",
        "outputId": "dab7e001-e25e-43cc-84e8-975ca71474d6"
      },
      "execution_count": 105,
      "outputs": [
        {
          "output_type": "execute_result",
          "data": {
            "text/plain": [
              "array([array([0, 0], dtype=int64), array([0, 1, 1, 0, 0, 1], dtype=int64),\n",
              "       array([0, 0], dtype=int64), ..., array([0, 0, 0], dtype=int64),\n",
              "       array([0, 0], dtype=int64), array([0], dtype=int64)], dtype=object)"
            ]
          },
          "metadata": {},
          "execution_count": 105
        }
      ]
    },
    {
      "cell_type": "code",
      "source": [
        "print('Mean Precision@10 {}'.format(mean_p_k(y_test_new, y_pred_new, k=10)))\n",
        "print('MAP@10 {}'.format(map_k(y_test_new, y_pred_new, k=10)))\n",
        "print('MRR {}'.format(mrr(y_test_new, y_pred_new)))"
      ],
      "metadata": {
        "colab": {
          "base_uri": "https://localhost:8080/"
        },
        "id": "bdS--4Hd0BHi",
        "outputId": "5600a17d-5019-4570-91ab-0c126d54a9ef"
      },
      "execution_count": 129,
      "outputs": [
        {
          "output_type": "stream",
          "name": "stdout",
          "text": [
            "Precision@10 0.05801885048974312\n",
            "MAP@10 0.16657163192970434\n",
            "MRR 0.30762476788904436\n"
          ]
        }
      ]
    },
    {
      "cell_type": "markdown",
      "source": [
        "### LightFM"
      ],
      "metadata": {
        "id": "QA2hn25Pv8n0"
      }
    },
    {
      "cell_type": "code",
      "execution_count": 131,
      "metadata": {
        "id": "PakzgHcWHIIP"
      },
      "outputs": [],
      "source": [
        "#preparing predictions for validation\n",
        "y_pred = test_preds.groupby('user_id')['rank'].apply(lambda x: np.array(x))"
      ]
    },
    {
      "cell_type": "code",
      "execution_count": 132,
      "metadata": {
        "id": "eoajzOKqHIIQ"
      },
      "outputs": [],
      "source": [
        "#preparing target for validation\n",
        "y_true = test_preds.merge(interactions, on=['user_id', 'item_id'], how='left')\n",
        "y_true['last_watch_dt'] = y_true['last_watch_dt'].fillna(0)\n",
        "\n",
        "y_true.loc[y_true.last_watch_dt!=0, 'last_watch_dt'] = 1\n",
        "\n",
        "y_true = y_true.groupby('user_id')['last_watch_dt'].apply(lambda x: np.array(x))"
      ]
    },
    {
      "cell_type": "code",
      "execution_count": 133,
      "metadata": {
        "id": "cnB-uOONHIIS"
      },
      "outputs": [],
      "source": [
        "#MRR\n",
        "def reciprocal_rank(y_true: np.array, y_pred: np.array) -> float:\n",
        "    \n",
        "    argsort = np.argsort(y_pred)[::-1]\n",
        "    y_true_sorted = y_true[argsort]\n",
        "    for i, val in enumerate(y_true_sorted, 1):     \n",
        "        if val == 1:\n",
        "            return 1 / i\n",
        "    return 0\n",
        "\n",
        "MRR = []\n",
        "for i, a in zip(y_true, y_pred):\n",
        "    #print('MRR: {}'.format(reciprocal_rank(i, a)))\n",
        "    MRR.append(reciprocal_rank(i, a))"
      ]
    },
    {
      "cell_type": "code",
      "execution_count": 134,
      "metadata": {
        "id": "qbxkZIPYHIIQ"
      },
      "outputs": [],
      "source": [
        "#metrics calc\n",
        "#PRECISION@K\n",
        "\n",
        "def precission_at_k(y_true: np.array, y_pred: np.array, k: int) -> float:\n",
        "\n",
        "    argsort = np.argsort(y_pred)[::-1]\n",
        "    y_true_sorted = y_true[argsort]\n",
        "    true_positives = y_true_sorted[:k].sum()\n",
        "\n",
        "    return true_positives / k\n",
        "\n",
        "precision_k = []\n",
        "for i, a in zip(y_true, y_pred):\n",
        "    #print('PRECISION@10: {}'.format(precission_at_k(i, a, k = 10)))\n",
        "    precision_k.append(precission_at_k(i, a, k = 10))"
      ]
    },
    {
      "cell_type": "code",
      "execution_count": 135,
      "metadata": {
        "id": "9L5f48LTHIIS"
      },
      "outputs": [],
      "source": [
        "#AP@K\n",
        "def average_precision(y_true: np.array, y_pred: np.array, k: int) -> float:\n",
        "    if len(y_pred) > k:\n",
        "        y_pred = y_pred[:k]\n",
        "\n",
        "    argsort = np.argsort(y_pred)[::-1]\n",
        "    y_true_sorted = y_true[argsort]\n",
        "\n",
        "    num_hits = 0\n",
        "    score = 0\n",
        "\n",
        "    for i, p in enumerate(y_true_sorted, 1):\n",
        "        if p == 1:\n",
        "            num_hits += 1\n",
        "            score += num_hits / i\n",
        "    if num_hits == 0:\n",
        "        output = 0\n",
        "    \n",
        "    else:\n",
        "        output = score / min(len(y_true), k)\n",
        "\n",
        "    return output\n",
        "\n",
        "AP_k = []\n",
        "for i, a in zip(y_true, y_pred):\n",
        "    #print('MRR: {}'.format(reciprocal_rank(i, a)))\n",
        "    AP_k.append(average_precision(i, a, 10))"
      ]
    },
    {
      "cell_type": "code",
      "execution_count": 136,
      "metadata": {
        "id": "oYspqMeKHIIT"
      },
      "outputs": [],
      "source": [
        "metrics_data = test_preds.groupby('user_id')['rank'].max().reset_index()\n",
        "metrics_data['rank'] = pd.Series(precision_k)\n",
        "metrics_data = metrics_data.rename(columns={'rank':'precision_k'})\n",
        "metrics_data['mrr'] = pd.Series(MRR)\n",
        "metrics_data['average_precision_k'] = pd.Series(AP_k)"
      ]
    },
    {
      "cell_type": "code",
      "execution_count": 138,
      "metadata": {
        "id": "uEOVYrO2HIIU",
        "outputId": "f0ab22fe-5f03-4c87-eaf7-69593e8d88b7",
        "colab": {
          "base_uri": "https://localhost:8080/",
          "height": 423
        }
      },
      "outputs": [
        {
          "output_type": "execute_result",
          "data": {
            "text/plain": [
              "        user_id  precision_k   mrr  average_precision_k\n",
              "0            11        0.200 0.333                0.053\n",
              "1            21        0.200 0.111                0.031\n",
              "2            30        0.100 0.143                0.014\n",
              "3            37        0.700 0.500                0.406\n",
              "4            53        0.400 1.000                0.249\n",
              "...         ...          ...   ...                  ...\n",
              "144734  1097508        0.600 1.000                0.456\n",
              "144735  1097513        0.600 1.000                0.502\n",
              "144736  1097516        0.300 0.250                0.077\n",
              "144737  1097521        0.300 0.143                0.073\n",
              "144738  1097528        0.100 0.100                0.010\n",
              "\n",
              "[144739 rows x 4 columns]"
            ],
            "text/html": [
              "\n",
              "  <div id=\"df-93672f43-d996-49b8-b41c-d247e0ebf9a2\">\n",
              "    <div class=\"colab-df-container\">\n",
              "      <div>\n",
              "<style scoped>\n",
              "    .dataframe tbody tr th:only-of-type {\n",
              "        vertical-align: middle;\n",
              "    }\n",
              "\n",
              "    .dataframe tbody tr th {\n",
              "        vertical-align: top;\n",
              "    }\n",
              "\n",
              "    .dataframe thead th {\n",
              "        text-align: right;\n",
              "    }\n",
              "</style>\n",
              "<table border=\"1\" class=\"dataframe\">\n",
              "  <thead>\n",
              "    <tr style=\"text-align: right;\">\n",
              "      <th></th>\n",
              "      <th>user_id</th>\n",
              "      <th>precision_k</th>\n",
              "      <th>mrr</th>\n",
              "      <th>average_precision_k</th>\n",
              "    </tr>\n",
              "  </thead>\n",
              "  <tbody>\n",
              "    <tr>\n",
              "      <th>0</th>\n",
              "      <td>11</td>\n",
              "      <td>0.200</td>\n",
              "      <td>0.333</td>\n",
              "      <td>0.053</td>\n",
              "    </tr>\n",
              "    <tr>\n",
              "      <th>1</th>\n",
              "      <td>21</td>\n",
              "      <td>0.200</td>\n",
              "      <td>0.111</td>\n",
              "      <td>0.031</td>\n",
              "    </tr>\n",
              "    <tr>\n",
              "      <th>2</th>\n",
              "      <td>30</td>\n",
              "      <td>0.100</td>\n",
              "      <td>0.143</td>\n",
              "      <td>0.014</td>\n",
              "    </tr>\n",
              "    <tr>\n",
              "      <th>3</th>\n",
              "      <td>37</td>\n",
              "      <td>0.700</td>\n",
              "      <td>0.500</td>\n",
              "      <td>0.406</td>\n",
              "    </tr>\n",
              "    <tr>\n",
              "      <th>4</th>\n",
              "      <td>53</td>\n",
              "      <td>0.400</td>\n",
              "      <td>1.000</td>\n",
              "      <td>0.249</td>\n",
              "    </tr>\n",
              "    <tr>\n",
              "      <th>...</th>\n",
              "      <td>...</td>\n",
              "      <td>...</td>\n",
              "      <td>...</td>\n",
              "      <td>...</td>\n",
              "    </tr>\n",
              "    <tr>\n",
              "      <th>144734</th>\n",
              "      <td>1097508</td>\n",
              "      <td>0.600</td>\n",
              "      <td>1.000</td>\n",
              "      <td>0.456</td>\n",
              "    </tr>\n",
              "    <tr>\n",
              "      <th>144735</th>\n",
              "      <td>1097513</td>\n",
              "      <td>0.600</td>\n",
              "      <td>1.000</td>\n",
              "      <td>0.502</td>\n",
              "    </tr>\n",
              "    <tr>\n",
              "      <th>144736</th>\n",
              "      <td>1097516</td>\n",
              "      <td>0.300</td>\n",
              "      <td>0.250</td>\n",
              "      <td>0.077</td>\n",
              "    </tr>\n",
              "    <tr>\n",
              "      <th>144737</th>\n",
              "      <td>1097521</td>\n",
              "      <td>0.300</td>\n",
              "      <td>0.143</td>\n",
              "      <td>0.073</td>\n",
              "    </tr>\n",
              "    <tr>\n",
              "      <th>144738</th>\n",
              "      <td>1097528</td>\n",
              "      <td>0.100</td>\n",
              "      <td>0.100</td>\n",
              "      <td>0.010</td>\n",
              "    </tr>\n",
              "  </tbody>\n",
              "</table>\n",
              "<p>144739 rows × 4 columns</p>\n",
              "</div>\n",
              "      <button class=\"colab-df-convert\" onclick=\"convertToInteractive('df-93672f43-d996-49b8-b41c-d247e0ebf9a2')\"\n",
              "              title=\"Convert this dataframe to an interactive table.\"\n",
              "              style=\"display:none;\">\n",
              "        \n",
              "  <svg xmlns=\"http://www.w3.org/2000/svg\" height=\"24px\"viewBox=\"0 0 24 24\"\n",
              "       width=\"24px\">\n",
              "    <path d=\"M0 0h24v24H0V0z\" fill=\"none\"/>\n",
              "    <path d=\"M18.56 5.44l.94 2.06.94-2.06 2.06-.94-2.06-.94-.94-2.06-.94 2.06-2.06.94zm-11 1L8.5 8.5l.94-2.06 2.06-.94-2.06-.94L8.5 2.5l-.94 2.06-2.06.94zm10 10l.94 2.06.94-2.06 2.06-.94-2.06-.94-.94-2.06-.94 2.06-2.06.94z\"/><path d=\"M17.41 7.96l-1.37-1.37c-.4-.4-.92-.59-1.43-.59-.52 0-1.04.2-1.43.59L10.3 9.45l-7.72 7.72c-.78.78-.78 2.05 0 2.83L4 21.41c.39.39.9.59 1.41.59.51 0 1.02-.2 1.41-.59l7.78-7.78 2.81-2.81c.8-.78.8-2.07 0-2.86zM5.41 20L4 18.59l7.72-7.72 1.47 1.35L5.41 20z\"/>\n",
              "  </svg>\n",
              "      </button>\n",
              "      \n",
              "  <style>\n",
              "    .colab-df-container {\n",
              "      display:flex;\n",
              "      flex-wrap:wrap;\n",
              "      gap: 12px;\n",
              "    }\n",
              "\n",
              "    .colab-df-convert {\n",
              "      background-color: #E8F0FE;\n",
              "      border: none;\n",
              "      border-radius: 50%;\n",
              "      cursor: pointer;\n",
              "      display: none;\n",
              "      fill: #1967D2;\n",
              "      height: 32px;\n",
              "      padding: 0 0 0 0;\n",
              "      width: 32px;\n",
              "    }\n",
              "\n",
              "    .colab-df-convert:hover {\n",
              "      background-color: #E2EBFA;\n",
              "      box-shadow: 0px 1px 2px rgba(60, 64, 67, 0.3), 0px 1px 3px 1px rgba(60, 64, 67, 0.15);\n",
              "      fill: #174EA6;\n",
              "    }\n",
              "\n",
              "    [theme=dark] .colab-df-convert {\n",
              "      background-color: #3B4455;\n",
              "      fill: #D2E3FC;\n",
              "    }\n",
              "\n",
              "    [theme=dark] .colab-df-convert:hover {\n",
              "      background-color: #434B5C;\n",
              "      box-shadow: 0px 1px 3px 1px rgba(0, 0, 0, 0.15);\n",
              "      filter: drop-shadow(0px 1px 2px rgba(0, 0, 0, 0.3));\n",
              "      fill: #FFFFFF;\n",
              "    }\n",
              "  </style>\n",
              "\n",
              "      <script>\n",
              "        const buttonEl =\n",
              "          document.querySelector('#df-93672f43-d996-49b8-b41c-d247e0ebf9a2 button.colab-df-convert');\n",
              "        buttonEl.style.display =\n",
              "          google.colab.kernel.accessAllowed ? 'block' : 'none';\n",
              "\n",
              "        async function convertToInteractive(key) {\n",
              "          const element = document.querySelector('#df-93672f43-d996-49b8-b41c-d247e0ebf9a2');\n",
              "          const dataTable =\n",
              "            await google.colab.kernel.invokeFunction('convertToInteractive',\n",
              "                                                     [key], {});\n",
              "          if (!dataTable) return;\n",
              "\n",
              "          const docLinkHtml = 'Like what you see? Visit the ' +\n",
              "            '<a target=\"_blank\" href=https://colab.research.google.com/notebooks/data_table.ipynb>data table notebook</a>'\n",
              "            + ' to learn more about interactive tables.';\n",
              "          element.innerHTML = '';\n",
              "          dataTable['output_type'] = 'display_data';\n",
              "          await google.colab.output.renderOutput(dataTable, element);\n",
              "          const docLink = document.createElement('div');\n",
              "          docLink.innerHTML = docLinkHtml;\n",
              "          element.appendChild(docLink);\n",
              "        }\n",
              "      </script>\n",
              "    </div>\n",
              "  </div>\n",
              "  "
            ]
          },
          "metadata": {},
          "execution_count": 138
        }
      ],
      "source": [
        "metrics_data"
      ]
    },
    {
      "cell_type": "code",
      "execution_count": 137,
      "metadata": {
        "id": "Au62ZsZEHIIV",
        "outputId": "ea58966b-0190-4a17-d29e-de80c386f770",
        "colab": {
          "base_uri": "https://localhost:8080/"
        }
      },
      "outputs": [
        {
          "output_type": "stream",
          "name": "stdout",
          "text": [
            "Mean average precision at K: 0.13022297250540846\n"
          ]
        }
      ],
      "source": [
        "#as MAP@K means the average AP@k by users so we calculate it as simple average\n",
        "print('Mean average precision at K: {}'.format(metrics_data.average_precision_k.mean()))"
      ]
    }
  ],
  "metadata": {
    "kernelspec": {
      "display_name": "rekko-handbook-FR-mDNY1-py3.9",
      "language": "python",
      "name": "python3"
    },
    "language_info": {
      "codemirror_mode": {
        "name": "ipython",
        "version": 3
      },
      "file_extension": ".py",
      "mimetype": "text/x-python",
      "name": "python",
      "nbconvert_exporter": "python",
      "pygments_lexer": "ipython3",
      "version": "3.9.7"
    },
    "orig_nbformat": 4,
    "vscode": {
      "interpreter": {
        "hash": "f2d007ce7c74fe41dcd6cb53c80a05eb04c24d9c4918ecd21236b3a1c808c520"
      }
    },
    "colab": {
      "provenance": [],
      "collapsed_sections": [
        "JoLPf5_ne9_C",
        "IbuyR6bYe9_G"
      ],
      "include_colab_link": true
    },
    "widgets": {
      "application/vnd.jupyter.widget-state+json": {
        "1f4915851d024ecd96b56c780bdb3120": {
          "model_module": "@jupyter-widgets/controls",
          "model_name": "HBoxModel",
          "model_module_version": "1.5.0",
          "state": {
            "_dom_classes": [],
            "_model_module": "@jupyter-widgets/controls",
            "_model_module_version": "1.5.0",
            "_model_name": "HBoxModel",
            "_view_count": null,
            "_view_module": "@jupyter-widgets/controls",
            "_view_module_version": "1.5.0",
            "_view_name": "HBoxView",
            "box_style": "",
            "children": [
              "IPY_MODEL_49595091bf7242d78937266460c8c3ad",
              "IPY_MODEL_ab13f329bd9c4b7db0827a2d9ff4a33c",
              "IPY_MODEL_cb3effe29add40f1a4e452bb7eb82284"
            ],
            "layout": "IPY_MODEL_398ab73fa3e64aeeb641580986ae3c6f"
          }
        },
        "49595091bf7242d78937266460c8c3ad": {
          "model_module": "@jupyter-widgets/controls",
          "model_name": "HTMLModel",
          "model_module_version": "1.5.0",
          "state": {
            "_dom_classes": [],
            "_model_module": "@jupyter-widgets/controls",
            "_model_module_version": "1.5.0",
            "_model_name": "HTMLModel",
            "_view_count": null,
            "_view_module": "@jupyter-widgets/controls",
            "_view_module_version": "1.5.0",
            "_view_name": "HTMLView",
            "description": "",
            "description_tooltip": null,
            "layout": "IPY_MODEL_e15c0e650d4f42cf8383b8fbcd990040",
            "placeholder": "​",
            "style": "IPY_MODEL_100f2f6a78954de5872ed2e7cb9d66f7",
            "value": "100%"
          }
        },
        "ab13f329bd9c4b7db0827a2d9ff4a33c": {
          "model_module": "@jupyter-widgets/controls",
          "model_name": "FloatProgressModel",
          "model_module_version": "1.5.0",
          "state": {
            "_dom_classes": [],
            "_model_module": "@jupyter-widgets/controls",
            "_model_module_version": "1.5.0",
            "_model_name": "FloatProgressModel",
            "_view_count": null,
            "_view_module": "@jupyter-widgets/controls",
            "_view_module_version": "1.5.0",
            "_view_name": "ProgressView",
            "bar_style": "success",
            "description": "",
            "description_tooltip": null,
            "layout": "IPY_MODEL_06872a6f58b544b2afb0a77b2717288e",
            "max": 20,
            "min": 0,
            "orientation": "horizontal",
            "style": "IPY_MODEL_8cb43be79121491a8230720b23b6b091",
            "value": 20
          }
        },
        "cb3effe29add40f1a4e452bb7eb82284": {
          "model_module": "@jupyter-widgets/controls",
          "model_name": "HTMLModel",
          "model_module_version": "1.5.0",
          "state": {
            "_dom_classes": [],
            "_model_module": "@jupyter-widgets/controls",
            "_model_module_version": "1.5.0",
            "_model_name": "HTMLModel",
            "_view_count": null,
            "_view_module": "@jupyter-widgets/controls",
            "_view_module_version": "1.5.0",
            "_view_name": "HTMLView",
            "description": "",
            "description_tooltip": null,
            "layout": "IPY_MODEL_a3d2c06728874371980d6297bb8e3107",
            "placeholder": "​",
            "style": "IPY_MODEL_1721907367bf48da880a04c7b20c064b",
            "value": " 20/20 [02:05&lt;00:00,  5.79s/it]"
          }
        },
        "398ab73fa3e64aeeb641580986ae3c6f": {
          "model_module": "@jupyter-widgets/base",
          "model_name": "LayoutModel",
          "model_module_version": "1.2.0",
          "state": {
            "_model_module": "@jupyter-widgets/base",
            "_model_module_version": "1.2.0",
            "_model_name": "LayoutModel",
            "_view_count": null,
            "_view_module": "@jupyter-widgets/base",
            "_view_module_version": "1.2.0",
            "_view_name": "LayoutView",
            "align_content": null,
            "align_items": null,
            "align_self": null,
            "border": null,
            "bottom": null,
            "display": null,
            "flex": null,
            "flex_flow": null,
            "grid_area": null,
            "grid_auto_columns": null,
            "grid_auto_flow": null,
            "grid_auto_rows": null,
            "grid_column": null,
            "grid_gap": null,
            "grid_row": null,
            "grid_template_areas": null,
            "grid_template_columns": null,
            "grid_template_rows": null,
            "height": null,
            "justify_content": null,
            "justify_items": null,
            "left": null,
            "margin": null,
            "max_height": null,
            "max_width": null,
            "min_height": null,
            "min_width": null,
            "object_fit": null,
            "object_position": null,
            "order": null,
            "overflow": null,
            "overflow_x": null,
            "overflow_y": null,
            "padding": null,
            "right": null,
            "top": null,
            "visibility": null,
            "width": null
          }
        },
        "e15c0e650d4f42cf8383b8fbcd990040": {
          "model_module": "@jupyter-widgets/base",
          "model_name": "LayoutModel",
          "model_module_version": "1.2.0",
          "state": {
            "_model_module": "@jupyter-widgets/base",
            "_model_module_version": "1.2.0",
            "_model_name": "LayoutModel",
            "_view_count": null,
            "_view_module": "@jupyter-widgets/base",
            "_view_module_version": "1.2.0",
            "_view_name": "LayoutView",
            "align_content": null,
            "align_items": null,
            "align_self": null,
            "border": null,
            "bottom": null,
            "display": null,
            "flex": null,
            "flex_flow": null,
            "grid_area": null,
            "grid_auto_columns": null,
            "grid_auto_flow": null,
            "grid_auto_rows": null,
            "grid_column": null,
            "grid_gap": null,
            "grid_row": null,
            "grid_template_areas": null,
            "grid_template_columns": null,
            "grid_template_rows": null,
            "height": null,
            "justify_content": null,
            "justify_items": null,
            "left": null,
            "margin": null,
            "max_height": null,
            "max_width": null,
            "min_height": null,
            "min_width": null,
            "object_fit": null,
            "object_position": null,
            "order": null,
            "overflow": null,
            "overflow_x": null,
            "overflow_y": null,
            "padding": null,
            "right": null,
            "top": null,
            "visibility": null,
            "width": null
          }
        },
        "100f2f6a78954de5872ed2e7cb9d66f7": {
          "model_module": "@jupyter-widgets/controls",
          "model_name": "DescriptionStyleModel",
          "model_module_version": "1.5.0",
          "state": {
            "_model_module": "@jupyter-widgets/controls",
            "_model_module_version": "1.5.0",
            "_model_name": "DescriptionStyleModel",
            "_view_count": null,
            "_view_module": "@jupyter-widgets/base",
            "_view_module_version": "1.2.0",
            "_view_name": "StyleView",
            "description_width": ""
          }
        },
        "06872a6f58b544b2afb0a77b2717288e": {
          "model_module": "@jupyter-widgets/base",
          "model_name": "LayoutModel",
          "model_module_version": "1.2.0",
          "state": {
            "_model_module": "@jupyter-widgets/base",
            "_model_module_version": "1.2.0",
            "_model_name": "LayoutModel",
            "_view_count": null,
            "_view_module": "@jupyter-widgets/base",
            "_view_module_version": "1.2.0",
            "_view_name": "LayoutView",
            "align_content": null,
            "align_items": null,
            "align_self": null,
            "border": null,
            "bottom": null,
            "display": null,
            "flex": null,
            "flex_flow": null,
            "grid_area": null,
            "grid_auto_columns": null,
            "grid_auto_flow": null,
            "grid_auto_rows": null,
            "grid_column": null,
            "grid_gap": null,
            "grid_row": null,
            "grid_template_areas": null,
            "grid_template_columns": null,
            "grid_template_rows": null,
            "height": null,
            "justify_content": null,
            "justify_items": null,
            "left": null,
            "margin": null,
            "max_height": null,
            "max_width": null,
            "min_height": null,
            "min_width": null,
            "object_fit": null,
            "object_position": null,
            "order": null,
            "overflow": null,
            "overflow_x": null,
            "overflow_y": null,
            "padding": null,
            "right": null,
            "top": null,
            "visibility": null,
            "width": null
          }
        },
        "8cb43be79121491a8230720b23b6b091": {
          "model_module": "@jupyter-widgets/controls",
          "model_name": "ProgressStyleModel",
          "model_module_version": "1.5.0",
          "state": {
            "_model_module": "@jupyter-widgets/controls",
            "_model_module_version": "1.5.0",
            "_model_name": "ProgressStyleModel",
            "_view_count": null,
            "_view_module": "@jupyter-widgets/base",
            "_view_module_version": "1.2.0",
            "_view_name": "StyleView",
            "bar_color": null,
            "description_width": ""
          }
        },
        "a3d2c06728874371980d6297bb8e3107": {
          "model_module": "@jupyter-widgets/base",
          "model_name": "LayoutModel",
          "model_module_version": "1.2.0",
          "state": {
            "_model_module": "@jupyter-widgets/base",
            "_model_module_version": "1.2.0",
            "_model_name": "LayoutModel",
            "_view_count": null,
            "_view_module": "@jupyter-widgets/base",
            "_view_module_version": "1.2.0",
            "_view_name": "LayoutView",
            "align_content": null,
            "align_items": null,
            "align_self": null,
            "border": null,
            "bottom": null,
            "display": null,
            "flex": null,
            "flex_flow": null,
            "grid_area": null,
            "grid_auto_columns": null,
            "grid_auto_flow": null,
            "grid_auto_rows": null,
            "grid_column": null,
            "grid_gap": null,
            "grid_row": null,
            "grid_template_areas": null,
            "grid_template_columns": null,
            "grid_template_rows": null,
            "height": null,
            "justify_content": null,
            "justify_items": null,
            "left": null,
            "margin": null,
            "max_height": null,
            "max_width": null,
            "min_height": null,
            "min_width": null,
            "object_fit": null,
            "object_position": null,
            "order": null,
            "overflow": null,
            "overflow_x": null,
            "overflow_y": null,
            "padding": null,
            "right": null,
            "top": null,
            "visibility": null,
            "width": null
          }
        },
        "1721907367bf48da880a04c7b20c064b": {
          "model_module": "@jupyter-widgets/controls",
          "model_name": "DescriptionStyleModel",
          "model_module_version": "1.5.0",
          "state": {
            "_model_module": "@jupyter-widgets/controls",
            "_model_module_version": "1.5.0",
            "_model_name": "DescriptionStyleModel",
            "_view_count": null,
            "_view_module": "@jupyter-widgets/base",
            "_view_module_version": "1.2.0",
            "_view_name": "StyleView",
            "description_width": ""
          }
        }
      }
    }
  },
  "nbformat": 4,
  "nbformat_minor": 0
}